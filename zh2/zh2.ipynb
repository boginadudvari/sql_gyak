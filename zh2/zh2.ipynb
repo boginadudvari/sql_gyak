{
    "metadata": {
        "kernelspec": {
            "name": "SQL",
            "display_name": "SQL",
            "language": "sql"
        },
        "language_info": {
            "name": "sql",
            "version": ""
        }
    },
    "nbformat_minor": 2,
    "nbformat": 4,
    "cells": [
        {
            "cell_type": "markdown",
            "source": [
                "Listázzuk a foglalások számát szobánként, azon belül a foglalás éve szerint csoportosítva!\n",
                "\n",
                "- Az évnél a Mettől oszlopot használjuk\n",
                "- Jelenítsük meg a részösszegeket és a végösszeget is úgy, hogy ne jelenjen meg minden Oszlop/NULL kombináció!\n",
                "- A részösszegeket jelöljük megfelelően, pl. Részösszeg vagy Szoba összesen"
            ],
            "metadata": {
                "azdata_cell_guid": "bd96d4bf-2f74-4f0a-b782-756100745f5e"
            },
            "attachments": {}
        },
        {
            "cell_type": "code",
            "source": [
                "SELECT sz.SZOBA_ID, \r\n",
                "        IIF(GROUPING_ID(YEAR(f.METTOL)) = 1, 'Összesen', cast(YEAR(f.METTOL) as nvarchar(4))) as 'Év',\r\n",
                "        COUNT(*) as 'Részösszeg'\r\n",
                "FROM Foglalas f JOIN Szoba sz ON f.SZOBA_FK = sz.SZOBA_ID\r\n",
                "GROUP BY ROLLUP(sz.SZOBA_ID, YEAR(f.METTOL))"
            ],
            "metadata": {
                "azdata_cell_guid": "1ab229a0-755e-4805-bbe6-6797070aa999",
                "language": "sql",
                "tags": []
            },
            "outputs": [
                {
                    "output_type": "display_data",
                    "data": {
                        "text/html": "(513 rows affected)"
                    },
                    "metadata": {}
                },
                {
                    "output_type": "display_data",
                    "data": {
                        "text/html": "Total execution time: 00:00:00.040"
                    },
                    "metadata": {}
                },
                {
                    "output_type": "execute_result",
                    "metadata": {},
                    "execution_count": 30,
                    "data": {
                        "application/vnd.dataresource+json": {
                            "schema": {
                                "fields": [
                                    {
                                        "name": "SZOBA_ID"
                                    },
                                    {
                                        "name": "Év"
                                    },
                                    {
                                        "name": "Részösszeg"
                                    }
                                ]
                            },
                            "data": [
                                {
                                    "SZOBA_ID": "1",
                                    "Év": "2016",
                                    "Részösszeg": "8"
                                },
                                {
                                    "SZOBA_ID": "1",
                                    "Év": "Összesen",
                                    "Részösszeg": "8"
                                },
                                {
                                    "SZOBA_ID": "2",
                                    "Év": "2016",
                                    "Részösszeg": "4"
                                },
                                {
                                    "SZOBA_ID": "2",
                                    "Év": "Összesen",
                                    "Részösszeg": "4"
                                },
                                {
                                    "SZOBA_ID": "3",
                                    "Év": "2016",
                                    "Részösszeg": "6"
                                },
                                {
                                    "SZOBA_ID": "3",
                                    "Év": "2017",
                                    "Részösszeg": "2"
                                },
                                {
                                    "SZOBA_ID": "3",
                                    "Év": "Összesen",
                                    "Részösszeg": "8"
                                },
                                {
                                    "SZOBA_ID": "4",
                                    "Év": "2016",
                                    "Részösszeg": "5"
                                },
                                {
                                    "SZOBA_ID": "4",
                                    "Év": "2017",
                                    "Részösszeg": "1"
                                },
                                {
                                    "SZOBA_ID": "4",
                                    "Év": "Összesen",
                                    "Részösszeg": "6"
                                },
                                {
                                    "SZOBA_ID": "5",
                                    "Év": "2016",
                                    "Részösszeg": "4"
                                },
                                {
                                    "SZOBA_ID": "5",
                                    "Év": "Összesen",
                                    "Részösszeg": "4"
                                },
                                {
                                    "SZOBA_ID": "6",
                                    "Év": "2016",
                                    "Részösszeg": "6"
                                },
                                {
                                    "SZOBA_ID": "6",
                                    "Év": "Összesen",
                                    "Részösszeg": "6"
                                },
                                {
                                    "SZOBA_ID": "7",
                                    "Év": "2016",
                                    "Részösszeg": "6"
                                },
                                {
                                    "SZOBA_ID": "7",
                                    "Év": "Összesen",
                                    "Részösszeg": "6"
                                },
                                {
                                    "SZOBA_ID": "8",
                                    "Év": "2016",
                                    "Részösszeg": "5"
                                },
                                {
                                    "SZOBA_ID": "8",
                                    "Év": "Összesen",
                                    "Részösszeg": "5"
                                },
                                {
                                    "SZOBA_ID": "9",
                                    "Év": "2016",
                                    "Részösszeg": "4"
                                },
                                {
                                    "SZOBA_ID": "9",
                                    "Év": "2017",
                                    "Részösszeg": "2"
                                },
                                {
                                    "SZOBA_ID": "9",
                                    "Év": "Összesen",
                                    "Részösszeg": "6"
                                },
                                {
                                    "SZOBA_ID": "10",
                                    "Év": "2016",
                                    "Részösszeg": "4"
                                },
                                {
                                    "SZOBA_ID": "10",
                                    "Év": "Összesen",
                                    "Részösszeg": "4"
                                },
                                {
                                    "SZOBA_ID": "11",
                                    "Év": "2016",
                                    "Részösszeg": "3"
                                },
                                {
                                    "SZOBA_ID": "11",
                                    "Év": "2017",
                                    "Részösszeg": "1"
                                },
                                {
                                    "SZOBA_ID": "11",
                                    "Év": "Összesen",
                                    "Részösszeg": "4"
                                },
                                {
                                    "SZOBA_ID": "12",
                                    "Év": "2016",
                                    "Részösszeg": "8"
                                },
                                {
                                    "SZOBA_ID": "12",
                                    "Év": "2017",
                                    "Részösszeg": "1"
                                },
                                {
                                    "SZOBA_ID": "12",
                                    "Év": "Összesen",
                                    "Részösszeg": "9"
                                },
                                {
                                    "SZOBA_ID": "13",
                                    "Év": "2016",
                                    "Részösszeg": "3"
                                },
                                {
                                    "SZOBA_ID": "13",
                                    "Év": "2017",
                                    "Részösszeg": "1"
                                },
                                {
                                    "SZOBA_ID": "13",
                                    "Év": "Összesen",
                                    "Részösszeg": "4"
                                },
                                {
                                    "SZOBA_ID": "14",
                                    "Év": "2016",
                                    "Részösszeg": "2"
                                },
                                {
                                    "SZOBA_ID": "14",
                                    "Év": "2017",
                                    "Részösszeg": "1"
                                },
                                {
                                    "SZOBA_ID": "14",
                                    "Év": "Összesen",
                                    "Részösszeg": "3"
                                },
                                {
                                    "SZOBA_ID": "15",
                                    "Év": "2016",
                                    "Részösszeg": "4"
                                },
                                {
                                    "SZOBA_ID": "15",
                                    "Év": "2017",
                                    "Részösszeg": "2"
                                },
                                {
                                    "SZOBA_ID": "15",
                                    "Év": "Összesen",
                                    "Részösszeg": "6"
                                },
                                {
                                    "SZOBA_ID": "16",
                                    "Év": "2016",
                                    "Részösszeg": "4"
                                },
                                {
                                    "SZOBA_ID": "16",
                                    "Év": "2017",
                                    "Részösszeg": "1"
                                },
                                {
                                    "SZOBA_ID": "16",
                                    "Év": "Összesen",
                                    "Részösszeg": "5"
                                },
                                {
                                    "SZOBA_ID": "17",
                                    "Év": "2016",
                                    "Részösszeg": "5"
                                },
                                {
                                    "SZOBA_ID": "17",
                                    "Év": "2017",
                                    "Részösszeg": "1"
                                },
                                {
                                    "SZOBA_ID": "17",
                                    "Év": "Összesen",
                                    "Részösszeg": "6"
                                },
                                {
                                    "SZOBA_ID": "18",
                                    "Év": "2016",
                                    "Részösszeg": "5"
                                },
                                {
                                    "SZOBA_ID": "18",
                                    "Év": "2017",
                                    "Részösszeg": "1"
                                },
                                {
                                    "SZOBA_ID": "18",
                                    "Év": "Összesen",
                                    "Részösszeg": "6"
                                },
                                {
                                    "SZOBA_ID": "19",
                                    "Év": "2016",
                                    "Részösszeg": "5"
                                },
                                {
                                    "SZOBA_ID": "19",
                                    "Év": "2017",
                                    "Részösszeg": "1"
                                },
                                {
                                    "SZOBA_ID": "19",
                                    "Év": "Összesen",
                                    "Részösszeg": "6"
                                },
                                {
                                    "SZOBA_ID": "20",
                                    "Év": "2016",
                                    "Részösszeg": "5"
                                },
                                {
                                    "SZOBA_ID": "20",
                                    "Év": "Összesen",
                                    "Részösszeg": "5"
                                },
                                {
                                    "SZOBA_ID": "21",
                                    "Év": "2016",
                                    "Részösszeg": "4"
                                },
                                {
                                    "SZOBA_ID": "21",
                                    "Év": "Összesen",
                                    "Részösszeg": "4"
                                },
                                {
                                    "SZOBA_ID": "22",
                                    "Év": "2016",
                                    "Részösszeg": "6"
                                },
                                {
                                    "SZOBA_ID": "22",
                                    "Év": "Összesen",
                                    "Részösszeg": "6"
                                },
                                {
                                    "SZOBA_ID": "23",
                                    "Év": "2016",
                                    "Részösszeg": "3"
                                },
                                {
                                    "SZOBA_ID": "23",
                                    "Év": "Összesen",
                                    "Részösszeg": "3"
                                },
                                {
                                    "SZOBA_ID": "24",
                                    "Év": "2016",
                                    "Részösszeg": "2"
                                },
                                {
                                    "SZOBA_ID": "24",
                                    "Év": "2017",
                                    "Részösszeg": "1"
                                },
                                {
                                    "SZOBA_ID": "24",
                                    "Év": "Összesen",
                                    "Részösszeg": "3"
                                },
                                {
                                    "SZOBA_ID": "25",
                                    "Év": "2016",
                                    "Részösszeg": "2"
                                },
                                {
                                    "SZOBA_ID": "25",
                                    "Év": "Összesen",
                                    "Részösszeg": "2"
                                },
                                {
                                    "SZOBA_ID": "26",
                                    "Év": "2016",
                                    "Részösszeg": "2"
                                },
                                {
                                    "SZOBA_ID": "26",
                                    "Év": "Összesen",
                                    "Részösszeg": "2"
                                },
                                {
                                    "SZOBA_ID": "27",
                                    "Év": "2016",
                                    "Részösszeg": "6"
                                },
                                {
                                    "SZOBA_ID": "27",
                                    "Év": "2017",
                                    "Részösszeg": "1"
                                },
                                {
                                    "SZOBA_ID": "27",
                                    "Év": "Összesen",
                                    "Részösszeg": "7"
                                },
                                {
                                    "SZOBA_ID": "28",
                                    "Év": "2016",
                                    "Részösszeg": "5"
                                },
                                {
                                    "SZOBA_ID": "28",
                                    "Év": "2017",
                                    "Részösszeg": "1"
                                },
                                {
                                    "SZOBA_ID": "28",
                                    "Év": "Összesen",
                                    "Részösszeg": "6"
                                },
                                {
                                    "SZOBA_ID": "29",
                                    "Év": "2016",
                                    "Részösszeg": "5"
                                },
                                {
                                    "SZOBA_ID": "29",
                                    "Év": "2017",
                                    "Részösszeg": "1"
                                },
                                {
                                    "SZOBA_ID": "29",
                                    "Év": "Összesen",
                                    "Részösszeg": "6"
                                },
                                {
                                    "SZOBA_ID": "30",
                                    "Év": "2016",
                                    "Részösszeg": "3"
                                },
                                {
                                    "SZOBA_ID": "30",
                                    "Év": "Összesen",
                                    "Részösszeg": "3"
                                },
                                {
                                    "SZOBA_ID": "31",
                                    "Év": "2016",
                                    "Részösszeg": "3"
                                },
                                {
                                    "SZOBA_ID": "31",
                                    "Év": "Összesen",
                                    "Részösszeg": "3"
                                },
                                {
                                    "SZOBA_ID": "32",
                                    "Év": "2016",
                                    "Részösszeg": "1"
                                },
                                {
                                    "SZOBA_ID": "32",
                                    "Év": "Összesen",
                                    "Részösszeg": "1"
                                },
                                {
                                    "SZOBA_ID": "33",
                                    "Év": "2016",
                                    "Részösszeg": "6"
                                },
                                {
                                    "SZOBA_ID": "33",
                                    "Év": "Összesen",
                                    "Részösszeg": "6"
                                },
                                {
                                    "SZOBA_ID": "34",
                                    "Év": "2016",
                                    "Részösszeg": "4"
                                },
                                {
                                    "SZOBA_ID": "34",
                                    "Év": "Összesen",
                                    "Részösszeg": "4"
                                },
                                {
                                    "SZOBA_ID": "35",
                                    "Év": "2016",
                                    "Részösszeg": "6"
                                },
                                {
                                    "SZOBA_ID": "35",
                                    "Év": "2017",
                                    "Részösszeg": "3"
                                },
                                {
                                    "SZOBA_ID": "35",
                                    "Év": "Összesen",
                                    "Részösszeg": "9"
                                },
                                {
                                    "SZOBA_ID": "36",
                                    "Év": "2016",
                                    "Részösszeg": "6"
                                },
                                {
                                    "SZOBA_ID": "36",
                                    "Év": "Összesen",
                                    "Részösszeg": "6"
                                },
                                {
                                    "SZOBA_ID": "37",
                                    "Év": "2016",
                                    "Részösszeg": "3"
                                },
                                {
                                    "SZOBA_ID": "37",
                                    "Év": "Összesen",
                                    "Részösszeg": "3"
                                },
                                {
                                    "SZOBA_ID": "38",
                                    "Év": "2016",
                                    "Részösszeg": "5"
                                },
                                {
                                    "SZOBA_ID": "38",
                                    "Év": "2017",
                                    "Részösszeg": "3"
                                },
                                {
                                    "SZOBA_ID": "38",
                                    "Év": "Összesen",
                                    "Részösszeg": "8"
                                },
                                {
                                    "SZOBA_ID": "39",
                                    "Év": "2016",
                                    "Részösszeg": "4"
                                },
                                {
                                    "SZOBA_ID": "39",
                                    "Év": "2017",
                                    "Részösszeg": "3"
                                },
                                {
                                    "SZOBA_ID": "39",
                                    "Év": "Összesen",
                                    "Részösszeg": "7"
                                },
                                {
                                    "SZOBA_ID": "40",
                                    "Év": "2016",
                                    "Részösszeg": "4"
                                },
                                {
                                    "SZOBA_ID": "40",
                                    "Év": "Összesen",
                                    "Részösszeg": "4"
                                },
                                {
                                    "SZOBA_ID": "41",
                                    "Év": "2016",
                                    "Részösszeg": "2"
                                },
                                {
                                    "SZOBA_ID": "41",
                                    "Év": "Összesen",
                                    "Részösszeg": "2"
                                },
                                {
                                    "SZOBA_ID": "42",
                                    "Év": "2016",
                                    "Részösszeg": "5"
                                },
                                {
                                    "SZOBA_ID": "42",
                                    "Év": "2017",
                                    "Részösszeg": "1"
                                },
                                {
                                    "SZOBA_ID": "42",
                                    "Év": "Összesen",
                                    "Részösszeg": "6"
                                },
                                {
                                    "SZOBA_ID": "43",
                                    "Év": "2016",
                                    "Részösszeg": "6"
                                },
                                {
                                    "SZOBA_ID": "43",
                                    "Év": "2017",
                                    "Részösszeg": "2"
                                },
                                {
                                    "SZOBA_ID": "43",
                                    "Év": "Összesen",
                                    "Részösszeg": "8"
                                },
                                {
                                    "SZOBA_ID": "44",
                                    "Év": "2016",
                                    "Részösszeg": "4"
                                },
                                {
                                    "SZOBA_ID": "44",
                                    "Év": "2017",
                                    "Részösszeg": "2"
                                },
                                {
                                    "SZOBA_ID": "44",
                                    "Év": "Összesen",
                                    "Részösszeg": "6"
                                },
                                {
                                    "SZOBA_ID": "45",
                                    "Év": "2016",
                                    "Részösszeg": "5"
                                },
                                {
                                    "SZOBA_ID": "45",
                                    "Év": "Összesen",
                                    "Részösszeg": "5"
                                },
                                {
                                    "SZOBA_ID": "46",
                                    "Év": "2016",
                                    "Részösszeg": "3"
                                },
                                {
                                    "SZOBA_ID": "46",
                                    "Év": "2017",
                                    "Részösszeg": "1"
                                },
                                {
                                    "SZOBA_ID": "46",
                                    "Év": "Összesen",
                                    "Részösszeg": "4"
                                },
                                {
                                    "SZOBA_ID": "47",
                                    "Év": "2016",
                                    "Részösszeg": "2"
                                },
                                {
                                    "SZOBA_ID": "47",
                                    "Év": "Összesen",
                                    "Részösszeg": "2"
                                },
                                {
                                    "SZOBA_ID": "48",
                                    "Év": "2016",
                                    "Részösszeg": "6"
                                },
                                {
                                    "SZOBA_ID": "48",
                                    "Év": "2017",
                                    "Részösszeg": "3"
                                },
                                {
                                    "SZOBA_ID": "48",
                                    "Év": "Összesen",
                                    "Részösszeg": "9"
                                },
                                {
                                    "SZOBA_ID": "49",
                                    "Év": "2016",
                                    "Részösszeg": "6"
                                },
                                {
                                    "SZOBA_ID": "49",
                                    "Év": "2017",
                                    "Részösszeg": "1"
                                },
                                {
                                    "SZOBA_ID": "49",
                                    "Év": "Összesen",
                                    "Részösszeg": "7"
                                },
                                {
                                    "SZOBA_ID": "50",
                                    "Év": "2016",
                                    "Részösszeg": "4"
                                },
                                {
                                    "SZOBA_ID": "50",
                                    "Év": "Összesen",
                                    "Részösszeg": "4"
                                },
                                {
                                    "SZOBA_ID": "51",
                                    "Év": "2016",
                                    "Részösszeg": "3"
                                },
                                {
                                    "SZOBA_ID": "51",
                                    "Év": "2017",
                                    "Részösszeg": "2"
                                },
                                {
                                    "SZOBA_ID": "51",
                                    "Év": "Összesen",
                                    "Részösszeg": "5"
                                },
                                {
                                    "SZOBA_ID": "52",
                                    "Év": "2016",
                                    "Részösszeg": "3"
                                },
                                {
                                    "SZOBA_ID": "52",
                                    "Év": "2017",
                                    "Részösszeg": "2"
                                },
                                {
                                    "SZOBA_ID": "52",
                                    "Év": "Összesen",
                                    "Részösszeg": "5"
                                },
                                {
                                    "SZOBA_ID": "53",
                                    "Év": "2016",
                                    "Részösszeg": "2"
                                },
                                {
                                    "SZOBA_ID": "53",
                                    "Év": "Összesen",
                                    "Részösszeg": "2"
                                },
                                {
                                    "SZOBA_ID": "54",
                                    "Év": "2016",
                                    "Részösszeg": "6"
                                },
                                {
                                    "SZOBA_ID": "54",
                                    "Év": "Összesen",
                                    "Részösszeg": "6"
                                },
                                {
                                    "SZOBA_ID": "55",
                                    "Év": "2016",
                                    "Részösszeg": "6"
                                },
                                {
                                    "SZOBA_ID": "55",
                                    "Év": "2017",
                                    "Részösszeg": "2"
                                },
                                {
                                    "SZOBA_ID": "55",
                                    "Év": "Összesen",
                                    "Részösszeg": "8"
                                },
                                {
                                    "SZOBA_ID": "56",
                                    "Év": "2016",
                                    "Részösszeg": "2"
                                },
                                {
                                    "SZOBA_ID": "56",
                                    "Év": "Összesen",
                                    "Részösszeg": "2"
                                },
                                {
                                    "SZOBA_ID": "57",
                                    "Év": "2016",
                                    "Részösszeg": "2"
                                },
                                {
                                    "SZOBA_ID": "57",
                                    "Év": "2017",
                                    "Részösszeg": "2"
                                },
                                {
                                    "SZOBA_ID": "57",
                                    "Év": "Összesen",
                                    "Részösszeg": "4"
                                },
                                {
                                    "SZOBA_ID": "58",
                                    "Év": "2016",
                                    "Részösszeg": "12"
                                },
                                {
                                    "SZOBA_ID": "58",
                                    "Év": "2017",
                                    "Részösszeg": "1"
                                },
                                {
                                    "SZOBA_ID": "58",
                                    "Év": "Összesen",
                                    "Részösszeg": "13"
                                },
                                {
                                    "SZOBA_ID": "59",
                                    "Év": "2016",
                                    "Részösszeg": "6"
                                },
                                {
                                    "SZOBA_ID": "59",
                                    "Év": "2017",
                                    "Részösszeg": "1"
                                },
                                {
                                    "SZOBA_ID": "59",
                                    "Év": "Összesen",
                                    "Részösszeg": "7"
                                },
                                {
                                    "SZOBA_ID": "60",
                                    "Év": "2016",
                                    "Részösszeg": "1"
                                },
                                {
                                    "SZOBA_ID": "60",
                                    "Év": "Összesen",
                                    "Részösszeg": "1"
                                },
                                {
                                    "SZOBA_ID": "61",
                                    "Év": "2016",
                                    "Részösszeg": "4"
                                },
                                {
                                    "SZOBA_ID": "61",
                                    "Év": "2017",
                                    "Részösszeg": "1"
                                },
                                {
                                    "SZOBA_ID": "61",
                                    "Év": "Összesen",
                                    "Részösszeg": "5"
                                },
                                {
                                    "SZOBA_ID": "62",
                                    "Év": "2016",
                                    "Részösszeg": "4"
                                },
                                {
                                    "SZOBA_ID": "62",
                                    "Év": "2017",
                                    "Részösszeg": "1"
                                },
                                {
                                    "SZOBA_ID": "62",
                                    "Év": "Összesen",
                                    "Részösszeg": "5"
                                },
                                {
                                    "SZOBA_ID": "63",
                                    "Év": "2016",
                                    "Részösszeg": "4"
                                },
                                {
                                    "SZOBA_ID": "63",
                                    "Év": "Összesen",
                                    "Részösszeg": "4"
                                },
                                {
                                    "SZOBA_ID": "64",
                                    "Év": "2016",
                                    "Részösszeg": "3"
                                },
                                {
                                    "SZOBA_ID": "64",
                                    "Év": "2017",
                                    "Részösszeg": "3"
                                },
                                {
                                    "SZOBA_ID": "64",
                                    "Év": "Összesen",
                                    "Részösszeg": "6"
                                },
                                {
                                    "SZOBA_ID": "65",
                                    "Év": "2016",
                                    "Részösszeg": "1"
                                },
                                {
                                    "SZOBA_ID": "65",
                                    "Év": "Összesen",
                                    "Részösszeg": "1"
                                },
                                {
                                    "SZOBA_ID": "66",
                                    "Év": "2016",
                                    "Részösszeg": "4"
                                },
                                {
                                    "SZOBA_ID": "66",
                                    "Év": "Összesen",
                                    "Részösszeg": "4"
                                },
                                {
                                    "SZOBA_ID": "67",
                                    "Év": "2016",
                                    "Részösszeg": "4"
                                },
                                {
                                    "SZOBA_ID": "67",
                                    "Év": "2017",
                                    "Részösszeg": "2"
                                },
                                {
                                    "SZOBA_ID": "67",
                                    "Év": "Összesen",
                                    "Részösszeg": "6"
                                },
                                {
                                    "SZOBA_ID": "68",
                                    "Év": "2016",
                                    "Részösszeg": "3"
                                },
                                {
                                    "SZOBA_ID": "68",
                                    "Év": "Összesen",
                                    "Részösszeg": "3"
                                },
                                {
                                    "SZOBA_ID": "69",
                                    "Év": "2016",
                                    "Részösszeg": "4"
                                },
                                {
                                    "SZOBA_ID": "69",
                                    "Év": "Összesen",
                                    "Részösszeg": "4"
                                },
                                {
                                    "SZOBA_ID": "70",
                                    "Év": "2016",
                                    "Részösszeg": "10"
                                },
                                {
                                    "SZOBA_ID": "70",
                                    "Év": "2017",
                                    "Részösszeg": "1"
                                },
                                {
                                    "SZOBA_ID": "70",
                                    "Év": "Összesen",
                                    "Részösszeg": "11"
                                },
                                {
                                    "SZOBA_ID": "71",
                                    "Év": "2016",
                                    "Részösszeg": "3"
                                },
                                {
                                    "SZOBA_ID": "71",
                                    "Év": "Összesen",
                                    "Részösszeg": "3"
                                },
                                {
                                    "SZOBA_ID": "72",
                                    "Év": "2016",
                                    "Részösszeg": "4"
                                },
                                {
                                    "SZOBA_ID": "72",
                                    "Év": "Összesen",
                                    "Részösszeg": "4"
                                },
                                {
                                    "SZOBA_ID": "73",
                                    "Év": "2016",
                                    "Részösszeg": "4"
                                },
                                {
                                    "SZOBA_ID": "73",
                                    "Év": "Összesen",
                                    "Részösszeg": "4"
                                },
                                {
                                    "SZOBA_ID": "74",
                                    "Év": "2016",
                                    "Részösszeg": "9"
                                },
                                {
                                    "SZOBA_ID": "74",
                                    "Év": "Összesen",
                                    "Részösszeg": "9"
                                },
                                {
                                    "SZOBA_ID": "75",
                                    "Év": "2016",
                                    "Részösszeg": "1"
                                },
                                {
                                    "SZOBA_ID": "75",
                                    "Év": "2017",
                                    "Részösszeg": "2"
                                },
                                {
                                    "SZOBA_ID": "75",
                                    "Év": "Összesen",
                                    "Részösszeg": "3"
                                },
                                {
                                    "SZOBA_ID": "76",
                                    "Év": "2016",
                                    "Részösszeg": "2"
                                },
                                {
                                    "SZOBA_ID": "76",
                                    "Év": "2017",
                                    "Részösszeg": "1"
                                },
                                {
                                    "SZOBA_ID": "76",
                                    "Év": "Összesen",
                                    "Részösszeg": "3"
                                },
                                {
                                    "SZOBA_ID": "77",
                                    "Év": "2016",
                                    "Részösszeg": "4"
                                },
                                {
                                    "SZOBA_ID": "77",
                                    "Év": "2017",
                                    "Részösszeg": "2"
                                },
                                {
                                    "SZOBA_ID": "77",
                                    "Év": "Összesen",
                                    "Részösszeg": "6"
                                },
                                {
                                    "SZOBA_ID": "78",
                                    "Év": "2016",
                                    "Részösszeg": "5"
                                },
                                {
                                    "SZOBA_ID": "78",
                                    "Év": "2017",
                                    "Részösszeg": "1"
                                },
                                {
                                    "SZOBA_ID": "78",
                                    "Év": "Összesen",
                                    "Részösszeg": "6"
                                },
                                {
                                    "SZOBA_ID": "79",
                                    "Év": "2016",
                                    "Részösszeg": "4"
                                },
                                {
                                    "SZOBA_ID": "79",
                                    "Év": "2017",
                                    "Részösszeg": "1"
                                },
                                {
                                    "SZOBA_ID": "79",
                                    "Év": "Összesen",
                                    "Részösszeg": "5"
                                },
                                {
                                    "SZOBA_ID": "80",
                                    "Év": "2016",
                                    "Részösszeg": "7"
                                },
                                {
                                    "SZOBA_ID": "80",
                                    "Év": "Összesen",
                                    "Részösszeg": "7"
                                },
                                {
                                    "SZOBA_ID": "81",
                                    "Év": "2016",
                                    "Részösszeg": "1"
                                },
                                {
                                    "SZOBA_ID": "81",
                                    "Év": "2017",
                                    "Részösszeg": "4"
                                },
                                {
                                    "SZOBA_ID": "81",
                                    "Év": "Összesen",
                                    "Részösszeg": "5"
                                },
                                {
                                    "SZOBA_ID": "82",
                                    "Év": "2016",
                                    "Részösszeg": "6"
                                },
                                {
                                    "SZOBA_ID": "82",
                                    "Év": "Összesen",
                                    "Részösszeg": "6"
                                },
                                {
                                    "SZOBA_ID": "83",
                                    "Év": "2016",
                                    "Részösszeg": "8"
                                },
                                {
                                    "SZOBA_ID": "83",
                                    "Év": "Összesen",
                                    "Részösszeg": "8"
                                },
                                {
                                    "SZOBA_ID": "84",
                                    "Év": "2016",
                                    "Részösszeg": "4"
                                },
                                {
                                    "SZOBA_ID": "84",
                                    "Év": "Összesen",
                                    "Részösszeg": "4"
                                },
                                {
                                    "SZOBA_ID": "85",
                                    "Év": "2016",
                                    "Részösszeg": "3"
                                },
                                {
                                    "SZOBA_ID": "85",
                                    "Év": "2017",
                                    "Részösszeg": "1"
                                },
                                {
                                    "SZOBA_ID": "85",
                                    "Év": "Összesen",
                                    "Részösszeg": "4"
                                },
                                {
                                    "SZOBA_ID": "86",
                                    "Év": "2016",
                                    "Részösszeg": "4"
                                },
                                {
                                    "SZOBA_ID": "86",
                                    "Év": "2017",
                                    "Részösszeg": "1"
                                },
                                {
                                    "SZOBA_ID": "86",
                                    "Év": "Összesen",
                                    "Részösszeg": "5"
                                },
                                {
                                    "SZOBA_ID": "87",
                                    "Év": "2016",
                                    "Részösszeg": "4"
                                },
                                {
                                    "SZOBA_ID": "87",
                                    "Év": "2017",
                                    "Részösszeg": "1"
                                },
                                {
                                    "SZOBA_ID": "87",
                                    "Év": "Összesen",
                                    "Részösszeg": "5"
                                },
                                {
                                    "SZOBA_ID": "88",
                                    "Év": "2016",
                                    "Részösszeg": "6"
                                },
                                {
                                    "SZOBA_ID": "88",
                                    "Év": "2017",
                                    "Részösszeg": "2"
                                },
                                {
                                    "SZOBA_ID": "88",
                                    "Év": "Összesen",
                                    "Részösszeg": "8"
                                },
                                {
                                    "SZOBA_ID": "89",
                                    "Év": "2016",
                                    "Részösszeg": "7"
                                },
                                {
                                    "SZOBA_ID": "89",
                                    "Év": "2017",
                                    "Részösszeg": "1"
                                },
                                {
                                    "SZOBA_ID": "89",
                                    "Év": "Összesen",
                                    "Részösszeg": "8"
                                },
                                {
                                    "SZOBA_ID": "90",
                                    "Év": "2016",
                                    "Részösszeg": "4"
                                },
                                {
                                    "SZOBA_ID": "90",
                                    "Év": "Összesen",
                                    "Részösszeg": "4"
                                },
                                {
                                    "SZOBA_ID": "91",
                                    "Év": "2016",
                                    "Részösszeg": "4"
                                },
                                {
                                    "SZOBA_ID": "91",
                                    "Év": "Összesen",
                                    "Részösszeg": "4"
                                },
                                {
                                    "SZOBA_ID": "92",
                                    "Év": "2016",
                                    "Részösszeg": "4"
                                },
                                {
                                    "SZOBA_ID": "92",
                                    "Év": "2017",
                                    "Részösszeg": "2"
                                },
                                {
                                    "SZOBA_ID": "92",
                                    "Év": "Összesen",
                                    "Részösszeg": "6"
                                },
                                {
                                    "SZOBA_ID": "93",
                                    "Év": "2016",
                                    "Részösszeg": "5"
                                },
                                {
                                    "SZOBA_ID": "93",
                                    "Év": "Összesen",
                                    "Részösszeg": "5"
                                },
                                {
                                    "SZOBA_ID": "94",
                                    "Év": "2016",
                                    "Részösszeg": "8"
                                },
                                {
                                    "SZOBA_ID": "94",
                                    "Év": "2017",
                                    "Részösszeg": "2"
                                },
                                {
                                    "SZOBA_ID": "94",
                                    "Év": "Összesen",
                                    "Részösszeg": "10"
                                },
                                {
                                    "SZOBA_ID": "95",
                                    "Év": "2016",
                                    "Részösszeg": "3"
                                },
                                {
                                    "SZOBA_ID": "95",
                                    "Év": "2017",
                                    "Részösszeg": "1"
                                },
                                {
                                    "SZOBA_ID": "95",
                                    "Év": "Összesen",
                                    "Részösszeg": "4"
                                },
                                {
                                    "SZOBA_ID": "96",
                                    "Év": "2016",
                                    "Részösszeg": "5"
                                },
                                {
                                    "SZOBA_ID": "96",
                                    "Év": "2017",
                                    "Részösszeg": "2"
                                },
                                {
                                    "SZOBA_ID": "96",
                                    "Év": "Összesen",
                                    "Részösszeg": "7"
                                },
                                {
                                    "SZOBA_ID": "97",
                                    "Év": "2016",
                                    "Részösszeg": "5"
                                },
                                {
                                    "SZOBA_ID": "97",
                                    "Év": "2017",
                                    "Részösszeg": "2"
                                },
                                {
                                    "SZOBA_ID": "97",
                                    "Év": "Összesen",
                                    "Részösszeg": "7"
                                },
                                {
                                    "SZOBA_ID": "98",
                                    "Év": "2016",
                                    "Részösszeg": "4"
                                },
                                {
                                    "SZOBA_ID": "98",
                                    "Év": "Összesen",
                                    "Részösszeg": "4"
                                },
                                {
                                    "SZOBA_ID": "99",
                                    "Év": "2016",
                                    "Részösszeg": "4"
                                },
                                {
                                    "SZOBA_ID": "99",
                                    "Év": "2017",
                                    "Részösszeg": "1"
                                },
                                {
                                    "SZOBA_ID": "99",
                                    "Év": "Összesen",
                                    "Részösszeg": "5"
                                },
                                {
                                    "SZOBA_ID": "100",
                                    "Év": "2016",
                                    "Részösszeg": "3"
                                },
                                {
                                    "SZOBA_ID": "100",
                                    "Év": "2017",
                                    "Részösszeg": "1"
                                },
                                {
                                    "SZOBA_ID": "100",
                                    "Év": "Összesen",
                                    "Részösszeg": "4"
                                },
                                {
                                    "SZOBA_ID": "101",
                                    "Év": "2016",
                                    "Részösszeg": "2"
                                },
                                {
                                    "SZOBA_ID": "101",
                                    "Év": "2017",
                                    "Részösszeg": "1"
                                },
                                {
                                    "SZOBA_ID": "101",
                                    "Év": "Összesen",
                                    "Részösszeg": "3"
                                },
                                {
                                    "SZOBA_ID": "102",
                                    "Év": "2016",
                                    "Részösszeg": "2"
                                },
                                {
                                    "SZOBA_ID": "102",
                                    "Év": "Összesen",
                                    "Részösszeg": "2"
                                },
                                {
                                    "SZOBA_ID": "103",
                                    "Év": "2016",
                                    "Részösszeg": "3"
                                },
                                {
                                    "SZOBA_ID": "103",
                                    "Év": "2017",
                                    "Részösszeg": "1"
                                },
                                {
                                    "SZOBA_ID": "103",
                                    "Év": "Összesen",
                                    "Részösszeg": "4"
                                },
                                {
                                    "SZOBA_ID": "104",
                                    "Év": "2016",
                                    "Részösszeg": "2"
                                },
                                {
                                    "SZOBA_ID": "104",
                                    "Év": "2017",
                                    "Részösszeg": "2"
                                },
                                {
                                    "SZOBA_ID": "104",
                                    "Év": "Összesen",
                                    "Részösszeg": "4"
                                },
                                {
                                    "SZOBA_ID": "105",
                                    "Év": "2016",
                                    "Részösszeg": "1"
                                },
                                {
                                    "SZOBA_ID": "105",
                                    "Év": "2017",
                                    "Részösszeg": "1"
                                },
                                {
                                    "SZOBA_ID": "105",
                                    "Év": "Összesen",
                                    "Részösszeg": "2"
                                },
                                {
                                    "SZOBA_ID": "106",
                                    "Év": "2016",
                                    "Részösszeg": "5"
                                },
                                {
                                    "SZOBA_ID": "106",
                                    "Év": "2017",
                                    "Részösszeg": "1"
                                },
                                {
                                    "SZOBA_ID": "106",
                                    "Év": "Összesen",
                                    "Részösszeg": "6"
                                },
                                {
                                    "SZOBA_ID": "107",
                                    "Év": "2016",
                                    "Részösszeg": "3"
                                },
                                {
                                    "SZOBA_ID": "107",
                                    "Év": "2017",
                                    "Részösszeg": "2"
                                },
                                {
                                    "SZOBA_ID": "107",
                                    "Év": "Összesen",
                                    "Részösszeg": "5"
                                },
                                {
                                    "SZOBA_ID": "108",
                                    "Év": "2016",
                                    "Részösszeg": "2"
                                },
                                {
                                    "SZOBA_ID": "108",
                                    "Év": "Összesen",
                                    "Részösszeg": "2"
                                },
                                {
                                    "SZOBA_ID": "109",
                                    "Év": "2016",
                                    "Részösszeg": "6"
                                },
                                {
                                    "SZOBA_ID": "109",
                                    "Év": "2017",
                                    "Részösszeg": "1"
                                },
                                {
                                    "SZOBA_ID": "109",
                                    "Év": "Összesen",
                                    "Részösszeg": "7"
                                },
                                {
                                    "SZOBA_ID": "110",
                                    "Év": "2016",
                                    "Részösszeg": "6"
                                },
                                {
                                    "SZOBA_ID": "110",
                                    "Év": "2017",
                                    "Részösszeg": "2"
                                },
                                {
                                    "SZOBA_ID": "110",
                                    "Év": "Összesen",
                                    "Részösszeg": "8"
                                },
                                {
                                    "SZOBA_ID": "111",
                                    "Év": "2016",
                                    "Részösszeg": "5"
                                },
                                {
                                    "SZOBA_ID": "111",
                                    "Év": "Összesen",
                                    "Részösszeg": "5"
                                },
                                {
                                    "SZOBA_ID": "112",
                                    "Év": "2016",
                                    "Részösszeg": "4"
                                },
                                {
                                    "SZOBA_ID": "112",
                                    "Év": "2017",
                                    "Részösszeg": "1"
                                },
                                {
                                    "SZOBA_ID": "112",
                                    "Év": "Összesen",
                                    "Részösszeg": "5"
                                },
                                {
                                    "SZOBA_ID": "113",
                                    "Év": "2016",
                                    "Részösszeg": "3"
                                },
                                {
                                    "SZOBA_ID": "113",
                                    "Év": "2017",
                                    "Részösszeg": "2"
                                },
                                {
                                    "SZOBA_ID": "113",
                                    "Év": "Összesen",
                                    "Részösszeg": "5"
                                },
                                {
                                    "SZOBA_ID": "114",
                                    "Év": "2016",
                                    "Részösszeg": "3"
                                },
                                {
                                    "SZOBA_ID": "114",
                                    "Év": "2017",
                                    "Részösszeg": "1"
                                },
                                {
                                    "SZOBA_ID": "114",
                                    "Év": "Összesen",
                                    "Részösszeg": "4"
                                },
                                {
                                    "SZOBA_ID": "115",
                                    "Év": "2016",
                                    "Részösszeg": "5"
                                },
                                {
                                    "SZOBA_ID": "115",
                                    "Év": "2017",
                                    "Részösszeg": "2"
                                },
                                {
                                    "SZOBA_ID": "115",
                                    "Év": "Összesen",
                                    "Részösszeg": "7"
                                },
                                {
                                    "SZOBA_ID": "116",
                                    "Év": "2017",
                                    "Részösszeg": "2"
                                },
                                {
                                    "SZOBA_ID": "116",
                                    "Év": "Összesen",
                                    "Részösszeg": "2"
                                },
                                {
                                    "SZOBA_ID": "117",
                                    "Év": "2016",
                                    "Részösszeg": "7"
                                },
                                {
                                    "SZOBA_ID": "117",
                                    "Év": "2017",
                                    "Részösszeg": "1"
                                },
                                {
                                    "SZOBA_ID": "117",
                                    "Év": "Összesen",
                                    "Részösszeg": "8"
                                },
                                {
                                    "SZOBA_ID": "118",
                                    "Év": "2016",
                                    "Részösszeg": "5"
                                },
                                {
                                    "SZOBA_ID": "118",
                                    "Év": "2017",
                                    "Részösszeg": "2"
                                },
                                {
                                    "SZOBA_ID": "118",
                                    "Év": "Összesen",
                                    "Részösszeg": "7"
                                },
                                {
                                    "SZOBA_ID": "119",
                                    "Év": "2016",
                                    "Részösszeg": "3"
                                },
                                {
                                    "SZOBA_ID": "119",
                                    "Év": "2017",
                                    "Részösszeg": "2"
                                },
                                {
                                    "SZOBA_ID": "119",
                                    "Év": "Összesen",
                                    "Részösszeg": "5"
                                },
                                {
                                    "SZOBA_ID": "120",
                                    "Év": "2016",
                                    "Részösszeg": "4"
                                },
                                {
                                    "SZOBA_ID": "120",
                                    "Év": "2017",
                                    "Részösszeg": "2"
                                },
                                {
                                    "SZOBA_ID": "120",
                                    "Év": "Összesen",
                                    "Részösszeg": "6"
                                },
                                {
                                    "SZOBA_ID": "121",
                                    "Év": "2016",
                                    "Részösszeg": "8"
                                },
                                {
                                    "SZOBA_ID": "121",
                                    "Év": "Összesen",
                                    "Részösszeg": "8"
                                },
                                {
                                    "SZOBA_ID": "122",
                                    "Év": "2016",
                                    "Részösszeg": "8"
                                },
                                {
                                    "SZOBA_ID": "122",
                                    "Év": "2017",
                                    "Részösszeg": "1"
                                },
                                {
                                    "SZOBA_ID": "122",
                                    "Év": "Összesen",
                                    "Részösszeg": "9"
                                },
                                {
                                    "SZOBA_ID": "123",
                                    "Év": "2016",
                                    "Részösszeg": "5"
                                },
                                {
                                    "SZOBA_ID": "123",
                                    "Év": "Összesen",
                                    "Részösszeg": "5"
                                },
                                {
                                    "SZOBA_ID": "124",
                                    "Év": "2016",
                                    "Részösszeg": "4"
                                },
                                {
                                    "SZOBA_ID": "124",
                                    "Év": "2017",
                                    "Részösszeg": "2"
                                },
                                {
                                    "SZOBA_ID": "124",
                                    "Év": "Összesen",
                                    "Részösszeg": "6"
                                },
                                {
                                    "SZOBA_ID": "125",
                                    "Év": "2016",
                                    "Részösszeg": "1"
                                },
                                {
                                    "SZOBA_ID": "125",
                                    "Év": "Összesen",
                                    "Részösszeg": "1"
                                },
                                {
                                    "SZOBA_ID": "126",
                                    "Év": "2016",
                                    "Részösszeg": "4"
                                },
                                {
                                    "SZOBA_ID": "126",
                                    "Év": "2017",
                                    "Részösszeg": "2"
                                },
                                {
                                    "SZOBA_ID": "126",
                                    "Év": "Összesen",
                                    "Részösszeg": "6"
                                },
                                {
                                    "SZOBA_ID": "127",
                                    "Év": "2016",
                                    "Részösszeg": "6"
                                },
                                {
                                    "SZOBA_ID": "127",
                                    "Év": "2017",
                                    "Részösszeg": "1"
                                },
                                {
                                    "SZOBA_ID": "127",
                                    "Év": "Összesen",
                                    "Részösszeg": "7"
                                },
                                {
                                    "SZOBA_ID": "128",
                                    "Év": "2016",
                                    "Részösszeg": "3"
                                },
                                {
                                    "SZOBA_ID": "128",
                                    "Év": "2017",
                                    "Részösszeg": "2"
                                },
                                {
                                    "SZOBA_ID": "128",
                                    "Év": "Összesen",
                                    "Részösszeg": "5"
                                },
                                {
                                    "SZOBA_ID": "129",
                                    "Év": "2016",
                                    "Részösszeg": "2"
                                },
                                {
                                    "SZOBA_ID": "129",
                                    "Év": "2017",
                                    "Részösszeg": "2"
                                },
                                {
                                    "SZOBA_ID": "129",
                                    "Év": "Összesen",
                                    "Részösszeg": "4"
                                },
                                {
                                    "SZOBA_ID": "130",
                                    "Év": "2016",
                                    "Részösszeg": "5"
                                },
                                {
                                    "SZOBA_ID": "130",
                                    "Év": "2017",
                                    "Részösszeg": "1"
                                },
                                {
                                    "SZOBA_ID": "130",
                                    "Év": "Összesen",
                                    "Részösszeg": "6"
                                },
                                {
                                    "SZOBA_ID": "131",
                                    "Év": "2016",
                                    "Részösszeg": "4"
                                },
                                {
                                    "SZOBA_ID": "131",
                                    "Év": "2017",
                                    "Részösszeg": "1"
                                },
                                {
                                    "SZOBA_ID": "131",
                                    "Év": "Összesen",
                                    "Részösszeg": "5"
                                },
                                {
                                    "SZOBA_ID": "132",
                                    "Év": "2016",
                                    "Részösszeg": "5"
                                },
                                {
                                    "SZOBA_ID": "132",
                                    "Év": "2017",
                                    "Részösszeg": "1"
                                },
                                {
                                    "SZOBA_ID": "132",
                                    "Év": "Összesen",
                                    "Részösszeg": "6"
                                },
                                {
                                    "SZOBA_ID": "133",
                                    "Év": "2016",
                                    "Részösszeg": "5"
                                },
                                {
                                    "SZOBA_ID": "133",
                                    "Év": "2017",
                                    "Részösszeg": "1"
                                },
                                {
                                    "SZOBA_ID": "133",
                                    "Év": "Összesen",
                                    "Részösszeg": "6"
                                },
                                {
                                    "SZOBA_ID": "134",
                                    "Év": "2016",
                                    "Részösszeg": "5"
                                },
                                {
                                    "SZOBA_ID": "134",
                                    "Év": "2017",
                                    "Részösszeg": "1"
                                },
                                {
                                    "SZOBA_ID": "134",
                                    "Év": "Összesen",
                                    "Részösszeg": "6"
                                },
                                {
                                    "SZOBA_ID": "135",
                                    "Év": "2016",
                                    "Részösszeg": "3"
                                },
                                {
                                    "SZOBA_ID": "135",
                                    "Év": "Összesen",
                                    "Részösszeg": "3"
                                },
                                {
                                    "SZOBA_ID": "136",
                                    "Év": "2016",
                                    "Részösszeg": "3"
                                },
                                {
                                    "SZOBA_ID": "136",
                                    "Év": "Összesen",
                                    "Részösszeg": "3"
                                },
                                {
                                    "SZOBA_ID": "137",
                                    "Év": "2016",
                                    "Részösszeg": "6"
                                },
                                {
                                    "SZOBA_ID": "137",
                                    "Év": "Összesen",
                                    "Részösszeg": "6"
                                },
                                {
                                    "SZOBA_ID": "138",
                                    "Év": "2016",
                                    "Részösszeg": "7"
                                },
                                {
                                    "SZOBA_ID": "138",
                                    "Év": "Összesen",
                                    "Részösszeg": "7"
                                },
                                {
                                    "SZOBA_ID": "139",
                                    "Év": "2016",
                                    "Részösszeg": "5"
                                },
                                {
                                    "SZOBA_ID": "139",
                                    "Év": "2017",
                                    "Részösszeg": "2"
                                },
                                {
                                    "SZOBA_ID": "139",
                                    "Év": "Összesen",
                                    "Részösszeg": "7"
                                },
                                {
                                    "SZOBA_ID": "140",
                                    "Év": "2016",
                                    "Részösszeg": "8"
                                },
                                {
                                    "SZOBA_ID": "140",
                                    "Év": "Összesen",
                                    "Részösszeg": "8"
                                },
                                {
                                    "SZOBA_ID": "141",
                                    "Év": "2016",
                                    "Részösszeg": "6"
                                },
                                {
                                    "SZOBA_ID": "141",
                                    "Év": "Összesen",
                                    "Részösszeg": "6"
                                },
                                {
                                    "SZOBA_ID": "142",
                                    "Év": "2016",
                                    "Részösszeg": "1"
                                },
                                {
                                    "SZOBA_ID": "142",
                                    "Év": "2017",
                                    "Részösszeg": "1"
                                },
                                {
                                    "SZOBA_ID": "142",
                                    "Év": "Összesen",
                                    "Részösszeg": "2"
                                },
                                {
                                    "SZOBA_ID": "143",
                                    "Év": "2016",
                                    "Részösszeg": "6"
                                },
                                {
                                    "SZOBA_ID": "143",
                                    "Év": "2017",
                                    "Részösszeg": "1"
                                },
                                {
                                    "SZOBA_ID": "143",
                                    "Év": "Összesen",
                                    "Részösszeg": "7"
                                },
                                {
                                    "SZOBA_ID": "144",
                                    "Év": "2016",
                                    "Részösszeg": "4"
                                },
                                {
                                    "SZOBA_ID": "144",
                                    "Év": "2017",
                                    "Részösszeg": "1"
                                },
                                {
                                    "SZOBA_ID": "144",
                                    "Év": "Összesen",
                                    "Részösszeg": "5"
                                },
                                {
                                    "SZOBA_ID": "145",
                                    "Év": "2016",
                                    "Részösszeg": "5"
                                },
                                {
                                    "SZOBA_ID": "145",
                                    "Év": "2017",
                                    "Részösszeg": "1"
                                },
                                {
                                    "SZOBA_ID": "145",
                                    "Év": "Összesen",
                                    "Részösszeg": "6"
                                },
                                {
                                    "SZOBA_ID": "146",
                                    "Év": "2016",
                                    "Részösszeg": "5"
                                },
                                {
                                    "SZOBA_ID": "146",
                                    "Év": "2017",
                                    "Részösszeg": "1"
                                },
                                {
                                    "SZOBA_ID": "146",
                                    "Év": "Összesen",
                                    "Részösszeg": "6"
                                },
                                {
                                    "SZOBA_ID": "147",
                                    "Év": "2016",
                                    "Részösszeg": "1"
                                },
                                {
                                    "SZOBA_ID": "147",
                                    "Év": "Összesen",
                                    "Részösszeg": "1"
                                },
                                {
                                    "SZOBA_ID": "148",
                                    "Év": "2016",
                                    "Részösszeg": "5"
                                },
                                {
                                    "SZOBA_ID": "148",
                                    "Év": "2017",
                                    "Részösszeg": "1"
                                },
                                {
                                    "SZOBA_ID": "148",
                                    "Év": "Összesen",
                                    "Részösszeg": "6"
                                },
                                {
                                    "SZOBA_ID": "149",
                                    "Év": "2016",
                                    "Részösszeg": "6"
                                },
                                {
                                    "SZOBA_ID": "149",
                                    "Év": "2017",
                                    "Részösszeg": "1"
                                },
                                {
                                    "SZOBA_ID": "149",
                                    "Év": "Összesen",
                                    "Részösszeg": "7"
                                },
                                {
                                    "SZOBA_ID": "150",
                                    "Év": "2016",
                                    "Részösszeg": "5"
                                },
                                {
                                    "SZOBA_ID": "150",
                                    "Év": "2017",
                                    "Részösszeg": "1"
                                },
                                {
                                    "SZOBA_ID": "150",
                                    "Év": "Összesen",
                                    "Részösszeg": "6"
                                },
                                {
                                    "SZOBA_ID": "151",
                                    "Év": "2016",
                                    "Részösszeg": "3"
                                },
                                {
                                    "SZOBA_ID": "151",
                                    "Év": "Összesen",
                                    "Részösszeg": "3"
                                },
                                {
                                    "SZOBA_ID": "152",
                                    "Év": "2016",
                                    "Részösszeg": "3"
                                },
                                {
                                    "SZOBA_ID": "152",
                                    "Év": "2017",
                                    "Részösszeg": "1"
                                },
                                {
                                    "SZOBA_ID": "152",
                                    "Év": "Összesen",
                                    "Részösszeg": "4"
                                },
                                {
                                    "SZOBA_ID": "153",
                                    "Év": "2016",
                                    "Részösszeg": "2"
                                },
                                {
                                    "SZOBA_ID": "153",
                                    "Év": "2017",
                                    "Részösszeg": "3"
                                },
                                {
                                    "SZOBA_ID": "153",
                                    "Év": "Összesen",
                                    "Részösszeg": "5"
                                },
                                {
                                    "SZOBA_ID": "154",
                                    "Év": "2016",
                                    "Részösszeg": "4"
                                },
                                {
                                    "SZOBA_ID": "154",
                                    "Év": "2017",
                                    "Részösszeg": "1"
                                },
                                {
                                    "SZOBA_ID": "154",
                                    "Év": "Összesen",
                                    "Részösszeg": "5"
                                },
                                {
                                    "SZOBA_ID": "155",
                                    "Év": "2016",
                                    "Részösszeg": "4"
                                },
                                {
                                    "SZOBA_ID": "155",
                                    "Év": "2017",
                                    "Részösszeg": "1"
                                },
                                {
                                    "SZOBA_ID": "155",
                                    "Év": "Összesen",
                                    "Részösszeg": "5"
                                },
                                {
                                    "SZOBA_ID": "156",
                                    "Év": "2016",
                                    "Részösszeg": "4"
                                },
                                {
                                    "SZOBA_ID": "156",
                                    "Év": "2017",
                                    "Részösszeg": "3"
                                },
                                {
                                    "SZOBA_ID": "156",
                                    "Év": "Összesen",
                                    "Részösszeg": "7"
                                },
                                {
                                    "SZOBA_ID": "157",
                                    "Év": "2016",
                                    "Részösszeg": "4"
                                },
                                {
                                    "SZOBA_ID": "157",
                                    "Év": "2017",
                                    "Részösszeg": "1"
                                },
                                {
                                    "SZOBA_ID": "157",
                                    "Év": "Összesen",
                                    "Részösszeg": "5"
                                },
                                {
                                    "SZOBA_ID": "158",
                                    "Év": "2016",
                                    "Részösszeg": "3"
                                },
                                {
                                    "SZOBA_ID": "158",
                                    "Év": "Összesen",
                                    "Részösszeg": "3"
                                },
                                {
                                    "SZOBA_ID": "160",
                                    "Év": "2016",
                                    "Részösszeg": "4"
                                },
                                {
                                    "SZOBA_ID": "160",
                                    "Év": "2017",
                                    "Részösszeg": "1"
                                },
                                {
                                    "SZOBA_ID": "160",
                                    "Év": "Összesen",
                                    "Részösszeg": "5"
                                },
                                {
                                    "SZOBA_ID": "161",
                                    "Év": "2016",
                                    "Részösszeg": "5"
                                },
                                {
                                    "SZOBA_ID": "161",
                                    "Év": "2017",
                                    "Részösszeg": "1"
                                },
                                {
                                    "SZOBA_ID": "161",
                                    "Év": "Összesen",
                                    "Részösszeg": "6"
                                },
                                {
                                    "SZOBA_ID": "162",
                                    "Év": "2016",
                                    "Részösszeg": "3"
                                },
                                {
                                    "SZOBA_ID": "162",
                                    "Év": "Összesen",
                                    "Részösszeg": "3"
                                },
                                {
                                    "SZOBA_ID": "163",
                                    "Év": "2016",
                                    "Részösszeg": "6"
                                },
                                {
                                    "SZOBA_ID": "163",
                                    "Év": "2017",
                                    "Részösszeg": "1"
                                },
                                {
                                    "SZOBA_ID": "163",
                                    "Év": "Összesen",
                                    "Részösszeg": "7"
                                },
                                {
                                    "SZOBA_ID": "164",
                                    "Év": "2016",
                                    "Részösszeg": "5"
                                },
                                {
                                    "SZOBA_ID": "164",
                                    "Év": "Összesen",
                                    "Részösszeg": "5"
                                },
                                {
                                    "SZOBA_ID": "165",
                                    "Év": "2016",
                                    "Részösszeg": "7"
                                },
                                {
                                    "SZOBA_ID": "165",
                                    "Év": "Összesen",
                                    "Részösszeg": "7"
                                },
                                {
                                    "SZOBA_ID": "166",
                                    "Év": "2016",
                                    "Részösszeg": "2"
                                },
                                {
                                    "SZOBA_ID": "166",
                                    "Év": "2017",
                                    "Részösszeg": "1"
                                },
                                {
                                    "SZOBA_ID": "166",
                                    "Év": "Összesen",
                                    "Részösszeg": "3"
                                },
                                {
                                    "SZOBA_ID": "167",
                                    "Év": "2016",
                                    "Részösszeg": "1"
                                },
                                {
                                    "SZOBA_ID": "167",
                                    "Év": "2017",
                                    "Részösszeg": "1"
                                },
                                {
                                    "SZOBA_ID": "167",
                                    "Év": "Összesen",
                                    "Részösszeg": "2"
                                },
                                {
                                    "SZOBA_ID": "168",
                                    "Év": "2016",
                                    "Részösszeg": "5"
                                },
                                {
                                    "SZOBA_ID": "168",
                                    "Év": "Összesen",
                                    "Részösszeg": "5"
                                },
                                {
                                    "SZOBA_ID": "169",
                                    "Év": "2016",
                                    "Részösszeg": "5"
                                },
                                {
                                    "SZOBA_ID": "169",
                                    "Év": "2017",
                                    "Részösszeg": "1"
                                },
                                {
                                    "SZOBA_ID": "169",
                                    "Év": "Összesen",
                                    "Részösszeg": "6"
                                },
                                {
                                    "SZOBA_ID": "170",
                                    "Év": "2016",
                                    "Részösszeg": "5"
                                },
                                {
                                    "SZOBA_ID": "170",
                                    "Év": "Összesen",
                                    "Részösszeg": "5"
                                },
                                {
                                    "SZOBA_ID": "171",
                                    "Év": "2016",
                                    "Részösszeg": "4"
                                },
                                {
                                    "SZOBA_ID": "171",
                                    "Év": "2017",
                                    "Részösszeg": "1"
                                },
                                {
                                    "SZOBA_ID": "171",
                                    "Év": "Összesen",
                                    "Részösszeg": "5"
                                },
                                {
                                    "SZOBA_ID": "172",
                                    "Év": "2016",
                                    "Részösszeg": "7"
                                },
                                {
                                    "SZOBA_ID": "172",
                                    "Év": "2017",
                                    "Részösszeg": "2"
                                },
                                {
                                    "SZOBA_ID": "172",
                                    "Év": "Összesen",
                                    "Részösszeg": "9"
                                },
                                {
                                    "SZOBA_ID": "173",
                                    "Év": "2016",
                                    "Részösszeg": "3"
                                },
                                {
                                    "SZOBA_ID": "173",
                                    "Év": "2017",
                                    "Részösszeg": "1"
                                },
                                {
                                    "SZOBA_ID": "173",
                                    "Év": "Összesen",
                                    "Részösszeg": "4"
                                },
                                {
                                    "SZOBA_ID": "174",
                                    "Év": "2016",
                                    "Részösszeg": "4"
                                },
                                {
                                    "SZOBA_ID": "174",
                                    "Év": "Összesen",
                                    "Részösszeg": "4"
                                },
                                {
                                    "SZOBA_ID": "175",
                                    "Év": "2016",
                                    "Részösszeg": "5"
                                },
                                {
                                    "SZOBA_ID": "175",
                                    "Év": "Összesen",
                                    "Részösszeg": "5"
                                },
                                {
                                    "SZOBA_ID": "176",
                                    "Év": "2016",
                                    "Részösszeg": "4"
                                },
                                {
                                    "SZOBA_ID": "176",
                                    "Év": "2017",
                                    "Részösszeg": "2"
                                },
                                {
                                    "SZOBA_ID": "176",
                                    "Év": "Összesen",
                                    "Részösszeg": "6"
                                },
                                {
                                    "SZOBA_ID": "177",
                                    "Év": "2016",
                                    "Részösszeg": "3"
                                },
                                {
                                    "SZOBA_ID": "177",
                                    "Év": "2017",
                                    "Részösszeg": "1"
                                },
                                {
                                    "SZOBA_ID": "177",
                                    "Év": "Összesen",
                                    "Részösszeg": "4"
                                },
                                {
                                    "SZOBA_ID": "178",
                                    "Év": "2016",
                                    "Részösszeg": "4"
                                },
                                {
                                    "SZOBA_ID": "178",
                                    "Év": "Összesen",
                                    "Részösszeg": "4"
                                },
                                {
                                    "SZOBA_ID": "179",
                                    "Év": "2016",
                                    "Részösszeg": "2"
                                },
                                {
                                    "SZOBA_ID": "179",
                                    "Év": "2017",
                                    "Részösszeg": "1"
                                },
                                {
                                    "SZOBA_ID": "179",
                                    "Év": "Összesen",
                                    "Részösszeg": "3"
                                },
                                {
                                    "SZOBA_ID": "180",
                                    "Év": "2016",
                                    "Részösszeg": "1"
                                },
                                {
                                    "SZOBA_ID": "180",
                                    "Év": "2017",
                                    "Részösszeg": "2"
                                },
                                {
                                    "SZOBA_ID": "180",
                                    "Év": "Összesen",
                                    "Részösszeg": "3"
                                },
                                {
                                    "SZOBA_ID": "181",
                                    "Év": "2016",
                                    "Részösszeg": "6"
                                },
                                {
                                    "SZOBA_ID": "181",
                                    "Év": "Összesen",
                                    "Részösszeg": "6"
                                },
                                {
                                    "SZOBA_ID": "182",
                                    "Év": "2016",
                                    "Részösszeg": "10"
                                },
                                {
                                    "SZOBA_ID": "182",
                                    "Év": "2017",
                                    "Részösszeg": "2"
                                },
                                {
                                    "SZOBA_ID": "182",
                                    "Év": "Összesen",
                                    "Részösszeg": "12"
                                },
                                {
                                    "SZOBA_ID": "183",
                                    "Év": "2016",
                                    "Részösszeg": "3"
                                },
                                {
                                    "SZOBA_ID": "183",
                                    "Év": "2017",
                                    "Részösszeg": "1"
                                },
                                {
                                    "SZOBA_ID": "183",
                                    "Év": "Összesen",
                                    "Részösszeg": "4"
                                },
                                {
                                    "SZOBA_ID": "184",
                                    "Év": "2016",
                                    "Részösszeg": "4"
                                },
                                {
                                    "SZOBA_ID": "184",
                                    "Év": "Összesen",
                                    "Részösszeg": "4"
                                },
                                {
                                    "SZOBA_ID": "185",
                                    "Év": "2016",
                                    "Részösszeg": "10"
                                },
                                {
                                    "SZOBA_ID": "185",
                                    "Év": "2017",
                                    "Részösszeg": "2"
                                },
                                {
                                    "SZOBA_ID": "185",
                                    "Év": "Összesen",
                                    "Részösszeg": "12"
                                },
                                {
                                    "SZOBA_ID": "186",
                                    "Év": "2016",
                                    "Részösszeg": "3"
                                },
                                {
                                    "SZOBA_ID": "186",
                                    "Év": "2017",
                                    "Részösszeg": "1"
                                },
                                {
                                    "SZOBA_ID": "186",
                                    "Év": "Összesen",
                                    "Részösszeg": "4"
                                },
                                {
                                    "SZOBA_ID": "187",
                                    "Év": "2016",
                                    "Részösszeg": "7"
                                },
                                {
                                    "SZOBA_ID": "187",
                                    "Év": "Összesen",
                                    "Részösszeg": "7"
                                },
                                {
                                    "SZOBA_ID": "188",
                                    "Év": "2016",
                                    "Részösszeg": "6"
                                },
                                {
                                    "SZOBA_ID": "188",
                                    "Év": "Összesen",
                                    "Részösszeg": "6"
                                },
                                {
                                    "SZOBA_ID": "189",
                                    "Év": "2016",
                                    "Részösszeg": "3"
                                },
                                {
                                    "SZOBA_ID": "189",
                                    "Év": "2017",
                                    "Részösszeg": "2"
                                },
                                {
                                    "SZOBA_ID": "189",
                                    "Év": "Összesen",
                                    "Részösszeg": "5"
                                },
                                {
                                    "SZOBA_ID": "190",
                                    "Év": "2016",
                                    "Részösszeg": "4"
                                },
                                {
                                    "SZOBA_ID": "190",
                                    "Év": "2017",
                                    "Részösszeg": "1"
                                },
                                {
                                    "SZOBA_ID": "190",
                                    "Év": "Összesen",
                                    "Részösszeg": "5"
                                },
                                {
                                    "SZOBA_ID": "191",
                                    "Év": "2016",
                                    "Részösszeg": "3"
                                },
                                {
                                    "SZOBA_ID": "191",
                                    "Év": "2017",
                                    "Részösszeg": "2"
                                },
                                {
                                    "SZOBA_ID": "191",
                                    "Év": "Összesen",
                                    "Részösszeg": "5"
                                },
                                {
                                    "SZOBA_ID": "192",
                                    "Év": "2016",
                                    "Részösszeg": "2"
                                },
                                {
                                    "SZOBA_ID": "192",
                                    "Év": "Összesen",
                                    "Részösszeg": "2"
                                },
                                {
                                    "SZOBA_ID": "193",
                                    "Év": "2016",
                                    "Részösszeg": "7"
                                },
                                {
                                    "SZOBA_ID": "193",
                                    "Év": "Összesen",
                                    "Részösszeg": "7"
                                },
                                {
                                    "SZOBA_ID": "194",
                                    "Év": "2016",
                                    "Részösszeg": "1"
                                },
                                {
                                    "SZOBA_ID": "194",
                                    "Év": "Összesen",
                                    "Részösszeg": "1"
                                },
                                {
                                    "SZOBA_ID": "195",
                                    "Év": "2016",
                                    "Részösszeg": "4"
                                },
                                {
                                    "SZOBA_ID": "195",
                                    "Év": "2017",
                                    "Részösszeg": "2"
                                },
                                {
                                    "SZOBA_ID": "195",
                                    "Év": "Összesen",
                                    "Részösszeg": "6"
                                },
                                {
                                    "SZOBA_ID": "196",
                                    "Év": "2016",
                                    "Részösszeg": "4"
                                },
                                {
                                    "SZOBA_ID": "196",
                                    "Év": "Összesen",
                                    "Részösszeg": "4"
                                },
                                {
                                    "SZOBA_ID": "197",
                                    "Év": "2016",
                                    "Részösszeg": "6"
                                },
                                {
                                    "SZOBA_ID": "197",
                                    "Év": "Összesen",
                                    "Részösszeg": "6"
                                },
                                {
                                    "SZOBA_ID": "198",
                                    "Év": "2016",
                                    "Részösszeg": "7"
                                },
                                {
                                    "SZOBA_ID": "198",
                                    "Év": "2017",
                                    "Részösszeg": "1"
                                },
                                {
                                    "SZOBA_ID": "198",
                                    "Év": "Összesen",
                                    "Részösszeg": "8"
                                },
                                {
                                    "SZOBA_ID": "NULL",
                                    "Év": "Összesen",
                                    "Részösszeg": "1027"
                                }
                            ]
                        },
                        "text/html": [
                            "<table>",
                            "<tr><th>SZOBA_ID</th><th>Év</th><th>Részösszeg</th></tr>",
                            "<tr><td>1</td><td>2016</td><td>8</td></tr>",
                            "<tr><td>1</td><td>Összesen</td><td>8</td></tr>",
                            "<tr><td>2</td><td>2016</td><td>4</td></tr>",
                            "<tr><td>2</td><td>Összesen</td><td>4</td></tr>",
                            "<tr><td>3</td><td>2016</td><td>6</td></tr>",
                            "<tr><td>3</td><td>2017</td><td>2</td></tr>",
                            "<tr><td>3</td><td>Összesen</td><td>8</td></tr>",
                            "<tr><td>4</td><td>2016</td><td>5</td></tr>",
                            "<tr><td>4</td><td>2017</td><td>1</td></tr>",
                            "<tr><td>4</td><td>Összesen</td><td>6</td></tr>",
                            "<tr><td>5</td><td>2016</td><td>4</td></tr>",
                            "<tr><td>5</td><td>Összesen</td><td>4</td></tr>",
                            "<tr><td>6</td><td>2016</td><td>6</td></tr>",
                            "<tr><td>6</td><td>Összesen</td><td>6</td></tr>",
                            "<tr><td>7</td><td>2016</td><td>6</td></tr>",
                            "<tr><td>7</td><td>Összesen</td><td>6</td></tr>",
                            "<tr><td>8</td><td>2016</td><td>5</td></tr>",
                            "<tr><td>8</td><td>Összesen</td><td>5</td></tr>",
                            "<tr><td>9</td><td>2016</td><td>4</td></tr>",
                            "<tr><td>9</td><td>2017</td><td>2</td></tr>",
                            "<tr><td>9</td><td>Összesen</td><td>6</td></tr>",
                            "<tr><td>10</td><td>2016</td><td>4</td></tr>",
                            "<tr><td>10</td><td>Összesen</td><td>4</td></tr>",
                            "<tr><td>11</td><td>2016</td><td>3</td></tr>",
                            "<tr><td>11</td><td>2017</td><td>1</td></tr>",
                            "<tr><td>11</td><td>Összesen</td><td>4</td></tr>",
                            "<tr><td>12</td><td>2016</td><td>8</td></tr>",
                            "<tr><td>12</td><td>2017</td><td>1</td></tr>",
                            "<tr><td>12</td><td>Összesen</td><td>9</td></tr>",
                            "<tr><td>13</td><td>2016</td><td>3</td></tr>",
                            "<tr><td>13</td><td>2017</td><td>1</td></tr>",
                            "<tr><td>13</td><td>Összesen</td><td>4</td></tr>",
                            "<tr><td>14</td><td>2016</td><td>2</td></tr>",
                            "<tr><td>14</td><td>2017</td><td>1</td></tr>",
                            "<tr><td>14</td><td>Összesen</td><td>3</td></tr>",
                            "<tr><td>15</td><td>2016</td><td>4</td></tr>",
                            "<tr><td>15</td><td>2017</td><td>2</td></tr>",
                            "<tr><td>15</td><td>Összesen</td><td>6</td></tr>",
                            "<tr><td>16</td><td>2016</td><td>4</td></tr>",
                            "<tr><td>16</td><td>2017</td><td>1</td></tr>",
                            "<tr><td>16</td><td>Összesen</td><td>5</td></tr>",
                            "<tr><td>17</td><td>2016</td><td>5</td></tr>",
                            "<tr><td>17</td><td>2017</td><td>1</td></tr>",
                            "<tr><td>17</td><td>Összesen</td><td>6</td></tr>",
                            "<tr><td>18</td><td>2016</td><td>5</td></tr>",
                            "<tr><td>18</td><td>2017</td><td>1</td></tr>",
                            "<tr><td>18</td><td>Összesen</td><td>6</td></tr>",
                            "<tr><td>19</td><td>2016</td><td>5</td></tr>",
                            "<tr><td>19</td><td>2017</td><td>1</td></tr>",
                            "<tr><td>19</td><td>Összesen</td><td>6</td></tr>",
                            "<tr><td>20</td><td>2016</td><td>5</td></tr>",
                            "<tr><td>20</td><td>Összesen</td><td>5</td></tr>",
                            "<tr><td>21</td><td>2016</td><td>4</td></tr>",
                            "<tr><td>21</td><td>Összesen</td><td>4</td></tr>",
                            "<tr><td>22</td><td>2016</td><td>6</td></tr>",
                            "<tr><td>22</td><td>Összesen</td><td>6</td></tr>",
                            "<tr><td>23</td><td>2016</td><td>3</td></tr>",
                            "<tr><td>23</td><td>Összesen</td><td>3</td></tr>",
                            "<tr><td>24</td><td>2016</td><td>2</td></tr>",
                            "<tr><td>24</td><td>2017</td><td>1</td></tr>",
                            "<tr><td>24</td><td>Összesen</td><td>3</td></tr>",
                            "<tr><td>25</td><td>2016</td><td>2</td></tr>",
                            "<tr><td>25</td><td>Összesen</td><td>2</td></tr>",
                            "<tr><td>26</td><td>2016</td><td>2</td></tr>",
                            "<tr><td>26</td><td>Összesen</td><td>2</td></tr>",
                            "<tr><td>27</td><td>2016</td><td>6</td></tr>",
                            "<tr><td>27</td><td>2017</td><td>1</td></tr>",
                            "<tr><td>27</td><td>Összesen</td><td>7</td></tr>",
                            "<tr><td>28</td><td>2016</td><td>5</td></tr>",
                            "<tr><td>28</td><td>2017</td><td>1</td></tr>",
                            "<tr><td>28</td><td>Összesen</td><td>6</td></tr>",
                            "<tr><td>29</td><td>2016</td><td>5</td></tr>",
                            "<tr><td>29</td><td>2017</td><td>1</td></tr>",
                            "<tr><td>29</td><td>Összesen</td><td>6</td></tr>",
                            "<tr><td>30</td><td>2016</td><td>3</td></tr>",
                            "<tr><td>30</td><td>Összesen</td><td>3</td></tr>",
                            "<tr><td>31</td><td>2016</td><td>3</td></tr>",
                            "<tr><td>31</td><td>Összesen</td><td>3</td></tr>",
                            "<tr><td>32</td><td>2016</td><td>1</td></tr>",
                            "<tr><td>32</td><td>Összesen</td><td>1</td></tr>",
                            "<tr><td>33</td><td>2016</td><td>6</td></tr>",
                            "<tr><td>33</td><td>Összesen</td><td>6</td></tr>",
                            "<tr><td>34</td><td>2016</td><td>4</td></tr>",
                            "<tr><td>34</td><td>Összesen</td><td>4</td></tr>",
                            "<tr><td>35</td><td>2016</td><td>6</td></tr>",
                            "<tr><td>35</td><td>2017</td><td>3</td></tr>",
                            "<tr><td>35</td><td>Összesen</td><td>9</td></tr>",
                            "<tr><td>36</td><td>2016</td><td>6</td></tr>",
                            "<tr><td>36</td><td>Összesen</td><td>6</td></tr>",
                            "<tr><td>37</td><td>2016</td><td>3</td></tr>",
                            "<tr><td>37</td><td>Összesen</td><td>3</td></tr>",
                            "<tr><td>38</td><td>2016</td><td>5</td></tr>",
                            "<tr><td>38</td><td>2017</td><td>3</td></tr>",
                            "<tr><td>38</td><td>Összesen</td><td>8</td></tr>",
                            "<tr><td>39</td><td>2016</td><td>4</td></tr>",
                            "<tr><td>39</td><td>2017</td><td>3</td></tr>",
                            "<tr><td>39</td><td>Összesen</td><td>7</td></tr>",
                            "<tr><td>40</td><td>2016</td><td>4</td></tr>",
                            "<tr><td>40</td><td>Összesen</td><td>4</td></tr>",
                            "<tr><td>41</td><td>2016</td><td>2</td></tr>",
                            "<tr><td>41</td><td>Összesen</td><td>2</td></tr>",
                            "<tr><td>42</td><td>2016</td><td>5</td></tr>",
                            "<tr><td>42</td><td>2017</td><td>1</td></tr>",
                            "<tr><td>42</td><td>Összesen</td><td>6</td></tr>",
                            "<tr><td>43</td><td>2016</td><td>6</td></tr>",
                            "<tr><td>43</td><td>2017</td><td>2</td></tr>",
                            "<tr><td>43</td><td>Összesen</td><td>8</td></tr>",
                            "<tr><td>44</td><td>2016</td><td>4</td></tr>",
                            "<tr><td>44</td><td>2017</td><td>2</td></tr>",
                            "<tr><td>44</td><td>Összesen</td><td>6</td></tr>",
                            "<tr><td>45</td><td>2016</td><td>5</td></tr>",
                            "<tr><td>45</td><td>Összesen</td><td>5</td></tr>",
                            "<tr><td>46</td><td>2016</td><td>3</td></tr>",
                            "<tr><td>46</td><td>2017</td><td>1</td></tr>",
                            "<tr><td>46</td><td>Összesen</td><td>4</td></tr>",
                            "<tr><td>47</td><td>2016</td><td>2</td></tr>",
                            "<tr><td>47</td><td>Összesen</td><td>2</td></tr>",
                            "<tr><td>48</td><td>2016</td><td>6</td></tr>",
                            "<tr><td>48</td><td>2017</td><td>3</td></tr>",
                            "<tr><td>48</td><td>Összesen</td><td>9</td></tr>",
                            "<tr><td>49</td><td>2016</td><td>6</td></tr>",
                            "<tr><td>49</td><td>2017</td><td>1</td></tr>",
                            "<tr><td>49</td><td>Összesen</td><td>7</td></tr>",
                            "<tr><td>50</td><td>2016</td><td>4</td></tr>",
                            "<tr><td>50</td><td>Összesen</td><td>4</td></tr>",
                            "<tr><td>51</td><td>2016</td><td>3</td></tr>",
                            "<tr><td>51</td><td>2017</td><td>2</td></tr>",
                            "<tr><td>51</td><td>Összesen</td><td>5</td></tr>",
                            "<tr><td>52</td><td>2016</td><td>3</td></tr>",
                            "<tr><td>52</td><td>2017</td><td>2</td></tr>",
                            "<tr><td>52</td><td>Összesen</td><td>5</td></tr>",
                            "<tr><td>53</td><td>2016</td><td>2</td></tr>",
                            "<tr><td>53</td><td>Összesen</td><td>2</td></tr>",
                            "<tr><td>54</td><td>2016</td><td>6</td></tr>",
                            "<tr><td>54</td><td>Összesen</td><td>6</td></tr>",
                            "<tr><td>55</td><td>2016</td><td>6</td></tr>",
                            "<tr><td>55</td><td>2017</td><td>2</td></tr>",
                            "<tr><td>55</td><td>Összesen</td><td>8</td></tr>",
                            "<tr><td>56</td><td>2016</td><td>2</td></tr>",
                            "<tr><td>56</td><td>Összesen</td><td>2</td></tr>",
                            "<tr><td>57</td><td>2016</td><td>2</td></tr>",
                            "<tr><td>57</td><td>2017</td><td>2</td></tr>",
                            "<tr><td>57</td><td>Összesen</td><td>4</td></tr>",
                            "<tr><td>58</td><td>2016</td><td>12</td></tr>",
                            "<tr><td>58</td><td>2017</td><td>1</td></tr>",
                            "<tr><td>58</td><td>Összesen</td><td>13</td></tr>",
                            "<tr><td>59</td><td>2016</td><td>6</td></tr>",
                            "<tr><td>59</td><td>2017</td><td>1</td></tr>",
                            "<tr><td>59</td><td>Összesen</td><td>7</td></tr>",
                            "<tr><td>60</td><td>2016</td><td>1</td></tr>",
                            "<tr><td>60</td><td>Összesen</td><td>1</td></tr>",
                            "<tr><td>61</td><td>2016</td><td>4</td></tr>",
                            "<tr><td>61</td><td>2017</td><td>1</td></tr>",
                            "<tr><td>61</td><td>Összesen</td><td>5</td></tr>",
                            "<tr><td>62</td><td>2016</td><td>4</td></tr>",
                            "<tr><td>62</td><td>2017</td><td>1</td></tr>",
                            "<tr><td>62</td><td>Összesen</td><td>5</td></tr>",
                            "<tr><td>63</td><td>2016</td><td>4</td></tr>",
                            "<tr><td>63</td><td>Összesen</td><td>4</td></tr>",
                            "<tr><td>64</td><td>2016</td><td>3</td></tr>",
                            "<tr><td>64</td><td>2017</td><td>3</td></tr>",
                            "<tr><td>64</td><td>Összesen</td><td>6</td></tr>",
                            "<tr><td>65</td><td>2016</td><td>1</td></tr>",
                            "<tr><td>65</td><td>Összesen</td><td>1</td></tr>",
                            "<tr><td>66</td><td>2016</td><td>4</td></tr>",
                            "<tr><td>66</td><td>Összesen</td><td>4</td></tr>",
                            "<tr><td>67</td><td>2016</td><td>4</td></tr>",
                            "<tr><td>67</td><td>2017</td><td>2</td></tr>",
                            "<tr><td>67</td><td>Összesen</td><td>6</td></tr>",
                            "<tr><td>68</td><td>2016</td><td>3</td></tr>",
                            "<tr><td>68</td><td>Összesen</td><td>3</td></tr>",
                            "<tr><td>69</td><td>2016</td><td>4</td></tr>",
                            "<tr><td>69</td><td>Összesen</td><td>4</td></tr>",
                            "<tr><td>70</td><td>2016</td><td>10</td></tr>",
                            "<tr><td>70</td><td>2017</td><td>1</td></tr>",
                            "<tr><td>70</td><td>Összesen</td><td>11</td></tr>",
                            "<tr><td>71</td><td>2016</td><td>3</td></tr>",
                            "<tr><td>71</td><td>Összesen</td><td>3</td></tr>",
                            "<tr><td>72</td><td>2016</td><td>4</td></tr>",
                            "<tr><td>72</td><td>Összesen</td><td>4</td></tr>",
                            "<tr><td>73</td><td>2016</td><td>4</td></tr>",
                            "<tr><td>73</td><td>Összesen</td><td>4</td></tr>",
                            "<tr><td>74</td><td>2016</td><td>9</td></tr>",
                            "<tr><td>74</td><td>Összesen</td><td>9</td></tr>",
                            "<tr><td>75</td><td>2016</td><td>1</td></tr>",
                            "<tr><td>75</td><td>2017</td><td>2</td></tr>",
                            "<tr><td>75</td><td>Összesen</td><td>3</td></tr>",
                            "<tr><td>76</td><td>2016</td><td>2</td></tr>",
                            "<tr><td>76</td><td>2017</td><td>1</td></tr>",
                            "<tr><td>76</td><td>Összesen</td><td>3</td></tr>",
                            "<tr><td>77</td><td>2016</td><td>4</td></tr>",
                            "<tr><td>77</td><td>2017</td><td>2</td></tr>",
                            "<tr><td>77</td><td>Összesen</td><td>6</td></tr>",
                            "<tr><td>78</td><td>2016</td><td>5</td></tr>",
                            "<tr><td>78</td><td>2017</td><td>1</td></tr>",
                            "<tr><td>78</td><td>Összesen</td><td>6</td></tr>",
                            "<tr><td>79</td><td>2016</td><td>4</td></tr>",
                            "<tr><td>79</td><td>2017</td><td>1</td></tr>",
                            "<tr><td>79</td><td>Összesen</td><td>5</td></tr>",
                            "<tr><td>80</td><td>2016</td><td>7</td></tr>",
                            "<tr><td>80</td><td>Összesen</td><td>7</td></tr>",
                            "<tr><td>81</td><td>2016</td><td>1</td></tr>",
                            "<tr><td>81</td><td>2017</td><td>4</td></tr>",
                            "<tr><td>81</td><td>Összesen</td><td>5</td></tr>",
                            "<tr><td>82</td><td>2016</td><td>6</td></tr>",
                            "<tr><td>82</td><td>Összesen</td><td>6</td></tr>",
                            "<tr><td>83</td><td>2016</td><td>8</td></tr>",
                            "<tr><td>83</td><td>Összesen</td><td>8</td></tr>",
                            "<tr><td>84</td><td>2016</td><td>4</td></tr>",
                            "<tr><td>84</td><td>Összesen</td><td>4</td></tr>",
                            "<tr><td>85</td><td>2016</td><td>3</td></tr>",
                            "<tr><td>85</td><td>2017</td><td>1</td></tr>",
                            "<tr><td>85</td><td>Összesen</td><td>4</td></tr>",
                            "<tr><td>86</td><td>2016</td><td>4</td></tr>",
                            "<tr><td>86</td><td>2017</td><td>1</td></tr>",
                            "<tr><td>86</td><td>Összesen</td><td>5</td></tr>",
                            "<tr><td>87</td><td>2016</td><td>4</td></tr>",
                            "<tr><td>87</td><td>2017</td><td>1</td></tr>",
                            "<tr><td>87</td><td>Összesen</td><td>5</td></tr>",
                            "<tr><td>88</td><td>2016</td><td>6</td></tr>",
                            "<tr><td>88</td><td>2017</td><td>2</td></tr>",
                            "<tr><td>88</td><td>Összesen</td><td>8</td></tr>",
                            "<tr><td>89</td><td>2016</td><td>7</td></tr>",
                            "<tr><td>89</td><td>2017</td><td>1</td></tr>",
                            "<tr><td>89</td><td>Összesen</td><td>8</td></tr>",
                            "<tr><td>90</td><td>2016</td><td>4</td></tr>",
                            "<tr><td>90</td><td>Összesen</td><td>4</td></tr>",
                            "<tr><td>91</td><td>2016</td><td>4</td></tr>",
                            "<tr><td>91</td><td>Összesen</td><td>4</td></tr>",
                            "<tr><td>92</td><td>2016</td><td>4</td></tr>",
                            "<tr><td>92</td><td>2017</td><td>2</td></tr>",
                            "<tr><td>92</td><td>Összesen</td><td>6</td></tr>",
                            "<tr><td>93</td><td>2016</td><td>5</td></tr>",
                            "<tr><td>93</td><td>Összesen</td><td>5</td></tr>",
                            "<tr><td>94</td><td>2016</td><td>8</td></tr>",
                            "<tr><td>94</td><td>2017</td><td>2</td></tr>",
                            "<tr><td>94</td><td>Összesen</td><td>10</td></tr>",
                            "<tr><td>95</td><td>2016</td><td>3</td></tr>",
                            "<tr><td>95</td><td>2017</td><td>1</td></tr>",
                            "<tr><td>95</td><td>Összesen</td><td>4</td></tr>",
                            "<tr><td>96</td><td>2016</td><td>5</td></tr>",
                            "<tr><td>96</td><td>2017</td><td>2</td></tr>",
                            "<tr><td>96</td><td>Összesen</td><td>7</td></tr>",
                            "<tr><td>97</td><td>2016</td><td>5</td></tr>",
                            "<tr><td>97</td><td>2017</td><td>2</td></tr>",
                            "<tr><td>97</td><td>Összesen</td><td>7</td></tr>",
                            "<tr><td>98</td><td>2016</td><td>4</td></tr>",
                            "<tr><td>98</td><td>Összesen</td><td>4</td></tr>",
                            "<tr><td>99</td><td>2016</td><td>4</td></tr>",
                            "<tr><td>99</td><td>2017</td><td>1</td></tr>",
                            "<tr><td>99</td><td>Összesen</td><td>5</td></tr>",
                            "<tr><td>100</td><td>2016</td><td>3</td></tr>",
                            "<tr><td>100</td><td>2017</td><td>1</td></tr>",
                            "<tr><td>100</td><td>Összesen</td><td>4</td></tr>",
                            "<tr><td>101</td><td>2016</td><td>2</td></tr>",
                            "<tr><td>101</td><td>2017</td><td>1</td></tr>",
                            "<tr><td>101</td><td>Összesen</td><td>3</td></tr>",
                            "<tr><td>102</td><td>2016</td><td>2</td></tr>",
                            "<tr><td>102</td><td>Összesen</td><td>2</td></tr>",
                            "<tr><td>103</td><td>2016</td><td>3</td></tr>",
                            "<tr><td>103</td><td>2017</td><td>1</td></tr>",
                            "<tr><td>103</td><td>Összesen</td><td>4</td></tr>",
                            "<tr><td>104</td><td>2016</td><td>2</td></tr>",
                            "<tr><td>104</td><td>2017</td><td>2</td></tr>",
                            "<tr><td>104</td><td>Összesen</td><td>4</td></tr>",
                            "<tr><td>105</td><td>2016</td><td>1</td></tr>",
                            "<tr><td>105</td><td>2017</td><td>1</td></tr>",
                            "<tr><td>105</td><td>Összesen</td><td>2</td></tr>",
                            "<tr><td>106</td><td>2016</td><td>5</td></tr>",
                            "<tr><td>106</td><td>2017</td><td>1</td></tr>",
                            "<tr><td>106</td><td>Összesen</td><td>6</td></tr>",
                            "<tr><td>107</td><td>2016</td><td>3</td></tr>",
                            "<tr><td>107</td><td>2017</td><td>2</td></tr>",
                            "<tr><td>107</td><td>Összesen</td><td>5</td></tr>",
                            "<tr><td>108</td><td>2016</td><td>2</td></tr>",
                            "<tr><td>108</td><td>Összesen</td><td>2</td></tr>",
                            "<tr><td>109</td><td>2016</td><td>6</td></tr>",
                            "<tr><td>109</td><td>2017</td><td>1</td></tr>",
                            "<tr><td>109</td><td>Összesen</td><td>7</td></tr>",
                            "<tr><td>110</td><td>2016</td><td>6</td></tr>",
                            "<tr><td>110</td><td>2017</td><td>2</td></tr>",
                            "<tr><td>110</td><td>Összesen</td><td>8</td></tr>",
                            "<tr><td>111</td><td>2016</td><td>5</td></tr>",
                            "<tr><td>111</td><td>Összesen</td><td>5</td></tr>",
                            "<tr><td>112</td><td>2016</td><td>4</td></tr>",
                            "<tr><td>112</td><td>2017</td><td>1</td></tr>",
                            "<tr><td>112</td><td>Összesen</td><td>5</td></tr>",
                            "<tr><td>113</td><td>2016</td><td>3</td></tr>",
                            "<tr><td>113</td><td>2017</td><td>2</td></tr>",
                            "<tr><td>113</td><td>Összesen</td><td>5</td></tr>",
                            "<tr><td>114</td><td>2016</td><td>3</td></tr>",
                            "<tr><td>114</td><td>2017</td><td>1</td></tr>",
                            "<tr><td>114</td><td>Összesen</td><td>4</td></tr>",
                            "<tr><td>115</td><td>2016</td><td>5</td></tr>",
                            "<tr><td>115</td><td>2017</td><td>2</td></tr>",
                            "<tr><td>115</td><td>Összesen</td><td>7</td></tr>",
                            "<tr><td>116</td><td>2017</td><td>2</td></tr>",
                            "<tr><td>116</td><td>Összesen</td><td>2</td></tr>",
                            "<tr><td>117</td><td>2016</td><td>7</td></tr>",
                            "<tr><td>117</td><td>2017</td><td>1</td></tr>",
                            "<tr><td>117</td><td>Összesen</td><td>8</td></tr>",
                            "<tr><td>118</td><td>2016</td><td>5</td></tr>",
                            "<tr><td>118</td><td>2017</td><td>2</td></tr>",
                            "<tr><td>118</td><td>Összesen</td><td>7</td></tr>",
                            "<tr><td>119</td><td>2016</td><td>3</td></tr>",
                            "<tr><td>119</td><td>2017</td><td>2</td></tr>",
                            "<tr><td>119</td><td>Összesen</td><td>5</td></tr>",
                            "<tr><td>120</td><td>2016</td><td>4</td></tr>",
                            "<tr><td>120</td><td>2017</td><td>2</td></tr>",
                            "<tr><td>120</td><td>Összesen</td><td>6</td></tr>",
                            "<tr><td>121</td><td>2016</td><td>8</td></tr>",
                            "<tr><td>121</td><td>Összesen</td><td>8</td></tr>",
                            "<tr><td>122</td><td>2016</td><td>8</td></tr>",
                            "<tr><td>122</td><td>2017</td><td>1</td></tr>",
                            "<tr><td>122</td><td>Összesen</td><td>9</td></tr>",
                            "<tr><td>123</td><td>2016</td><td>5</td></tr>",
                            "<tr><td>123</td><td>Összesen</td><td>5</td></tr>",
                            "<tr><td>124</td><td>2016</td><td>4</td></tr>",
                            "<tr><td>124</td><td>2017</td><td>2</td></tr>",
                            "<tr><td>124</td><td>Összesen</td><td>6</td></tr>",
                            "<tr><td>125</td><td>2016</td><td>1</td></tr>",
                            "<tr><td>125</td><td>Összesen</td><td>1</td></tr>",
                            "<tr><td>126</td><td>2016</td><td>4</td></tr>",
                            "<tr><td>126</td><td>2017</td><td>2</td></tr>",
                            "<tr><td>126</td><td>Összesen</td><td>6</td></tr>",
                            "<tr><td>127</td><td>2016</td><td>6</td></tr>",
                            "<tr><td>127</td><td>2017</td><td>1</td></tr>",
                            "<tr><td>127</td><td>Összesen</td><td>7</td></tr>",
                            "<tr><td>128</td><td>2016</td><td>3</td></tr>",
                            "<tr><td>128</td><td>2017</td><td>2</td></tr>",
                            "<tr><td>128</td><td>Összesen</td><td>5</td></tr>",
                            "<tr><td>129</td><td>2016</td><td>2</td></tr>",
                            "<tr><td>129</td><td>2017</td><td>2</td></tr>",
                            "<tr><td>129</td><td>Összesen</td><td>4</td></tr>",
                            "<tr><td>130</td><td>2016</td><td>5</td></tr>",
                            "<tr><td>130</td><td>2017</td><td>1</td></tr>",
                            "<tr><td>130</td><td>Összesen</td><td>6</td></tr>",
                            "<tr><td>131</td><td>2016</td><td>4</td></tr>",
                            "<tr><td>131</td><td>2017</td><td>1</td></tr>",
                            "<tr><td>131</td><td>Összesen</td><td>5</td></tr>",
                            "<tr><td>132</td><td>2016</td><td>5</td></tr>",
                            "<tr><td>132</td><td>2017</td><td>1</td></tr>",
                            "<tr><td>132</td><td>Összesen</td><td>6</td></tr>",
                            "<tr><td>133</td><td>2016</td><td>5</td></tr>",
                            "<tr><td>133</td><td>2017</td><td>1</td></tr>",
                            "<tr><td>133</td><td>Összesen</td><td>6</td></tr>",
                            "<tr><td>134</td><td>2016</td><td>5</td></tr>",
                            "<tr><td>134</td><td>2017</td><td>1</td></tr>",
                            "<tr><td>134</td><td>Összesen</td><td>6</td></tr>",
                            "<tr><td>135</td><td>2016</td><td>3</td></tr>",
                            "<tr><td>135</td><td>Összesen</td><td>3</td></tr>",
                            "<tr><td>136</td><td>2016</td><td>3</td></tr>",
                            "<tr><td>136</td><td>Összesen</td><td>3</td></tr>",
                            "<tr><td>137</td><td>2016</td><td>6</td></tr>",
                            "<tr><td>137</td><td>Összesen</td><td>6</td></tr>",
                            "<tr><td>138</td><td>2016</td><td>7</td></tr>",
                            "<tr><td>138</td><td>Összesen</td><td>7</td></tr>",
                            "<tr><td>139</td><td>2016</td><td>5</td></tr>",
                            "<tr><td>139</td><td>2017</td><td>2</td></tr>",
                            "<tr><td>139</td><td>Összesen</td><td>7</td></tr>",
                            "<tr><td>140</td><td>2016</td><td>8</td></tr>",
                            "<tr><td>140</td><td>Összesen</td><td>8</td></tr>",
                            "<tr><td>141</td><td>2016</td><td>6</td></tr>",
                            "<tr><td>141</td><td>Összesen</td><td>6</td></tr>",
                            "<tr><td>142</td><td>2016</td><td>1</td></tr>",
                            "<tr><td>142</td><td>2017</td><td>1</td></tr>",
                            "<tr><td>142</td><td>Összesen</td><td>2</td></tr>",
                            "<tr><td>143</td><td>2016</td><td>6</td></tr>",
                            "<tr><td>143</td><td>2017</td><td>1</td></tr>",
                            "<tr><td>143</td><td>Összesen</td><td>7</td></tr>",
                            "<tr><td>144</td><td>2016</td><td>4</td></tr>",
                            "<tr><td>144</td><td>2017</td><td>1</td></tr>",
                            "<tr><td>144</td><td>Összesen</td><td>5</td></tr>",
                            "<tr><td>145</td><td>2016</td><td>5</td></tr>",
                            "<tr><td>145</td><td>2017</td><td>1</td></tr>",
                            "<tr><td>145</td><td>Összesen</td><td>6</td></tr>",
                            "<tr><td>146</td><td>2016</td><td>5</td></tr>",
                            "<tr><td>146</td><td>2017</td><td>1</td></tr>",
                            "<tr><td>146</td><td>Összesen</td><td>6</td></tr>",
                            "<tr><td>147</td><td>2016</td><td>1</td></tr>",
                            "<tr><td>147</td><td>Összesen</td><td>1</td></tr>",
                            "<tr><td>148</td><td>2016</td><td>5</td></tr>",
                            "<tr><td>148</td><td>2017</td><td>1</td></tr>",
                            "<tr><td>148</td><td>Összesen</td><td>6</td></tr>",
                            "<tr><td>149</td><td>2016</td><td>6</td></tr>",
                            "<tr><td>149</td><td>2017</td><td>1</td></tr>",
                            "<tr><td>149</td><td>Összesen</td><td>7</td></tr>",
                            "<tr><td>150</td><td>2016</td><td>5</td></tr>",
                            "<tr><td>150</td><td>2017</td><td>1</td></tr>",
                            "<tr><td>150</td><td>Összesen</td><td>6</td></tr>",
                            "<tr><td>151</td><td>2016</td><td>3</td></tr>",
                            "<tr><td>151</td><td>Összesen</td><td>3</td></tr>",
                            "<tr><td>152</td><td>2016</td><td>3</td></tr>",
                            "<tr><td>152</td><td>2017</td><td>1</td></tr>",
                            "<tr><td>152</td><td>Összesen</td><td>4</td></tr>",
                            "<tr><td>153</td><td>2016</td><td>2</td></tr>",
                            "<tr><td>153</td><td>2017</td><td>3</td></tr>",
                            "<tr><td>153</td><td>Összesen</td><td>5</td></tr>",
                            "<tr><td>154</td><td>2016</td><td>4</td></tr>",
                            "<tr><td>154</td><td>2017</td><td>1</td></tr>",
                            "<tr><td>154</td><td>Összesen</td><td>5</td></tr>",
                            "<tr><td>155</td><td>2016</td><td>4</td></tr>",
                            "<tr><td>155</td><td>2017</td><td>1</td></tr>",
                            "<tr><td>155</td><td>Összesen</td><td>5</td></tr>",
                            "<tr><td>156</td><td>2016</td><td>4</td></tr>",
                            "<tr><td>156</td><td>2017</td><td>3</td></tr>",
                            "<tr><td>156</td><td>Összesen</td><td>7</td></tr>",
                            "<tr><td>157</td><td>2016</td><td>4</td></tr>",
                            "<tr><td>157</td><td>2017</td><td>1</td></tr>",
                            "<tr><td>157</td><td>Összesen</td><td>5</td></tr>",
                            "<tr><td>158</td><td>2016</td><td>3</td></tr>",
                            "<tr><td>158</td><td>Összesen</td><td>3</td></tr>",
                            "<tr><td>160</td><td>2016</td><td>4</td></tr>",
                            "<tr><td>160</td><td>2017</td><td>1</td></tr>",
                            "<tr><td>160</td><td>Összesen</td><td>5</td></tr>",
                            "<tr><td>161</td><td>2016</td><td>5</td></tr>",
                            "<tr><td>161</td><td>2017</td><td>1</td></tr>",
                            "<tr><td>161</td><td>Összesen</td><td>6</td></tr>",
                            "<tr><td>162</td><td>2016</td><td>3</td></tr>",
                            "<tr><td>162</td><td>Összesen</td><td>3</td></tr>",
                            "<tr><td>163</td><td>2016</td><td>6</td></tr>",
                            "<tr><td>163</td><td>2017</td><td>1</td></tr>",
                            "<tr><td>163</td><td>Összesen</td><td>7</td></tr>",
                            "<tr><td>164</td><td>2016</td><td>5</td></tr>",
                            "<tr><td>164</td><td>Összesen</td><td>5</td></tr>",
                            "<tr><td>165</td><td>2016</td><td>7</td></tr>",
                            "<tr><td>165</td><td>Összesen</td><td>7</td></tr>",
                            "<tr><td>166</td><td>2016</td><td>2</td></tr>",
                            "<tr><td>166</td><td>2017</td><td>1</td></tr>",
                            "<tr><td>166</td><td>Összesen</td><td>3</td></tr>",
                            "<tr><td>167</td><td>2016</td><td>1</td></tr>",
                            "<tr><td>167</td><td>2017</td><td>1</td></tr>",
                            "<tr><td>167</td><td>Összesen</td><td>2</td></tr>",
                            "<tr><td>168</td><td>2016</td><td>5</td></tr>",
                            "<tr><td>168</td><td>Összesen</td><td>5</td></tr>",
                            "<tr><td>169</td><td>2016</td><td>5</td></tr>",
                            "<tr><td>169</td><td>2017</td><td>1</td></tr>",
                            "<tr><td>169</td><td>Összesen</td><td>6</td></tr>",
                            "<tr><td>170</td><td>2016</td><td>5</td></tr>",
                            "<tr><td>170</td><td>Összesen</td><td>5</td></tr>",
                            "<tr><td>171</td><td>2016</td><td>4</td></tr>",
                            "<tr><td>171</td><td>2017</td><td>1</td></tr>",
                            "<tr><td>171</td><td>Összesen</td><td>5</td></tr>",
                            "<tr><td>172</td><td>2016</td><td>7</td></tr>",
                            "<tr><td>172</td><td>2017</td><td>2</td></tr>",
                            "<tr><td>172</td><td>Összesen</td><td>9</td></tr>",
                            "<tr><td>173</td><td>2016</td><td>3</td></tr>",
                            "<tr><td>173</td><td>2017</td><td>1</td></tr>",
                            "<tr><td>173</td><td>Összesen</td><td>4</td></tr>",
                            "<tr><td>174</td><td>2016</td><td>4</td></tr>",
                            "<tr><td>174</td><td>Összesen</td><td>4</td></tr>",
                            "<tr><td>175</td><td>2016</td><td>5</td></tr>",
                            "<tr><td>175</td><td>Összesen</td><td>5</td></tr>",
                            "<tr><td>176</td><td>2016</td><td>4</td></tr>",
                            "<tr><td>176</td><td>2017</td><td>2</td></tr>",
                            "<tr><td>176</td><td>Összesen</td><td>6</td></tr>",
                            "<tr><td>177</td><td>2016</td><td>3</td></tr>",
                            "<tr><td>177</td><td>2017</td><td>1</td></tr>",
                            "<tr><td>177</td><td>Összesen</td><td>4</td></tr>",
                            "<tr><td>178</td><td>2016</td><td>4</td></tr>",
                            "<tr><td>178</td><td>Összesen</td><td>4</td></tr>",
                            "<tr><td>179</td><td>2016</td><td>2</td></tr>",
                            "<tr><td>179</td><td>2017</td><td>1</td></tr>",
                            "<tr><td>179</td><td>Összesen</td><td>3</td></tr>",
                            "<tr><td>180</td><td>2016</td><td>1</td></tr>",
                            "<tr><td>180</td><td>2017</td><td>2</td></tr>",
                            "<tr><td>180</td><td>Összesen</td><td>3</td></tr>",
                            "<tr><td>181</td><td>2016</td><td>6</td></tr>",
                            "<tr><td>181</td><td>Összesen</td><td>6</td></tr>",
                            "<tr><td>182</td><td>2016</td><td>10</td></tr>",
                            "<tr><td>182</td><td>2017</td><td>2</td></tr>",
                            "<tr><td>182</td><td>Összesen</td><td>12</td></tr>",
                            "<tr><td>183</td><td>2016</td><td>3</td></tr>",
                            "<tr><td>183</td><td>2017</td><td>1</td></tr>",
                            "<tr><td>183</td><td>Összesen</td><td>4</td></tr>",
                            "<tr><td>184</td><td>2016</td><td>4</td></tr>",
                            "<tr><td>184</td><td>Összesen</td><td>4</td></tr>",
                            "<tr><td>185</td><td>2016</td><td>10</td></tr>",
                            "<tr><td>185</td><td>2017</td><td>2</td></tr>",
                            "<tr><td>185</td><td>Összesen</td><td>12</td></tr>",
                            "<tr><td>186</td><td>2016</td><td>3</td></tr>",
                            "<tr><td>186</td><td>2017</td><td>1</td></tr>",
                            "<tr><td>186</td><td>Összesen</td><td>4</td></tr>",
                            "<tr><td>187</td><td>2016</td><td>7</td></tr>",
                            "<tr><td>187</td><td>Összesen</td><td>7</td></tr>",
                            "<tr><td>188</td><td>2016</td><td>6</td></tr>",
                            "<tr><td>188</td><td>Összesen</td><td>6</td></tr>",
                            "<tr><td>189</td><td>2016</td><td>3</td></tr>",
                            "<tr><td>189</td><td>2017</td><td>2</td></tr>",
                            "<tr><td>189</td><td>Összesen</td><td>5</td></tr>",
                            "<tr><td>190</td><td>2016</td><td>4</td></tr>",
                            "<tr><td>190</td><td>2017</td><td>1</td></tr>",
                            "<tr><td>190</td><td>Összesen</td><td>5</td></tr>",
                            "<tr><td>191</td><td>2016</td><td>3</td></tr>",
                            "<tr><td>191</td><td>2017</td><td>2</td></tr>",
                            "<tr><td>191</td><td>Összesen</td><td>5</td></tr>",
                            "<tr><td>192</td><td>2016</td><td>2</td></tr>",
                            "<tr><td>192</td><td>Összesen</td><td>2</td></tr>",
                            "<tr><td>193</td><td>2016</td><td>7</td></tr>",
                            "<tr><td>193</td><td>Összesen</td><td>7</td></tr>",
                            "<tr><td>194</td><td>2016</td><td>1</td></tr>",
                            "<tr><td>194</td><td>Összesen</td><td>1</td></tr>",
                            "<tr><td>195</td><td>2016</td><td>4</td></tr>",
                            "<tr><td>195</td><td>2017</td><td>2</td></tr>",
                            "<tr><td>195</td><td>Összesen</td><td>6</td></tr>",
                            "<tr><td>196</td><td>2016</td><td>4</td></tr>",
                            "<tr><td>196</td><td>Összesen</td><td>4</td></tr>",
                            "<tr><td>197</td><td>2016</td><td>6</td></tr>",
                            "<tr><td>197</td><td>Összesen</td><td>6</td></tr>",
                            "<tr><td>198</td><td>2016</td><td>7</td></tr>",
                            "<tr><td>198</td><td>2017</td><td>1</td></tr>",
                            "<tr><td>198</td><td>Összesen</td><td>8</td></tr>",
                            "<tr><td>NULL</td><td>Összesen</td><td>1027</td></tr>",
                            "</table>"
                        ]
                    }
                }
            ],
            "execution_count": 30
        },
        {
            "cell_type": "markdown",
            "source": [
                "Rangsoroljuk az egyes szobákat a foglalások száma, azon belül férőhely szerint!\n",
                "\n",
                "- Holtverseny esetén a sorszámok sűrűn kövessék egymást\n",
                "- Az 1-es számot a legtöbbet foglalt, azon belül legkevesebb férőhelyű szoba kapja\n",
                "- Csak a szoba azonosítója, a férőhely és a helyezés jelenjen meg"
            ],
            "metadata": {
                "azdata_cell_guid": "093e5701-37dd-428d-9fee-ed2be90360ae"
            },
            "attachments": {}
        },
        {
            "cell_type": "code",
            "source": [
                "SELECT sz.SZOBA_ID, sz.ferohely,\r\n",
                "        RANK()  OVER (PARTITION count(f.FOGLALAS_PK) ORDER BY sz.ferohely DESC)\r\n",
                "FROM Szoba sz JOIN Foglalas f ON sz.SZOBA_ID=f.SZOBA_FK"
            ],
            "metadata": {
                "azdata_cell_guid": "7aa7a38c-aa2e-49d4-8234-4401a287ccff",
                "language": "sql",
                "tags": []
            },
            "outputs": [
                {
                    "output_type": "error",
                    "evalue": "Msg 102, Level 15, State 1, Line 2\r\nIncorrect syntax near 'count'.",
                    "ename": "",
                    "traceback": []
                },
                {
                    "output_type": "display_data",
                    "data": {
                        "text/html": "Total execution time: 00:00:00.002"
                    },
                    "metadata": {}
                }
            ],
            "execution_count": 38
        },
        {
            "cell_type": "markdown",
            "source": [
                "Kérdezzük le az átlagosnál kevesebb főre történt foglalások adatait!\n",
                "\n",
                "a. Egy új oszlopban jelenjen meg az ügyfél neve is!\n",
                "\n",
                "b. Egy másik új oszlop mutassa meg, hogy az ügyfél előző három foglalása átlagosan hány főre történt! Az oszlop neve legyen 'Előző három foglalás átlaga'\n",
                "\n",
                "c. A listában azon vendégek is jelenjenek meg, akik még nem foglaltak!"
            ],
            "metadata": {
                "azdata_cell_guid": "d781235f-4ed7-4cd7-adf8-872369e7db6a"
            },
            "attachments": {}
        },
        {
            "cell_type": "code",
            "source": [
                "SELECT *, v.NEV,\r\n",
                "        AVG((f.FELNOTT_SZAM+f.GYERMEK_SZAM))\r\n",
                "           OVER(ORDER BY (f.FELNOTT_SZAM+f.GYERMEK_SZAM) ROWS BETWEEN 3 PRECEDING AND 0 FOLLOWING) AS 'Előző három foglalás átlaga'\r\n",
                "FROM Vendeg v LEFT JOIN Foglalas f ON f.UGYFEL_FK = v.USERNEV\r\n",
                "WHERE (f.FELNOTT_SZAM+f.GYERMEK_SZAM) <\r\n",
                "(\r\n",
                " SELECT avg(FELNOTT_SZAM+GYERMEK_SZAM)\r\n",
                " FROM Foglalas\r\n",
                ")"
            ],
            "metadata": {
                "azdata_cell_guid": "78550893-4197-40a8-8d76-d00e328ad6f9",
                "language": "sql"
            },
            "outputs": [
                {
                    "output_type": "display_data",
                    "data": {
                        "text/html": "(147 rows affected)"
                    },
                    "metadata": {}
                },
                {
                    "output_type": "display_data",
                    "data": {
                        "text/html": "Total execution time: 00:00:00.025"
                    },
                    "metadata": {}
                },
                {
                    "output_type": "execute_result",
                    "metadata": {},
                    "execution_count": 20,
                    "data": {
                        "application/vnd.dataresource+json": {
                            "schema": {
                                "fields": [
                                    {
                                        "name": "USERNEV"
                                    },
                                    {
                                        "name": "NEV"
                                    },
                                    {
                                        "name": "EMAIL"
                                    },
                                    {
                                        "name": "SZAML_CIM"
                                    },
                                    {
                                        "name": "SZUL_DAT"
                                    },
                                    {
                                        "name": "FOGLALAS_PK"
                                    },
                                    {
                                        "name": "UGYFEL_FK"
                                    },
                                    {
                                        "name": "SZOBA_FK"
                                    },
                                    {
                                        "name": "METTOL"
                                    },
                                    {
                                        "name": "MEDDIG"
                                    },
                                    {
                                        "name": "FELNOTT_SZAM"
                                    },
                                    {
                                        "name": "GYERMEK_SZAM"
                                    },
                                    {
                                        "name": "NEV"
                                    },
                                    {
                                        "name": "Előző három foglalás átlaga"
                                    }
                                ]
                            },
                            "data": [
                                {
                                    "USERNEV": "adam1",
                                    "NEV": "Kiss Ádám",
                                    "EMAIL": "ádám.kiss@mail.hu",
                                    "SZAML_CIM": "5630 Békés Szolnoki út 8.",
                                    "SZUL_DAT": "1991-12-28",
                                    "FOGLALAS_PK": "803",
                                    "UGYFEL_FK": "adam1",
                                    "SZOBA_FK": "1",
                                    "METTOL": "2016-08-20",
                                    "MEDDIG": "2016-08-24",
                                    "FELNOTT_SZAM": "1",
                                    "GYERMEK_SZAM": "0",
                                    "Előző három foglalás átlaga": "1"
                                },
                                {
                                    "USERNEV": "adam3",
                                    "NEV": "Barkóci Ádám",
                                    "EMAIL": "adam3@gmail.com",
                                    "SZAML_CIM": "3910 Tokaj Dózsa György utca 37.",
                                    "SZUL_DAT": "1970-06-07",
                                    "FOGLALAS_PK": "1504",
                                    "UGYFEL_FK": "adam3",
                                    "SZOBA_FK": "57",
                                    "METTOL": "2017-02-06",
                                    "MEDDIG": "2017-02-10",
                                    "FELNOTT_SZAM": "1",
                                    "GYERMEK_SZAM": "0",
                                    "Előző három foglalás átlaga": "1"
                                },
                                {
                                    "USERNEV": "agnes",
                                    "NEV": "Lengyel Ágnes",
                                    "EMAIL": "agnes@gmail.com",
                                    "SZAML_CIM": "5200 Törökszentmiklós Deák Ferenc út 5.",
                                    "SZUL_DAT": "1979-12-10",
                                    "FOGLALAS_PK": "857",
                                    "UGYFEL_FK": "agnes",
                                    "SZOBA_FK": "165",
                                    "METTOL": "2016-05-25",
                                    "MEDDIG": "2016-05-30",
                                    "FELNOTT_SZAM": "1",
                                    "GYERMEK_SZAM": "0",
                                    "Előző három foglalás átlaga": "1"
                                },
                                {
                                    "USERNEV": "agnes3",
                                    "NEV": "Hartyánszky Ágnes",
                                    "EMAIL": "agnes3@gmail.com",
                                    "SZAML_CIM": "6430 Bácsalmás Posta köz 2.",
                                    "SZUL_DAT": "1967-04-11",
                                    "FOGLALAS_PK": "755",
                                    "UGYFEL_FK": "agnes3",
                                    "SZOBA_FK": "20",
                                    "METTOL": "2016-08-04",
                                    "MEDDIG": "2016-08-10",
                                    "FELNOTT_SZAM": "1",
                                    "GYERMEK_SZAM": "0",
                                    "Előző három foglalás átlaga": "1"
                                },
                                {
                                    "USERNEV": "AGNESH",
                                    "NEV": "Horváth Ágnes",
                                    "EMAIL": "AGNESH@gmail.com",
                                    "SZAML_CIM": "8200 Veszprém Rákóczi utca 21.",
                                    "SZUL_DAT": "1981-12-24",
                                    "FOGLALAS_PK": "980",
                                    "UGYFEL_FK": "AGNESH",
                                    "SZOBA_FK": "143",
                                    "METTOL": "2016-06-23",
                                    "MEDDIG": "2016-06-26",
                                    "FELNOTT_SZAM": "1",
                                    "GYERMEK_SZAM": "0",
                                    "Előző három foglalás átlaga": "1"
                                },
                                {
                                    "USERNEV": "AGNESH",
                                    "NEV": "Horváth Ágnes",
                                    "EMAIL": "AGNESH@gmail.com",
                                    "SZAML_CIM": "8200 Veszprém Rákóczi utca 21.",
                                    "SZUL_DAT": "1981-12-24",
                                    "FOGLALAS_PK": "1225",
                                    "UGYFEL_FK": "AGNESH",
                                    "SZOBA_FK": "69",
                                    "METTOL": "2016-10-30",
                                    "MEDDIG": "2016-11-04",
                                    "FELNOTT_SZAM": "1",
                                    "GYERMEK_SZAM": "0",
                                    "Előző három foglalás átlaga": "1"
                                },
                                {
                                    "USERNEV": "akos",
                                    "NEV": "Bíró Ákos",
                                    "EMAIL": "ákos.bíró@mail.hu",
                                    "SZAML_CIM": "9023 Győr Kossuth Lajos utca 47/b.",
                                    "SZUL_DAT": "1982-04-24",
                                    "FOGLALAS_PK": "1034",
                                    "UGYFEL_FK": "akos",
                                    "SZOBA_FK": "127",
                                    "METTOL": "2016-09-06",
                                    "MEDDIG": "2016-09-12",
                                    "FELNOTT_SZAM": "1",
                                    "GYERMEK_SZAM": "0",
                                    "Előző három foglalás átlaga": "1"
                                },
                                {
                                    "USERNEV": "akos",
                                    "NEV": "Bíró Ákos",
                                    "EMAIL": "ákos.bíró@mail.hu",
                                    "SZAML_CIM": "9023 Győr Kossuth Lajos utca 47/b.",
                                    "SZUL_DAT": "1982-04-24",
                                    "FOGLALAS_PK": "705",
                                    "UGYFEL_FK": "akos",
                                    "SZOBA_FK": "37",
                                    "METTOL": "2016-07-22",
                                    "MEDDIG": "2016-07-26",
                                    "FELNOTT_SZAM": "1",
                                    "GYERMEK_SZAM": "0",
                                    "Előző három foglalás átlaga": "1"
                                },
                                {
                                    "USERNEV": "aladar",
                                    "NEV": "Dunai Aladár",
                                    "EMAIL": "aladár.dunai@mail.hu",
                                    "SZAML_CIM": "5931 Nagyszénás Árpád utca 23.",
                                    "SZUL_DAT": "1980-11-01",
                                    "FOGLALAS_PK": "651",
                                    "UGYFEL_FK": "aladar",
                                    "SZOBA_FK": "4",
                                    "METTOL": "2016-05-17",
                                    "MEDDIG": "2016-05-24",
                                    "FELNOTT_SZAM": "1",
                                    "GYERMEK_SZAM": "0",
                                    "Előző három foglalás átlaga": "1"
                                },
                                {
                                    "USERNEV": "aladar",
                                    "NEV": "Dunai Aladár",
                                    "EMAIL": "aladár.dunai@mail.hu",
                                    "SZAML_CIM": "5931 Nagyszénás Árpád utca 23.",
                                    "SZUL_DAT": "1980-11-01",
                                    "FOGLALAS_PK": "1079",
                                    "UGYFEL_FK": "aladar",
                                    "SZOBA_FK": "86",
                                    "METTOL": "2016-09-24",
                                    "MEDDIG": "2016-09-28",
                                    "FELNOTT_SZAM": "1",
                                    "GYERMEK_SZAM": "0",
                                    "Előző három foglalás átlaga": "1"
                                },
                                {
                                    "USERNEV": "alexandra",
                                    "NEV": "Bagóczki Alexandra",
                                    "EMAIL": "alexandra.bagóczki@mail.hu",
                                    "SZAML_CIM": "2381 Táborfalva Petőfi utca 1/2.",
                                    "SZUL_DAT": "1992-03-25",
                                    "FOGLALAS_PK": "1436",
                                    "UGYFEL_FK": "alexandra",
                                    "SZOBA_FK": "35",
                                    "METTOL": "2017-01-13",
                                    "MEDDIG": "2017-01-14",
                                    "FELNOTT_SZAM": "1",
                                    "GYERMEK_SZAM": "0",
                                    "Előző három foglalás átlaga": "1"
                                },
                                {
                                    "USERNEV": "andi",
                                    "NEV": "Maródi Andrea",
                                    "EMAIL": "andrea.maródi@mail.hu",
                                    "SZAML_CIM": "5465 Cserkeszőlő Árpád utca 4.",
                                    "SZUL_DAT": "1968-05-07",
                                    "FOGLALAS_PK": "955",
                                    "UGYFEL_FK": "andi",
                                    "SZOBA_FK": "47",
                                    "METTOL": "2016-06-13",
                                    "MEDDIG": "2016-06-14",
                                    "FELNOTT_SZAM": "1",
                                    "GYERMEK_SZAM": "0",
                                    "Előző három foglalás átlaga": "1"
                                },
                                {
                                    "USERNEV": "andras2",
                                    "NEV": "Tóth András",
                                    "EMAIL": "andrás.tóth@mail.hu",
                                    "SZAML_CIM": "4071 Egyek Petőfi utca 30.",
                                    "SZUL_DAT": "1997-10-31",
                                    "FOGLALAS_PK": "884",
                                    "UGYFEL_FK": "andras2",
                                    "SZOBA_FK": "98",
                                    "METTOL": "2016-05-30",
                                    "MEDDIG": "2016-06-04",
                                    "FELNOTT_SZAM": "1",
                                    "GYERMEK_SZAM": "0",
                                    "Előző három foglalás átlaga": "1"
                                },
                                {
                                    "USERNEV": "andras21",
                                    "NEV": "Molnár András",
                                    "EMAIL": "andrás.molnár@mail.hu",
                                    "SZAML_CIM": "7900 Szigetvár Rákóczi utca 67.",
                                    "SZUL_DAT": "1977-11-16",
                                    "FOGLALAS_PK": "697",
                                    "UGYFEL_FK": "andras21",
                                    "SZOBA_FK": "12",
                                    "METTOL": "2016-07-20",
                                    "MEDDIG": "2016-07-22",
                                    "FELNOTT_SZAM": "1",
                                    "GYERMEK_SZAM": "0",
                                    "Előző három foglalás átlaga": "1"
                                },
                                {
                                    "USERNEV": "andras3",
                                    "NEV": "Vígh András",
                                    "EMAIL": "andrás.vígh@mail.hu",
                                    "SZAML_CIM": "1118 Budapest Arany János utca 1.",
                                    "SZUL_DAT": "1971-04-02",
                                    "FOGLALAS_PK": "880",
                                    "UGYFEL_FK": "andras3",
                                    "SZOBA_FK": "184",
                                    "METTOL": "2016-05-30",
                                    "MEDDIG": "2016-06-03",
                                    "FELNOTT_SZAM": "1",
                                    "GYERMEK_SZAM": "0",
                                    "Előző három foglalás átlaga": "1"
                                },
                                {
                                    "USERNEV": "andras3",
                                    "NEV": "Vígh András",
                                    "EMAIL": "andrás.vígh@mail.hu",
                                    "SZAML_CIM": "1118 Budapest Arany János utca 1.",
                                    "SZUL_DAT": "1971-04-02",
                                    "FOGLALAS_PK": "949",
                                    "UGYFEL_FK": "andras3",
                                    "SZOBA_FK": "1",
                                    "METTOL": "2016-06-10",
                                    "MEDDIG": "2016-06-11",
                                    "FELNOTT_SZAM": "1",
                                    "GYERMEK_SZAM": "0",
                                    "Előző három foglalás átlaga": "1"
                                },
                                {
                                    "USERNEV": "andras41",
                                    "NEV": "Komjáti András",
                                    "EMAIL": "andras41@gmail.com",
                                    "SZAML_CIM": "5065 Nagykörű Kossuth út 24.",
                                    "SZUL_DAT": "1997-10-25",
                                    "FOGLALAS_PK": "799",
                                    "UGYFEL_FK": "andras41",
                                    "SZOBA_FK": "175",
                                    "METTOL": "2016-08-19",
                                    "MEDDIG": "2016-08-23",
                                    "FELNOTT_SZAM": "1",
                                    "GYERMEK_SZAM": "0",
                                    "Előző három foglalás átlaga": "1"
                                },
                                {
                                    "USERNEV": "andras41",
                                    "NEV": "Komjáti András",
                                    "EMAIL": "andras41@gmail.com",
                                    "SZAML_CIM": "5065 Nagykörű Kossuth út 24.",
                                    "SZUL_DAT": "1997-10-25",
                                    "FOGLALAS_PK": "1308",
                                    "UGYFEL_FK": "andras41",
                                    "SZOBA_FK": "182",
                                    "METTOL": "2016-11-23",
                                    "MEDDIG": "2016-11-24",
                                    "FELNOTT_SZAM": "1",
                                    "GYERMEK_SZAM": "0",
                                    "Előző három foglalás átlaga": "1"
                                },
                                {
                                    "USERNEV": "andras41",
                                    "NEV": "Komjáti András",
                                    "EMAIL": "andras41@gmail.com",
                                    "SZAML_CIM": "5065 Nagykörű Kossuth út 24.",
                                    "SZUL_DAT": "1997-10-25",
                                    "FOGLALAS_PK": "1074",
                                    "UGYFEL_FK": "andras41",
                                    "SZOBA_FK": "195",
                                    "METTOL": "2016-09-22",
                                    "MEDDIG": "2016-09-29",
                                    "FELNOTT_SZAM": "1",
                                    "GYERMEK_SZAM": "0",
                                    "Előző három foglalás átlaga": "1"
                                },
                                {
                                    "USERNEV": "ANDRASE",
                                    "NEV": "Erdei András",
                                    "EMAIL": "ANDRASE@gmail.com",
                                    "SZAML_CIM": "5071 Besenyszög Szolnoki út 8.",
                                    "SZUL_DAT": "1997-05-29",
                                    "FOGLALAS_PK": "600",
                                    "UGYFEL_FK": "ANDRASE",
                                    "SZOBA_FK": "190",
                                    "METTOL": "2016-04-24",
                                    "MEDDIG": "2016-05-01",
                                    "FELNOTT_SZAM": "1",
                                    "GYERMEK_SZAM": "0",
                                    "Előző három foglalás átlaga": "1"
                                },
                                {
                                    "USERNEV": "andrea4",
                                    "NEV": "Neizer Andrea",
                                    "EMAIL": "andrea4@gmail.com",
                                    "SZAML_CIM": "1124 Budapest Kiss u. 8.",
                                    "SZUL_DAT": "1981-05-17",
                                    "FOGLALAS_PK": "860",
                                    "UGYFEL_FK": "andrea4",
                                    "SZOBA_FK": "70",
                                    "METTOL": "2016-05-27",
                                    "MEDDIG": "2016-05-29",
                                    "FELNOTT_SZAM": "1",
                                    "GYERMEK_SZAM": "0",
                                    "Előző három foglalás átlaga": "1"
                                },
                                {
                                    "USERNEV": "anett3",
                                    "NEV": "Pivarcsi Anett",
                                    "EMAIL": "anett.pivarcsi@mail.hu",
                                    "SZAML_CIM": "1149 Budapest Fő út 60.",
                                    "SZUL_DAT": "1967-01-03",
                                    "FOGLALAS_PK": "567",
                                    "UGYFEL_FK": "anett3",
                                    "SZOBA_FK": "170",
                                    "METTOL": "2016-04-10",
                                    "MEDDIG": "2016-04-17",
                                    "FELNOTT_SZAM": "1",
                                    "GYERMEK_SZAM": "0",
                                    "Előző három foglalás átlaga": "1"
                                },
                                {
                                    "USERNEV": "anett3",
                                    "NEV": "Pivarcsi Anett",
                                    "EMAIL": "anett.pivarcsi@mail.hu",
                                    "SZAML_CIM": "1149 Budapest Fő út 60.",
                                    "SZUL_DAT": "1967-01-03",
                                    "FOGLALAS_PK": "1159",
                                    "UGYFEL_FK": "anett3",
                                    "SZOBA_FK": "73",
                                    "METTOL": "2016-10-16",
                                    "MEDDIG": "2016-10-21",
                                    "FELNOTT_SZAM": "1",
                                    "GYERMEK_SZAM": "0",
                                    "Előző három foglalás átlaga": "1"
                                },
                                {
                                    "USERNEV": "aniko4",
                                    "NEV": "Böröcz Anikó",
                                    "EMAIL": "aniko4@gmail.com",
                                    "SZAML_CIM": "2484 Agárd Petőfi Sándor tér 1.",
                                    "SZUL_DAT": "1978-03-26",
                                    "FOGLALAS_PK": "1001",
                                    "UGYFEL_FK": "aniko4",
                                    "SZOBA_FK": "4",
                                    "METTOL": "2016-07-02",
                                    "MEDDIG": "2016-07-09",
                                    "FELNOTT_SZAM": "1",
                                    "GYERMEK_SZAM": "0",
                                    "Előző három foglalás átlaga": "1"
                                },
                                {
                                    "USERNEV": "ANIKOS",
                                    "NEV": "Simon Anikó",
                                    "EMAIL": "ANIKOS@gmail.com",
                                    "SZAML_CIM": "5137 Jászkisér Bécsi utca 82.",
                                    "SZUL_DAT": "1988-12-14",
                                    "FOGLALAS_PK": "965",
                                    "UGYFEL_FK": "ANIKOS",
                                    "SZOBA_FK": "5",
                                    "METTOL": "2016-06-16",
                                    "MEDDIG": "2016-06-23",
                                    "FELNOTT_SZAM": "1",
                                    "GYERMEK_SZAM": "0",
                                    "Előző három foglalás átlaga": "1"
                                },
                                {
                                    "USERNEV": "ANNAMARIAR",
                                    "NEV": "Regős Annamária",
                                    "EMAIL": "ANNAMARIAR@gmail.com",
                                    "SZAML_CIM": "8283 Káptalantóti Petőfi Sándor tér 1.",
                                    "SZUL_DAT": "1977-09-26",
                                    "FOGLALAS_PK": "684",
                                    "UGYFEL_FK": "ANNAMARIAR",
                                    "SZOBA_FK": "184",
                                    "METTOL": "2016-07-18",
                                    "MEDDIG": "2016-07-21",
                                    "FELNOTT_SZAM": "1",
                                    "GYERMEK_SZAM": "0",
                                    "Előző három foglalás átlaga": "1"
                                },
                                {
                                    "USERNEV": "ARPADH",
                                    "NEV": "Horváth Árpád",
                                    "EMAIL": "árpád.horváth@mail.hu",
                                    "SZAML_CIM": "7349 Szászvár Dózsa György u. 1.",
                                    "SZUL_DAT": "1990-05-18",
                                    "FOGLALAS_PK": "1066",
                                    "UGYFEL_FK": "ARPADH",
                                    "SZOBA_FK": "49",
                                    "METTOL": "2016-09-18",
                                    "MEDDIG": "2016-09-25",
                                    "FELNOTT_SZAM": "1",
                                    "GYERMEK_SZAM": "0",
                                    "Előző három foglalás átlaga": "1"
                                },
                                {
                                    "USERNEV": "ARPADH",
                                    "NEV": "Horváth Árpád",
                                    "EMAIL": "árpád.horváth@mail.hu",
                                    "SZAML_CIM": "7349 Szászvár Dózsa György u. 1.",
                                    "SZUL_DAT": "1990-05-18",
                                    "FOGLALAS_PK": "1056",
                                    "UGYFEL_FK": "ARPADH",
                                    "SZOBA_FK": "47",
                                    "METTOL": "2016-09-16",
                                    "MEDDIG": "2016-09-23",
                                    "FELNOTT_SZAM": "1",
                                    "GYERMEK_SZAM": "0",
                                    "Előző három foglalás átlaga": "1"
                                },
                                {
                                    "USERNEV": "ARPADH",
                                    "NEV": "Horváth Árpád",
                                    "EMAIL": "árpád.horváth@mail.hu",
                                    "SZAML_CIM": "7349 Szászvár Dózsa György u. 1.",
                                    "SZUL_DAT": "1990-05-18",
                                    "FOGLALAS_PK": "1342",
                                    "UGYFEL_FK": "ARPADH",
                                    "SZOBA_FK": "170",
                                    "METTOL": "2016-12-04",
                                    "MEDDIG": "2016-12-10",
                                    "FELNOTT_SZAM": "1",
                                    "GYERMEK_SZAM": "0",
                                    "Előző három foglalás átlaga": "1"
                                },
                                {
                                    "USERNEV": "ARPADM",
                                    "NEV": "Móricz Árpád",
                                    "EMAIL": "árpád.móricz@mail.hu",
                                    "SZAML_CIM": "3910 Tokaj Rákóczi utca 67.",
                                    "SZUL_DAT": "1986-04-20",
                                    "FOGLALAS_PK": "1420",
                                    "UGYFEL_FK": "ARPADM",
                                    "SZOBA_FK": "198",
                                    "METTOL": "2017-01-05",
                                    "MEDDIG": "2017-01-10",
                                    "FELNOTT_SZAM": "1",
                                    "GYERMEK_SZAM": "0",
                                    "Előző három foglalás átlaga": "1"
                                },
                                {
                                    "USERNEV": "attila",
                                    "NEV": "Csóti Attila",
                                    "EMAIL": "attila@gmail.com",
                                    "SZAML_CIM": "3000 Hatvan Bajcsy-Zsilinszky utca 4.",
                                    "SZUL_DAT": "1979-12-25",
                                    "FOGLALAS_PK": "1154",
                                    "UGYFEL_FK": "attila",
                                    "SZOBA_FK": "115",
                                    "METTOL": "2016-10-15",
                                    "MEDDIG": "2016-10-19",
                                    "FELNOTT_SZAM": "1",
                                    "GYERMEK_SZAM": "0",
                                    "Előző három foglalás átlaga": "1"
                                },
                                {
                                    "USERNEV": "attila1",
                                    "NEV": "Gulyás Attila",
                                    "EMAIL": "attila.gulyás@mail.hu",
                                    "SZAML_CIM": "3881 Abaújszántó Szolnoki út 8.",
                                    "SZUL_DAT": "1982-08-16",
                                    "FOGLALAS_PK": "657",
                                    "UGYFEL_FK": "attila1",
                                    "SZOBA_FK": "137",
                                    "METTOL": "2016-05-20",
                                    "MEDDIG": "2016-05-26",
                                    "FELNOTT_SZAM": "1",
                                    "GYERMEK_SZAM": "0",
                                    "Előző három foglalás átlaga": "1"
                                },
                                {
                                    "USERNEV": "balazs2",
                                    "NEV": "Szűcs Balázs",
                                    "EMAIL": "balázs.szűcs@mail.hu",
                                    "SZAML_CIM": "3170 Szécsény Szabadság utca 95.",
                                    "SZUL_DAT": "1984-10-31",
                                    "FOGLALAS_PK": "1578",
                                    "UGYFEL_FK": "balazs2",
                                    "SZOBA_FK": "148",
                                    "METTOL": "2017-02-27",
                                    "MEDDIG": "2017-03-06",
                                    "FELNOTT_SZAM": "1",
                                    "GYERMEK_SZAM": "0",
                                    "Előző három foglalás átlaga": "1"
                                },
                                {
                                    "USERNEV": "balint1",
                                    "NEV": "Molnár Bálint",
                                    "EMAIL": "balint1@gmail.com",
                                    "SZAML_CIM": "9181 Kimle Fő út 169.",
                                    "SZUL_DAT": "1989-08-24",
                                    "FOGLALAS_PK": "948",
                                    "UGYFEL_FK": "balint1",
                                    "SZOBA_FK": "19",
                                    "METTOL": "2016-06-10",
                                    "MEDDIG": "2016-06-12",
                                    "FELNOTT_SZAM": "1",
                                    "GYERMEK_SZAM": "0",
                                    "Előző három foglalás átlaga": "1"
                                },
                                {
                                    "USERNEV": "balint1",
                                    "NEV": "Molnár Bálint",
                                    "EMAIL": "balint1@gmail.com",
                                    "SZAML_CIM": "9181 Kimle Fő út 169.",
                                    "SZUL_DAT": "1989-08-24",
                                    "FOGLALAS_PK": "1057",
                                    "UGYFEL_FK": "balint1",
                                    "SZOBA_FK": "86",
                                    "METTOL": "2016-09-16",
                                    "MEDDIG": "2016-09-21",
                                    "FELNOTT_SZAM": "1",
                                    "GYERMEK_SZAM": "0",
                                    "Előző három foglalás átlaga": "1"
                                },
                                {
                                    "USERNEV": "balint2",
                                    "NEV": "Vukasinovity Bálint",
                                    "EMAIL": "balint2@gmail.com",
                                    "SZAML_CIM": "2330 Dunaharaszti Béke utca 7.",
                                    "SZUL_DAT": "1997-09-03",
                                    "FOGLALAS_PK": "702",
                                    "UGYFEL_FK": "balint2",
                                    "SZOBA_FK": "62",
                                    "METTOL": "2016-07-21",
                                    "MEDDIG": "2016-07-26",
                                    "FELNOTT_SZAM": "1",
                                    "GYERMEK_SZAM": "0",
                                    "Előző három foglalás átlaga": "1"
                                },
                                {
                                    "USERNEV": "beata4",
                                    "NEV": "Bagi Beáta",
                                    "EMAIL": "beáta.bagi@mail.hu",
                                    "SZAML_CIM": "8477 Tüskevár Felszabadulás utca 32.",
                                    "SZUL_DAT": "1994-03-19",
                                    "FOGLALAS_PK": "1005",
                                    "UGYFEL_FK": "beata4",
                                    "SZOBA_FK": "22",
                                    "METTOL": "2016-07-03",
                                    "MEDDIG": "2016-07-06",
                                    "FELNOTT_SZAM": "1",
                                    "GYERMEK_SZAM": "0",
                                    "Előző három foglalás átlaga": "1"
                                },
                                {
                                    "USERNEV": "beata4",
                                    "NEV": "Bagi Beáta",
                                    "EMAIL": "beáta.bagi@mail.hu",
                                    "SZAML_CIM": "8477 Tüskevár Felszabadulás utca 32.",
                                    "SZUL_DAT": "1994-03-19",
                                    "FOGLALAS_PK": "1112",
                                    "UGYFEL_FK": "beata4",
                                    "SZOBA_FK": "155",
                                    "METTOL": "2016-10-01",
                                    "MEDDIG": "2016-10-05",
                                    "FELNOTT_SZAM": "1",
                                    "GYERMEK_SZAM": "0",
                                    "Előző három foglalás átlaga": "1"
                                },
                                {
                                    "USERNEV": "BEATRIXS",
                                    "NEV": "Szekendi Beatrix",
                                    "EMAIL": "beatrix.szekendi@mail.hu",
                                    "SZAML_CIM": "4060 Balmazújváros Jászai tér 21.",
                                    "SZUL_DAT": "1981-04-06",
                                    "FOGLALAS_PK": "586",
                                    "UGYFEL_FK": "BEATRIXS",
                                    "SZOBA_FK": "107",
                                    "METTOL": "2016-04-18",
                                    "MEDDIG": "2016-04-24",
                                    "FELNOTT_SZAM": "1",
                                    "GYERMEK_SZAM": "0",
                                    "Előző három foglalás átlaga": "1"
                                },
                                {
                                    "USERNEV": "BELAF",
                                    "NEV": "Farkas Béla",
                                    "EMAIL": "BELAF@gmail.com",
                                    "SZAML_CIM": "5530 Vésztő Petőfi Sándor utca 3.",
                                    "SZUL_DAT": "1995-02-24",
                                    "FOGLALAS_PK": "1350",
                                    "UGYFEL_FK": "BELAF",
                                    "SZOBA_FK": "173",
                                    "METTOL": "2016-12-06",
                                    "MEDDIG": "2016-12-09",
                                    "FELNOTT_SZAM": "1",
                                    "GYERMEK_SZAM": "0",
                                    "Előző három foglalás átlaga": "1"
                                },
                                {
                                    "USERNEV": "bence",
                                    "NEV": "Győrffy Bence",
                                    "EMAIL": "bence@gmail.com",
                                    "SZAML_CIM": "6900 Makó Árpád utca 23.",
                                    "SZUL_DAT": "1987-07-09",
                                    "FOGLALAS_PK": "872",
                                    "UGYFEL_FK": "bence",
                                    "SZOBA_FK": "28",
                                    "METTOL": "2016-05-29",
                                    "MEDDIG": "2016-06-03",
                                    "FELNOTT_SZAM": "1",
                                    "GYERMEK_SZAM": "0",
                                    "Előző három foglalás átlaga": "1"
                                },
                                {
                                    "USERNEV": "bernadett1",
                                    "NEV": "Simon Bernadett",
                                    "EMAIL": "bernadett1@gmail.com",
                                    "SZAML_CIM": "2300 Ráckeve Fő utca 108.",
                                    "SZUL_DAT": "1984-10-13",
                                    "FOGLALAS_PK": "1568",
                                    "UGYFEL_FK": "bernadett1",
                                    "SZOBA_FK": "29",
                                    "METTOL": "2017-02-24",
                                    "MEDDIG": "2017-03-03",
                                    "FELNOTT_SZAM": "1",
                                    "GYERMEK_SZAM": "0",
                                    "Előző három foglalás átlaga": "1"
                                },
                                {
                                    "USERNEV": "bernadett2",
                                    "NEV": "Kovács Bernadett",
                                    "EMAIL": "bernadett.kovács@mail.hu",
                                    "SZAML_CIM": "4200 Hajdúszoboszló Fő út 122.",
                                    "SZUL_DAT": "1996-08-20",
                                    "FOGLALAS_PK": "1367",
                                    "UGYFEL_FK": "bernadett2",
                                    "SZOBA_FK": "80",
                                    "METTOL": "2016-12-17",
                                    "MEDDIG": "2016-12-20",
                                    "FELNOTT_SZAM": "1",
                                    "GYERMEK_SZAM": "0",
                                    "Előző három foglalás átlaga": "1"
                                },
                                {
                                    "USERNEV": "bertalan",
                                    "NEV": "Csiger Bertalan",
                                    "EMAIL": "bertalan@gmail.com",
                                    "SZAML_CIM": "1192 Budapest Fő út 169.",
                                    "SZUL_DAT": "1977-10-15",
                                    "FOGLALAS_PK": "974",
                                    "UGYFEL_FK": "bertalan",
                                    "SZOBA_FK": "169",
                                    "METTOL": "2016-06-20",
                                    "MEDDIG": "2016-06-21",
                                    "FELNOTT_SZAM": "1",
                                    "GYERMEK_SZAM": "0",
                                    "Előző három foglalás átlaga": "1"
                                },
                                {
                                    "USERNEV": "brigitta",
                                    "NEV": "Székely Brigitta",
                                    "EMAIL": "brigitta.székely@mail.hu",
                                    "SZAML_CIM": "2462 Martonvásár Fő utca 47.",
                                    "SZUL_DAT": "1978-09-13",
                                    "FOGLALAS_PK": "1469",
                                    "UGYFEL_FK": "brigitta",
                                    "SZOBA_FK": "13",
                                    "METTOL": "2017-01-23",
                                    "MEDDIG": "2017-01-25",
                                    "FELNOTT_SZAM": "1",
                                    "GYERMEK_SZAM": "0",
                                    "Előző három foglalás átlaga": "1"
                                },
                                {
                                    "USERNEV": "dani",
                                    "NEV": "Vörös Dániel",
                                    "EMAIL": "daniel@gmail.com",
                                    "SZAML_CIM": "7150 Bonyhád Dózsa György u. 1.",
                                    "SZUL_DAT": "1986-10-14",
                                    "FOGLALAS_PK": "1466",
                                    "UGYFEL_FK": "dani",
                                    "SZOBA_FK": "57",
                                    "METTOL": "2017-01-22",
                                    "MEDDIG": "2017-01-29",
                                    "FELNOTT_SZAM": "1",
                                    "GYERMEK_SZAM": "0",
                                    "Előző három foglalás átlaga": "1"
                                },
                                {
                                    "USERNEV": "dani",
                                    "NEV": "Vörös Dániel",
                                    "EMAIL": "daniel@gmail.com",
                                    "SZAML_CIM": "7150 Bonyhád Dózsa György u. 1.",
                                    "SZUL_DAT": "1986-10-14",
                                    "FOGLALAS_PK": "1102",
                                    "UGYFEL_FK": "dani",
                                    "SZOBA_FK": "108",
                                    "METTOL": "2016-10-01",
                                    "MEDDIG": "2016-10-02",
                                    "FELNOTT_SZAM": "1",
                                    "GYERMEK_SZAM": "0",
                                    "Előző három foglalás átlaga": "1"
                                },
                                {
                                    "USERNEV": "daniel",
                                    "NEV": "Rácz Dániel",
                                    "EMAIL": "dániel.rácz@mail.hu",
                                    "SZAML_CIM": "9181 Kimle Szabadság tér 9.",
                                    "SZUL_DAT": "1978-11-28",
                                    "FOGLALAS_PK": "1430",
                                    "UGYFEL_FK": "daniel",
                                    "SZOBA_FK": "12",
                                    "METTOL": "2017-01-09",
                                    "MEDDIG": "2017-01-11",
                                    "FELNOTT_SZAM": "1",
                                    "GYERMEK_SZAM": "0",
                                    "Előző három foglalás átlaga": "1"
                                },
                                {
                                    "USERNEV": "david",
                                    "NEV": "Ambrus Dávid",
                                    "EMAIL": "david@gmail.com",
                                    "SZAML_CIM": "1149 Budapest Fő út 18.",
                                    "SZUL_DAT": "1974-02-11",
                                    "FOGLALAS_PK": "757",
                                    "UGYFEL_FK": "david",
                                    "SZOBA_FK": "88",
                                    "METTOL": "2016-08-05",
                                    "MEDDIG": "2016-08-12",
                                    "FELNOTT_SZAM": "1",
                                    "GYERMEK_SZAM": "0",
                                    "Előző három foglalás átlaga": "1"
                                },
                                {
                                    "USERNEV": "emese",
                                    "NEV": "Kuruc Emese",
                                    "EMAIL": "emese.kuruc@mail.hu",
                                    "SZAML_CIM": "6700 Szeged Rákóczi utca 67.",
                                    "SZUL_DAT": "1989-08-10",
                                    "FOGLALAS_PK": "1250",
                                    "UGYFEL_FK": "emese",
                                    "SZOBA_FK": "107",
                                    "METTOL": "2016-11-05",
                                    "MEDDIG": "2016-11-09",
                                    "FELNOTT_SZAM": "1",
                                    "GYERMEK_SZAM": "0",
                                    "Előző három foglalás átlaga": "1"
                                },
                                {
                                    "USERNEV": "eszter2",
                                    "NEV": "Balogh Eszter",
                                    "EMAIL": "eszter.balogh@mail.hu",
                                    "SZAML_CIM": "6760 Kistelek Kossuth utca 11.",
                                    "SZUL_DAT": "1998-01-31",
                                    "FOGLALAS_PK": "1187",
                                    "UGYFEL_FK": "eszter2",
                                    "SZOBA_FK": "46",
                                    "METTOL": "2016-10-23",
                                    "MEDDIG": "2016-10-30",
                                    "FELNOTT_SZAM": "1",
                                    "GYERMEK_SZAM": "0",
                                    "Előző három foglalás átlaga": "1"
                                },
                                {
                                    "USERNEV": "eszter2",
                                    "NEV": "Balogh Eszter",
                                    "EMAIL": "eszter.balogh@mail.hu",
                                    "SZAML_CIM": "6760 Kistelek Kossuth utca 11.",
                                    "SZUL_DAT": "1998-01-31",
                                    "FOGLALAS_PK": "1171",
                                    "UGYFEL_FK": "eszter2",
                                    "SZOBA_FK": "172",
                                    "METTOL": "2016-10-20",
                                    "MEDDIG": "2016-10-25",
                                    "FELNOTT_SZAM": "1",
                                    "GYERMEK_SZAM": "0",
                                    "Előző három foglalás átlaga": "1"
                                },
                                {
                                    "USERNEV": "eszter2",
                                    "NEV": "Balogh Eszter",
                                    "EMAIL": "eszter.balogh@mail.hu",
                                    "SZAML_CIM": "6760 Kistelek Kossuth utca 11.",
                                    "SZUL_DAT": "1998-01-31",
                                    "FOGLALAS_PK": "1109",
                                    "UGYFEL_FK": "eszter2",
                                    "SZOBA_FK": "110",
                                    "METTOL": "2016-10-01",
                                    "MEDDIG": "2016-10-06",
                                    "FELNOTT_SZAM": "1",
                                    "GYERMEK_SZAM": "0",
                                    "Előző három foglalás átlaga": "1"
                                },
                                {
                                    "USERNEV": "eszter2",
                                    "NEV": "Balogh Eszter",
                                    "EMAIL": "eszter.balogh@mail.hu",
                                    "SZAML_CIM": "6760 Kistelek Kossuth utca 11.",
                                    "SZUL_DAT": "1998-01-31",
                                    "FOGLALAS_PK": "1017",
                                    "UGYFEL_FK": "eszter2",
                                    "SZOBA_FK": "190",
                                    "METTOL": "2016-07-08",
                                    "MEDDIG": "2016-07-09",
                                    "FELNOTT_SZAM": "1",
                                    "GYERMEK_SZAM": "0",
                                    "Előző három foglalás átlaga": "1"
                                },
                                {
                                    "USERNEV": "eszter2",
                                    "NEV": "Balogh Eszter",
                                    "EMAIL": "eszter.balogh@mail.hu",
                                    "SZAML_CIM": "6760 Kistelek Kossuth utca 11.",
                                    "SZUL_DAT": "1998-01-31",
                                    "FOGLALAS_PK": "1480",
                                    "UGYFEL_FK": "eszter2",
                                    "SZOBA_FK": "35",
                                    "METTOL": "2016-12-29",
                                    "MEDDIG": "2017-02-04",
                                    "FELNOTT_SZAM": "1",
                                    "GYERMEK_SZAM": "0",
                                    "Előző három foglalás átlaga": "1"
                                },
                                {
                                    "USERNEV": "eszter2",
                                    "NEV": "Balogh Eszter",
                                    "EMAIL": "eszter.balogh@mail.hu",
                                    "SZAML_CIM": "6760 Kistelek Kossuth utca 11.",
                                    "SZUL_DAT": "1998-01-31",
                                    "FOGLALAS_PK": "1336",
                                    "UGYFEL_FK": "eszter2",
                                    "SZOBA_FK": "172",
                                    "METTOL": "2016-12-02",
                                    "MEDDIG": "2016-12-07",
                                    "FELNOTT_SZAM": "1",
                                    "GYERMEK_SZAM": "0",
                                    "Előző három foglalás átlaga": "1"
                                },
                                {
                                    "USERNEV": "eva2",
                                    "NEV": "Perlinger Éva",
                                    "EMAIL": "eva2@gmail.com",
                                    "SZAML_CIM": "9653 Répcelak Bécsi utca 82.",
                                    "SZUL_DAT": "1971-08-19",
                                    "FOGLALAS_PK": "845",
                                    "UGYFEL_FK": "eva2",
                                    "SZOBA_FK": "63",
                                    "METTOL": "2016-09-02",
                                    "MEDDIG": "2016-09-03",
                                    "FELNOTT_SZAM": "1",
                                    "GYERMEK_SZAM": "0",
                                    "Előző három foglalás átlaga": "1"
                                },
                                {
                                    "USERNEV": "fruzsina4",
                                    "NEV": "Frank Fruzsina",
                                    "EMAIL": "fruzsina4@gmail.com",
                                    "SZAML_CIM": "9700 Szombathely Szabadság utca 95.",
                                    "SZUL_DAT": "1996-08-16",
                                    "FOGLALAS_PK": "1366",
                                    "UGYFEL_FK": "fruzsina4",
                                    "SZOBA_FK": "81",
                                    "METTOL": "2016-12-16",
                                    "MEDDIG": "2016-12-21",
                                    "FELNOTT_SZAM": "1",
                                    "GYERMEK_SZAM": "0",
                                    "Előző három foglalás átlaga": "1"
                                },
                                {
                                    "USERNEV": "gabor1",
                                    "NEV": "Köves Gábor",
                                    "EMAIL": "gabor1@gmail.com",
                                    "SZAML_CIM": "6762 Sándorfalva Árpád utca 23.",
                                    "SZUL_DAT": "1973-07-15",
                                    "FOGLALAS_PK": "1026",
                                    "UGYFEL_FK": "gabor1",
                                    "SZOBA_FK": "119",
                                    "METTOL": "2016-07-12",
                                    "MEDDIG": "2016-07-15",
                                    "FELNOTT_SZAM": "1",
                                    "GYERMEK_SZAM": "0",
                                    "Előző három foglalás átlaga": "1"
                                },
                                {
                                    "USERNEV": "gabor1",
                                    "NEV": "Köves Gábor",
                                    "EMAIL": "gabor1@gmail.com",
                                    "SZAML_CIM": "6762 Sándorfalva Árpád utca 23.",
                                    "SZUL_DAT": "1973-07-15",
                                    "FOGLALAS_PK": "1169",
                                    "UGYFEL_FK": "gabor1",
                                    "SZOBA_FK": "93",
                                    "METTOL": "2016-10-20",
                                    "MEDDIG": "2016-10-24",
                                    "FELNOTT_SZAM": "1",
                                    "GYERMEK_SZAM": "0",
                                    "Előző három foglalás átlaga": "1"
                                },
                                {
                                    "USERNEV": "gabor4",
                                    "NEV": "Telek Gábor",
                                    "EMAIL": "gábor.telek@mail.hu",
                                    "SZAML_CIM": "9071 Görbeháza Fő út 169.",
                                    "SZUL_DAT": "1987-03-15",
                                    "FOGLALAS_PK": "878",
                                    "UGYFEL_FK": "gabor4",
                                    "SZOBA_FK": "83",
                                    "METTOL": "2016-05-30",
                                    "MEDDIG": "2016-06-05",
                                    "FELNOTT_SZAM": "1",
                                    "GYERMEK_SZAM": "0",
                                    "Előző három foglalás átlaga": "1"
                                },
                                {
                                    "USERNEV": "GYONGYIK",
                                    "NEV": "Kornseé Gyöngyi",
                                    "EMAIL": "gyöngyi.kornseé@mail.hu",
                                    "SZAML_CIM": "8800 Nagykanizsa Fő út 60.",
                                    "SZUL_DAT": "1974-06-07",
                                    "FOGLALAS_PK": "945",
                                    "UGYFEL_FK": "GYONGYIK",
                                    "SZOBA_FK": "23",
                                    "METTOL": "2016-06-10",
                                    "MEDDIG": "2016-06-17",
                                    "FELNOTT_SZAM": "1",
                                    "GYERMEK_SZAM": "0",
                                    "Előző három foglalás átlaga": "1"
                                },
                                {
                                    "USERNEV": "GYORGYO",
                                    "NEV": "Oroszi György",
                                    "EMAIL": "GYORGYO@gmail.com",
                                    "SZAML_CIM": "7220 Sarkad Dózsa György u. 1.",
                                    "SZUL_DAT": "1980-03-23",
                                    "FOGLALAS_PK": "1213",
                                    "UGYFEL_FK": "GYORGYO",
                                    "SZOBA_FK": "91",
                                    "METTOL": "2016-10-28",
                                    "MEDDIG": "2016-10-31",
                                    "FELNOTT_SZAM": "1",
                                    "GYERMEK_SZAM": "0",
                                    "Előző három foglalás átlaga": "1"
                                },
                                {
                                    "USERNEV": "henrik3",
                                    "NEV": "Nádudvari Henrik",
                                    "EMAIL": "henrik.nádudvari@mail.hu",
                                    "SZAML_CIM": "1077 Budapest Tanácsköztársaság tér 1.",
                                    "SZUL_DAT": "1986-12-05",
                                    "FOGLALAS_PK": "818",
                                    "UGYFEL_FK": "henrik3",
                                    "SZOBA_FK": "8",
                                    "METTOL": "2016-08-24",
                                    "MEDDIG": "2016-08-28",
                                    "FELNOTT_SZAM": "1",
                                    "GYERMEK_SZAM": "0",
                                    "Előző három foglalás átlaga": "1"
                                },
                                {
                                    "USERNEV": "istvan1",
                                    "NEV": "Vizi István",
                                    "EMAIL": "istván.vizi@mail.hu",
                                    "SZAML_CIM": "7086 Ozora Rákóczi utca 1.",
                                    "SZUL_DAT": "1997-12-01",
                                    "FOGLALAS_PK": "689",
                                    "UGYFEL_FK": "istvan1",
                                    "SZOBA_FK": "102",
                                    "METTOL": "2016-07-19",
                                    "MEDDIG": "2016-07-24",
                                    "FELNOTT_SZAM": "1",
                                    "GYERMEK_SZAM": "0",
                                    "Előző három foglalás átlaga": "1"
                                },
                                {
                                    "USERNEV": "janos3",
                                    "NEV": "Harangozó János",
                                    "EMAIL": "janos3@gmail.com",
                                    "SZAML_CIM": "8700 Marcali Petőfi Sándor tér 1.",
                                    "SZUL_DAT": "1967-11-02",
                                    "FOGLALAS_PK": "904",
                                    "UGYFEL_FK": "janos3",
                                    "SZOBA_FK": "34",
                                    "METTOL": "2016-06-04",
                                    "MEDDIG": "2016-06-06",
                                    "FELNOTT_SZAM": "1",
                                    "GYERMEK_SZAM": "0",
                                    "Előző három foglalás átlaga": "1"
                                },
                                {
                                    "USERNEV": "janos3",
                                    "NEV": "Harangozó János",
                                    "EMAIL": "janos3@gmail.com",
                                    "SZAML_CIM": "8700 Marcali Petőfi Sándor tér 1.",
                                    "SZUL_DAT": "1967-11-02",
                                    "FOGLALAS_PK": "1177",
                                    "UGYFEL_FK": "janos3",
                                    "SZOBA_FK": "150",
                                    "METTOL": "2016-10-22",
                                    "MEDDIG": "2016-10-23",
                                    "FELNOTT_SZAM": "1",
                                    "GYERMEK_SZAM": "0",
                                    "Előző három foglalás átlaga": "1"
                                },
                                {
                                    "USERNEV": "JANOSG",
                                    "NEV": "Giliga János",
                                    "EMAIL": "JANOSG@gmail.com",
                                    "SZAML_CIM": "3300 Eger Deák Ferenc út 5.",
                                    "SZUL_DAT": "1975-01-03",
                                    "FOGLALAS_PK": "631",
                                    "UGYFEL_FK": "JANOSG",
                                    "SZOBA_FK": "98",
                                    "METTOL": "2016-05-09",
                                    "MEDDIG": "2016-05-15",
                                    "FELNOTT_SZAM": "1",
                                    "GYERMEK_SZAM": "0",
                                    "Előző három foglalás átlaga": "1"
                                },
                                {
                                    "USERNEV": "JOZSEFG",
                                    "NEV": "Gyuris József",
                                    "EMAIL": "józsef.gyuris@mail.hu",
                                    "SZAML_CIM": "2660 Balassagyarmat Petőfi utca 1/2.",
                                    "SZUL_DAT": "1975-05-26",
                                    "FOGLALAS_PK": "852",
                                    "UGYFEL_FK": "JOZSEFG",
                                    "SZOBA_FK": "24",
                                    "METTOL": "2016-05-23",
                                    "MEDDIG": "2016-05-25",
                                    "FELNOTT_SZAM": "1",
                                    "GYERMEK_SZAM": "0",
                                    "Előző három foglalás átlaga": "1"
                                },
                                {
                                    "USERNEV": "JOZSEFG",
                                    "NEV": "Gyuris József",
                                    "EMAIL": "józsef.gyuris@mail.hu",
                                    "SZAML_CIM": "2660 Balassagyarmat Petőfi utca 1/2.",
                                    "SZUL_DAT": "1975-05-26",
                                    "FOGLALAS_PK": "1461",
                                    "UGYFEL_FK": "JOZSEFG",
                                    "SZOBA_FK": "77",
                                    "METTOL": "2017-01-22",
                                    "MEDDIG": "2017-01-26",
                                    "FELNOTT_SZAM": "1",
                                    "GYERMEK_SZAM": "0",
                                    "Előző három foglalás átlaga": "1"
                                },
                                {
                                    "USERNEV": "JUDITH",
                                    "NEV": "Hídasi Judit",
                                    "EMAIL": "JUDITH@gmail.com",
                                    "SZAML_CIM": "2100 Gödöllő Fő út 169.",
                                    "SZUL_DAT": "1997-07-12",
                                    "FOGLALAS_PK": "1379",
                                    "UGYFEL_FK": "JUDITH",
                                    "SZOBA_FK": "83",
                                    "METTOL": "2016-12-19",
                                    "MEDDIG": "2016-12-26",
                                    "FELNOTT_SZAM": "1",
                                    "GYERMEK_SZAM": "0",
                                    "Előző három foglalás átlaga": "1"
                                },
                                {
                                    "USERNEV": "julia",
                                    "NEV": "Tóth Júlia",
                                    "EMAIL": "julia@gmail.com",
                                    "SZAML_CIM": "5310 Kisújszállás Árpád utca 4.",
                                    "SZUL_DAT": "1993-03-02",
                                    "FOGLALAS_PK": "638",
                                    "UGYFEL_FK": "julia",
                                    "SZOBA_FK": "67",
                                    "METTOL": "2016-05-12",
                                    "MEDDIG": "2016-05-17",
                                    "FELNOTT_SZAM": "1",
                                    "GYERMEK_SZAM": "0",
                                    "Előző három foglalás átlaga": "1"
                                },
                                {
                                    "USERNEV": "julia4",
                                    "NEV": "Nagy Júlia",
                                    "EMAIL": "julia4@gmail.com",
                                    "SZAML_CIM": "7000 Sárbogárd Jászai tér 21.",
                                    "SZUL_DAT": "1985-08-11",
                                    "FOGLALAS_PK": "1258",
                                    "UGYFEL_FK": "julia4",
                                    "SZOBA_FK": "52",
                                    "METTOL": "2016-11-07",
                                    "MEDDIG": "2016-11-12",
                                    "FELNOTT_SZAM": "1",
                                    "GYERMEK_SZAM": "0",
                                    "Előző három foglalás átlaga": "1"
                                },
                                {
                                    "USERNEV": "kata",
                                    "NEV": "Gondos Katalin",
                                    "EMAIL": "katalin.gondos@mail.hu",
                                    "SZAML_CIM": "8237 Tihany Kossuth Lajos utca 6.",
                                    "SZUL_DAT": "1968-06-22",
                                    "FOGLALAS_PK": "601",
                                    "UGYFEL_FK": "kata",
                                    "SZOBA_FK": "39",
                                    "METTOL": "2016-04-25",
                                    "MEDDIG": "2016-05-01",
                                    "FELNOTT_SZAM": "1",
                                    "GYERMEK_SZAM": "0",
                                    "Előző három foglalás átlaga": "1"
                                },
                                {
                                    "USERNEV": "kata",
                                    "NEV": "Gondos Katalin",
                                    "EMAIL": "katalin.gondos@mail.hu",
                                    "SZAML_CIM": "8237 Tihany Kossuth Lajos utca 6.",
                                    "SZUL_DAT": "1968-06-22",
                                    "FOGLALAS_PK": "1006",
                                    "UGYFEL_FK": "kata",
                                    "SZOBA_FK": "70",
                                    "METTOL": "2016-07-03",
                                    "MEDDIG": "2016-07-06",
                                    "FELNOTT_SZAM": "1",
                                    "GYERMEK_SZAM": "0",
                                    "Előző három foglalás átlaga": "1"
                                },
                                {
                                    "USERNEV": "katalin",
                                    "NEV": "Horváth Katalin",
                                    "EMAIL": "katalin.horváth@mail.hu",
                                    "SZAML_CIM": "2424 Előszállás Rákóczi út 200.",
                                    "SZUL_DAT": "1968-01-01",
                                    "FOGLALAS_PK": "1015",
                                    "UGYFEL_FK": "katalin",
                                    "SZOBA_FK": "174",
                                    "METTOL": "2016-07-06",
                                    "MEDDIG": "2016-07-11",
                                    "FELNOTT_SZAM": "1",
                                    "GYERMEK_SZAM": "0",
                                    "Előző három foglalás átlaga": "1"
                                },
                                {
                                    "USERNEV": "katalin",
                                    "NEV": "Horváth Katalin",
                                    "EMAIL": "katalin.horváth@mail.hu",
                                    "SZAML_CIM": "2424 Előszállás Rákóczi út 200.",
                                    "SZUL_DAT": "1968-01-01",
                                    "FOGLALAS_PK": "661",
                                    "UGYFEL_FK": "katalin",
                                    "SZOBA_FK": "136",
                                    "METTOL": "2016-05-21",
                                    "MEDDIG": "2016-05-26",
                                    "FELNOTT_SZAM": "1",
                                    "GYERMEK_SZAM": "0",
                                    "Előző három foglalás átlaga": "1"
                                },
                                {
                                    "USERNEV": "katalin",
                                    "NEV": "Horváth Katalin",
                                    "EMAIL": "katalin.horváth@mail.hu",
                                    "SZAML_CIM": "2424 Előszállás Rákóczi út 200.",
                                    "SZUL_DAT": "1968-01-01",
                                    "FOGLALAS_PK": "733",
                                    "UGYFEL_FK": "katalin",
                                    "SZOBA_FK": "140",
                                    "METTOL": "2016-07-28",
                                    "MEDDIG": "2016-07-29",
                                    "FELNOTT_SZAM": "1",
                                    "GYERMEK_SZAM": "0",
                                    "Előző három foglalás átlaga": "1"
                                },
                                {
                                    "USERNEV": "katalin",
                                    "NEV": "Horváth Katalin",
                                    "EMAIL": "katalin.horváth@mail.hu",
                                    "SZAML_CIM": "2424 Előszállás Rákóczi út 200.",
                                    "SZUL_DAT": "1968-01-01",
                                    "FOGLALAS_PK": "1372",
                                    "UGYFEL_FK": "katalin",
                                    "SZOBA_FK": "106",
                                    "METTOL": "2016-12-17",
                                    "MEDDIG": "2016-12-24",
                                    "FELNOTT_SZAM": "1",
                                    "GYERMEK_SZAM": "0",
                                    "Előző három foglalás átlaga": "1"
                                },
                                {
                                    "USERNEV": "katalin4",
                                    "NEV": "Kertész Katalin",
                                    "EMAIL": "katalin4@gmail.com",
                                    "SZAML_CIM": "2800 Tatabánya Búvár utca 4.",
                                    "SZUL_DAT": "1986-04-13",
                                    "FOGLALAS_PK": "997",
                                    "UGYFEL_FK": "katalin4",
                                    "SZOBA_FK": "82",
                                    "METTOL": "2016-07-01",
                                    "MEDDIG": "2016-07-07",
                                    "FELNOTT_SZAM": "1",
                                    "GYERMEK_SZAM": "0",
                                    "Előző három foglalás átlaga": "1"
                                },
                                {
                                    "USERNEV": "katka",
                                    "NEV": "Kovács Katalin",
                                    "EMAIL": "katalin.kovács@mail.hu",
                                    "SZAML_CIM": "8254 Kővágóörs Petőfi utca 22.",
                                    "SZUL_DAT": "1975-03-31",
                                    "FOGLALAS_PK": "954",
                                    "UGYFEL_FK": "katka",
                                    "SZOBA_FK": "84",
                                    "METTOL": "2016-06-13",
                                    "MEDDIG": "2016-06-18",
                                    "FELNOTT_SZAM": "1",
                                    "GYERMEK_SZAM": "0",
                                    "Előző három foglalás átlaga": "1"
                                },
                                {
                                    "USERNEV": "krisztian4",
                                    "NEV": "Czérna Krisztián",
                                    "EMAIL": "krisztián.czérna@mail.hu",
                                    "SZAML_CIM": "1107 Budapest Dózsa György utca 37.",
                                    "SZUL_DAT": "1970-08-01",
                                    "FOGLALAS_PK": "787",
                                    "UGYFEL_FK": "krisztian4",
                                    "SZOBA_FK": "50",
                                    "METTOL": "2016-08-16",
                                    "MEDDIG": "2016-08-19",
                                    "FELNOTT_SZAM": "1",
                                    "GYERMEK_SZAM": "0",
                                    "Előző három foglalás átlaga": "1"
                                },
                                {
                                    "USERNEV": "krisztian4",
                                    "NEV": "Czérna Krisztián",
                                    "EMAIL": "krisztián.czérna@mail.hu",
                                    "SZAML_CIM": "1107 Budapest Dózsa György utca 37.",
                                    "SZUL_DAT": "1970-08-01",
                                    "FOGLALAS_PK": "834",
                                    "UGYFEL_FK": "krisztian4",
                                    "SZOBA_FK": "149",
                                    "METTOL": "2016-08-29",
                                    "MEDDIG": "2016-09-03",
                                    "FELNOTT_SZAM": "1",
                                    "GYERMEK_SZAM": "0",
                                    "Előző három foglalás átlaga": "1"
                                },
                                {
                                    "USERNEV": "krisztian4",
                                    "NEV": "Czérna Krisztián",
                                    "EMAIL": "krisztián.czérna@mail.hu",
                                    "SZAML_CIM": "1107 Budapest Dózsa György utca 37.",
                                    "SZUL_DAT": "1970-08-01",
                                    "FOGLALAS_PK": "1422",
                                    "UGYFEL_FK": "krisztian4",
                                    "SZOBA_FK": "182",
                                    "METTOL": "2017-01-06",
                                    "MEDDIG": "2017-01-09",
                                    "FELNOTT_SZAM": "1",
                                    "GYERMEK_SZAM": "0",
                                    "Előző három foglalás átlaga": "1"
                                },
                                {
                                    "USERNEV": "KRISZTIANM",
                                    "NEV": "Mogyródi Krisztián",
                                    "EMAIL": "KRISZTIANM@gmail.com",
                                    "SZAML_CIM": "9155 Lébény Jászai tér 21.",
                                    "SZUL_DAT": "1968-05-27",
                                    "FOGLALAS_PK": "1443",
                                    "UGYFEL_FK": "KRISZTIANM",
                                    "SZOBA_FK": "81",
                                    "METTOL": "2017-01-16",
                                    "MEDDIG": "2017-01-23",
                                    "FELNOTT_SZAM": "1",
                                    "GYERMEK_SZAM": "0",
                                    "Előző három foglalás átlaga": "1"
                                },
                                {
                                    "USERNEV": "krisztina",
                                    "NEV": "Szedlár Krisztina",
                                    "EMAIL": "krisztina@gmail.com",
                                    "SZAML_CIM": "6646 Tömörkény Arany János utca 1.",
                                    "SZUL_DAT": "1979-05-10",
                                    "FOGLALAS_PK": "1306",
                                    "UGYFEL_FK": "krisztina",
                                    "SZOBA_FK": "133",
                                    "METTOL": "2016-11-22",
                                    "MEDDIG": "2016-11-25",
                                    "FELNOTT_SZAM": "1",
                                    "GYERMEK_SZAM": "0",
                                    "Előző három foglalás átlaga": "1"
                                },
                                {
                                    "USERNEV": "krisztina",
                                    "NEV": "Szedlár Krisztina",
                                    "EMAIL": "krisztina@gmail.com",
                                    "SZAML_CIM": "6646 Tömörkény Arany János utca 1.",
                                    "SZUL_DAT": "1979-05-10",
                                    "FOGLALAS_PK": "1048",
                                    "UGYFEL_FK": "krisztina",
                                    "SZOBA_FK": "95",
                                    "METTOL": "2016-09-13",
                                    "MEDDIG": "2016-09-16",
                                    "FELNOTT_SZAM": "1",
                                    "GYERMEK_SZAM": "0",
                                    "Előző három foglalás átlaga": "1"
                                },
                                {
                                    "USERNEV": "krisztina1",
                                    "NEV": "Bori Krisztina",
                                    "EMAIL": "krisztina.bori@mail.hu",
                                    "SZAML_CIM": "2115 Vácszentlászló Fő utca 47.",
                                    "SZUL_DAT": "1969-10-13",
                                    "FOGLALAS_PK": "648",
                                    "UGYFEL_FK": "krisztina1",
                                    "SZOBA_FK": "157",
                                    "METTOL": "2016-05-16",
                                    "MEDDIG": "2016-05-20",
                                    "FELNOTT_SZAM": "1",
                                    "GYERMEK_SZAM": "0",
                                    "Előző három foglalás átlaga": "1"
                                },
                                {
                                    "USERNEV": "KRISZTINAG",
                                    "NEV": "Gyárfás Krisztina",
                                    "EMAIL": "KRISZTINAG@gmail.com",
                                    "SZAML_CIM": "6762 Sándorfalva Arany János utca 1.",
                                    "SZUL_DAT": "1987-09-19",
                                    "FOGLALAS_PK": "935",
                                    "UGYFEL_FK": "KRISZTINAG",
                                    "SZOBA_FK": "56",
                                    "METTOL": "2016-06-08",
                                    "MEDDIG": "2016-06-12",
                                    "FELNOTT_SZAM": "1",
                                    "GYERMEK_SZAM": "0",
                                    "Előző három foglalás átlaga": "1"
                                },
                                {
                                    "USERNEV": "KRISZTINAG",
                                    "NEV": "Gyárfás Krisztina",
                                    "EMAIL": "KRISZTINAG@gmail.com",
                                    "SZAML_CIM": "6762 Sándorfalva Arany János utca 1.",
                                    "SZUL_DAT": "1987-09-19",
                                    "FOGLALAS_PK": "854",
                                    "UGYFEL_FK": "KRISZTINAG",
                                    "SZOBA_FK": "167",
                                    "METTOL": "2016-05-24",
                                    "MEDDIG": "2016-05-31",
                                    "FELNOTT_SZAM": "1",
                                    "GYERMEK_SZAM": "0",
                                    "Előző három foglalás átlaga": "1"
                                },
                                {
                                    "USERNEV": "lajos",
                                    "NEV": "Kiss Lajos",
                                    "EMAIL": "lajos.kiss@mail.hu",
                                    "SZAML_CIM": "1077 Budapest Dob utca 1",
                                    "SZUL_DAT": "1978-10-31",
                                    "FOGLALAS_PK": "1523",
                                    "UGYFEL_FK": "lajos",
                                    "SZOBA_FK": "11",
                                    "METTOL": "2017-02-12",
                                    "MEDDIG": "2017-02-13",
                                    "FELNOTT_SZAM": "1",
                                    "GYERMEK_SZAM": "0",
                                    "Előző három foglalás átlaga": "1"
                                },
                                {
                                    "USERNEV": "LASZLOA",
                                    "NEV": "Antal László",
                                    "EMAIL": "lászló.antal@mail.hu",
                                    "SZAML_CIM": "2484 Agárd Bécsi utca 82.",
                                    "SZUL_DAT": "1969-06-29",
                                    "FOGLALAS_PK": "923",
                                    "UGYFEL_FK": "LASZLOA",
                                    "SZOBA_FK": "123",
                                    "METTOL": "2016-06-07",
                                    "MEDDIG": "2016-06-11",
                                    "FELNOTT_SZAM": "1",
                                    "GYERMEK_SZAM": "0",
                                    "Előző három foglalás átlaga": "1"
                                },
                                {
                                    "USERNEV": "LASZLON",
                                    "NEV": "Nagy László",
                                    "EMAIL": "lászló.nagy@mail.hu",
                                    "SZAML_CIM": "1173 Budapest Jászai tér 21.",
                                    "SZUL_DAT": "1969-04-12",
                                    "FOGLALAS_PK": "892",
                                    "UGYFEL_FK": "LASZLON",
                                    "SZOBA_FK": "165",
                                    "METTOL": "2016-06-03",
                                    "MEDDIG": "2016-06-06",
                                    "FELNOTT_SZAM": "1",
                                    "GYERMEK_SZAM": "0",
                                    "Előző három foglalás átlaga": "1"
                                },
                                {
                                    "USERNEV": "LASZLON",
                                    "NEV": "Nagy László",
                                    "EMAIL": "lászló.nagy@mail.hu",
                                    "SZAML_CIM": "1173 Budapest Jászai tér 21.",
                                    "SZUL_DAT": "1969-04-12",
                                    "FOGLALAS_PK": "1329",
                                    "UGYFEL_FK": "LASZLON",
                                    "SZOBA_FK": "171",
                                    "METTOL": "2016-11-29",
                                    "MEDDIG": "2016-12-04",
                                    "FELNOTT_SZAM": "1",
                                    "GYERMEK_SZAM": "0",
                                    "Előző három foglalás átlaga": "1"
                                },
                                {
                                    "USERNEV": "LASZLON",
                                    "NEV": "Nagy László",
                                    "EMAIL": "lászló.nagy@mail.hu",
                                    "SZAML_CIM": "1173 Budapest Jászai tér 21.",
                                    "SZUL_DAT": "1969-04-12",
                                    "FOGLALAS_PK": "1136",
                                    "UGYFEL_FK": "LASZLON",
                                    "SZOBA_FK": "30",
                                    "METTOL": "2016-10-09",
                                    "MEDDIG": "2016-10-14",
                                    "FELNOTT_SZAM": "1",
                                    "GYERMEK_SZAM": "0",
                                    "Előző három foglalás átlaga": "1"
                                },
                                {
                                    "USERNEV": "maria1",
                                    "NEV": "Baráth Mária",
                                    "EMAIL": "mária.baráth@mail.hu",
                                    "SZAML_CIM": "1047 Budapest Posta köz 2.",
                                    "SZUL_DAT": "1995-11-19",
                                    "FOGLALAS_PK": "981",
                                    "UGYFEL_FK": "maria1",
                                    "SZOBA_FK": "171",
                                    "METTOL": "2016-06-23",
                                    "MEDDIG": "2016-06-27",
                                    "FELNOTT_SZAM": "1",
                                    "GYERMEK_SZAM": "0",
                                    "Előző három foglalás átlaga": "1"
                                },
                                {
                                    "USERNEV": "maria1",
                                    "NEV": "Baráth Mária",
                                    "EMAIL": "mária.baráth@mail.hu",
                                    "SZAML_CIM": "1047 Budapest Posta köz 2.",
                                    "SZUL_DAT": "1995-11-19",
                                    "FOGLALAS_PK": "652",
                                    "UGYFEL_FK": "maria1",
                                    "SZOBA_FK": "149",
                                    "METTOL": "2016-05-18",
                                    "MEDDIG": "2016-05-19",
                                    "FELNOTT_SZAM": "1",
                                    "GYERMEK_SZAM": "0",
                                    "Előző három foglalás átlaga": "1"
                                },
                                {
                                    "USERNEV": "maria1",
                                    "NEV": "Baráth Mária",
                                    "EMAIL": "mária.baráth@mail.hu",
                                    "SZAML_CIM": "1047 Budapest Posta köz 2.",
                                    "SZUL_DAT": "1995-11-19",
                                    "FOGLALAS_PK": "846",
                                    "UGYFEL_FK": "maria1",
                                    "SZOBA_FK": "45",
                                    "METTOL": "2016-09-02",
                                    "MEDDIG": "2016-09-05",
                                    "FELNOTT_SZAM": "1",
                                    "GYERMEK_SZAM": "0",
                                    "Előző három foglalás átlaga": "1"
                                },
                                {
                                    "USERNEV": "mark",
                                    "NEV": "Kispál Márk",
                                    "EMAIL": "márk.kispál@mail.hu",
                                    "SZAML_CIM": "1086 Budapest Juhászföldi út 1.",
                                    "SZUL_DAT": "1996-01-23",
                                    "FOGLALAS_PK": "1172",
                                    "UGYFEL_FK": "mark",
                                    "SZOBA_FK": "197",
                                    "METTOL": "2016-10-20",
                                    "MEDDIG": "2016-10-27",
                                    "FELNOTT_SZAM": "1",
                                    "GYERMEK_SZAM": "0",
                                    "Előző három foglalás átlaga": "1"
                                },
                                {
                                    "USERNEV": "marton",
                                    "NEV": "Kalacsi Márton",
                                    "EMAIL": "marton@gmail.com",
                                    "SZAML_CIM": "5137 Jászkisér Fő út 169.",
                                    "SZUL_DAT": "1989-06-24",
                                    "FOGLALAS_PK": "620",
                                    "UGYFEL_FK": "marton",
                                    "SZOBA_FK": "1",
                                    "METTOL": "2016-05-05",
                                    "MEDDIG": "2016-05-10",
                                    "FELNOTT_SZAM": "1",
                                    "GYERMEK_SZAM": "0",
                                    "Előző három foglalás átlaga": "1"
                                },
                                {
                                    "USERNEV": "MATYASS",
                                    "NEV": "Szilágyi Mátyás",
                                    "EMAIL": "mátyás.szilágyi@mail.hu",
                                    "SZAML_CIM": "9023 Győr Kossuth Lajos utca 6.",
                                    "SZUL_DAT": "1975-03-22",
                                    "FOGLALAS_PK": "891",
                                    "UGYFEL_FK": "MATYASS",
                                    "SZOBA_FK": "63",
                                    "METTOL": "2016-06-02",
                                    "MEDDIG": "2016-06-08",
                                    "FELNOTT_SZAM": "1",
                                    "GYERMEK_SZAM": "0",
                                    "Előző három foglalás átlaga": "1"
                                },
                                {
                                    "USERNEV": "MATYASS",
                                    "NEV": "Szilágyi Mátyás",
                                    "EMAIL": "mátyás.szilágyi@mail.hu",
                                    "SZAML_CIM": "9023 Győr Kossuth Lajos utca 6.",
                                    "SZUL_DAT": "1975-03-22",
                                    "FOGLALAS_PK": "1190",
                                    "UGYFEL_FK": "MATYASS",
                                    "SZOBA_FK": "161",
                                    "METTOL": "2016-10-24",
                                    "MEDDIG": "2016-10-31",
                                    "FELNOTT_SZAM": "1",
                                    "GYERMEK_SZAM": "0",
                                    "Előző három foglalás átlaga": "1"
                                },
                                {
                                    "USERNEV": "MIHALYJ",
                                    "NEV": "Juhász Mihály",
                                    "EMAIL": "mihály.juhász@mail.hu",
                                    "SZAML_CIM": "6786 Ruzsa Rákóczi utca 1.",
                                    "SZUL_DAT": "1979-10-12",
                                    "FOGLALAS_PK": "990",
                                    "UGYFEL_FK": "MIHALYJ",
                                    "SZOBA_FK": "6",
                                    "METTOL": "2016-06-27",
                                    "MEDDIG": "2016-07-01",
                                    "FELNOTT_SZAM": "1",
                                    "GYERMEK_SZAM": "0",
                                    "Előző három foglalás átlaga": "1"
                                },
                                {
                                    "USERNEV": "MIHALYJ",
                                    "NEV": "Juhász Mihály",
                                    "EMAIL": "mihály.juhász@mail.hu",
                                    "SZAML_CIM": "6786 Ruzsa Rákóczi utca 1.",
                                    "SZUL_DAT": "1979-10-12",
                                    "FOGLALAS_PK": "839",
                                    "UGYFEL_FK": "MIHALYJ",
                                    "SZOBA_FK": "172",
                                    "METTOL": "2016-08-29",
                                    "MEDDIG": "2016-09-03",
                                    "FELNOTT_SZAM": "1",
                                    "GYERMEK_SZAM": "0",
                                    "Előző három foglalás átlaga": "1"
                                },
                                {
                                    "USERNEV": "miklos2",
                                    "NEV": "Gondos Miklós",
                                    "EMAIL": "miklos2@gmail.com",
                                    "SZAML_CIM": "2100 Gödöllő Árpád utca 23.",
                                    "SZUL_DAT": "1995-10-07",
                                    "FOGLALAS_PK": "1134",
                                    "UGYFEL_FK": "miklos2",
                                    "SZOBA_FK": "126",
                                    "METTOL": "2016-10-08",
                                    "MEDDIG": "2016-10-09",
                                    "FELNOTT_SZAM": "1",
                                    "GYERMEK_SZAM": "0",
                                    "Előző három foglalás átlaga": "1"
                                },
                                {
                                    "USERNEV": "MONIKAM",
                                    "NEV": "Mohos Mónika",
                                    "EMAIL": "mónika.mohos@mail.hu",
                                    "SZAML_CIM": "2241 Sülysáp Baracsi László utca 14.",
                                    "SZUL_DAT": "1974-10-01",
                                    "FOGLALAS_PK": "1450",
                                    "UGYFEL_FK": "MONIKAM",
                                    "SZOBA_FK": "139",
                                    "METTOL": "2017-01-17",
                                    "MEDDIG": "2017-01-24",
                                    "FELNOTT_SZAM": "1",
                                    "GYERMEK_SZAM": "0",
                                    "Előző három foglalás átlaga": "1"
                                },
                                {
                                    "USERNEV": "MONIKAM",
                                    "NEV": "Mohos Mónika",
                                    "EMAIL": "mónika.mohos@mail.hu",
                                    "SZAML_CIM": "2241 Sülysáp Baracsi László utca 14.",
                                    "SZUL_DAT": "1974-10-01",
                                    "FOGLALAS_PK": "708",
                                    "UGYFEL_FK": "MONIKAM",
                                    "SZOBA_FK": "106",
                                    "METTOL": "2016-07-23",
                                    "MEDDIG": "2016-07-30",
                                    "FELNOTT_SZAM": "1",
                                    "GYERMEK_SZAM": "0",
                                    "Előző három foglalás átlaga": "1"
                                },
                                {
                                    "USERNEV": "nikolett3",
                                    "NEV": "Horváth Nikolett",
                                    "EMAIL": "nikolett3@gmail.com",
                                    "SZAML_CIM": "1072 Budapest Arany János utca 1.",
                                    "SZUL_DAT": "1981-09-29",
                                    "FOGLALAS_PK": "897",
                                    "UGYFEL_FK": "nikolett3",
                                    "SZOBA_FK": "165",
                                    "METTOL": "2016-06-03",
                                    "MEDDIG": "2016-06-09",
                                    "FELNOTT_SZAM": "1",
                                    "GYERMEK_SZAM": "0",
                                    "Előző három foglalás átlaga": "1"
                                },
                                {
                                    "USERNEV": "nikolett3",
                                    "NEV": "Horváth Nikolett",
                                    "EMAIL": "nikolett3@gmail.com",
                                    "SZAML_CIM": "1072 Budapest Arany János utca 1.",
                                    "SZUL_DAT": "1981-09-29",
                                    "FOGLALAS_PK": "976",
                                    "UGYFEL_FK": "nikolett3",
                                    "SZOBA_FK": "76",
                                    "METTOL": "2016-06-22",
                                    "MEDDIG": "2016-06-24",
                                    "FELNOTT_SZAM": "1",
                                    "GYERMEK_SZAM": "0",
                                    "Előző három foglalás átlaga": "1"
                                },
                                {
                                    "USERNEV": "norbert",
                                    "NEV": "Szűcs Norbert",
                                    "EMAIL": "norbert@gmail.com",
                                    "SZAML_CIM": "5071 Besenyszög Győri utca 12.",
                                    "SZUL_DAT": "1969-07-17",
                                    "FOGLALAS_PK": "1018",
                                    "UGYFEL_FK": "norbert",
                                    "SZOBA_FK": "40",
                                    "METTOL": "2016-07-08",
                                    "MEDDIG": "2016-07-13",
                                    "FELNOTT_SZAM": "1",
                                    "GYERMEK_SZAM": "0",
                                    "Előző három foglalás átlaga": "1"
                                },
                                {
                                    "USERNEV": "norbert",
                                    "NEV": "Szűcs Norbert",
                                    "EMAIL": "norbert@gmail.com",
                                    "SZAML_CIM": "5071 Besenyszög Győri utca 12.",
                                    "SZUL_DAT": "1969-07-17",
                                    "FOGLALAS_PK": "1576",
                                    "UGYFEL_FK": "norbert",
                                    "SZOBA_FK": "189",
                                    "METTOL": "2017-02-26",
                                    "MEDDIG": "2017-03-01",
                                    "FELNOTT_SZAM": "1",
                                    "GYERMEK_SZAM": "0",
                                    "Előző három foglalás átlaga": "1"
                                },
                                {
                                    "USERNEV": "norbert2",
                                    "NEV": "Hegedűs Norbert",
                                    "EMAIL": "norbert.hegedűs@mail.hu",
                                    "SZAML_CIM": "2081 Piliscsaba Rendeki utca 21.",
                                    "SZUL_DAT": "1991-07-17",
                                    "FOGLALAS_PK": "782",
                                    "UGYFEL_FK": "norbert2",
                                    "SZOBA_FK": "163",
                                    "METTOL": "2016-08-16",
                                    "MEDDIG": "2016-08-19",
                                    "FELNOTT_SZAM": "1",
                                    "GYERMEK_SZAM": "0",
                                    "Előző három foglalás átlaga": "1"
                                },
                                {
                                    "USERNEV": "norbert2",
                                    "NEV": "Hegedűs Norbert",
                                    "EMAIL": "norbert.hegedűs@mail.hu",
                                    "SZAML_CIM": "2081 Piliscsaba Rendeki utca 21.",
                                    "SZUL_DAT": "1991-07-17",
                                    "FOGLALAS_PK": "587",
                                    "UGYFEL_FK": "norbert2",
                                    "SZOBA_FK": "123",
                                    "METTOL": "2016-04-19",
                                    "MEDDIG": "2016-04-26",
                                    "FELNOTT_SZAM": "1",
                                    "GYERMEK_SZAM": "0",
                                    "Előző három foglalás átlaga": "1"
                                },
                                {
                                    "USERNEV": "norbert4",
                                    "NEV": "Mile Norbert",
                                    "EMAIL": "norbert4@gmail.com",
                                    "SZAML_CIM": "3973 Cigánd Bajcsy-Zsilinszky utca 4.",
                                    "SZUL_DAT": "1983-06-15",
                                    "FOGLALAS_PK": "1541",
                                    "UGYFEL_FK": "norbert4",
                                    "SZOBA_FK": "155",
                                    "METTOL": "2017-02-16",
                                    "MEDDIG": "2017-02-17",
                                    "FELNOTT_SZAM": "1",
                                    "GYERMEK_SZAM": "0",
                                    "Előző három foglalás átlaga": "1"
                                },
                                {
                                    "USERNEV": "norbert5",
                                    "NEV": "Béres Norbert",
                                    "EMAIL": "norbert5@gmail.com",
                                    "SZAML_CIM": "8640 Fonyód Bajcsy-Zsilinszky utca 4.",
                                    "SZUL_DAT": "1975-07-27",
                                    "FOGLALAS_PK": "1252",
                                    "UGYFEL_FK": "norbert5",
                                    "SZOBA_FK": "7",
                                    "METTOL": "2016-11-05",
                                    "MEDDIG": "2016-11-07",
                                    "FELNOTT_SZAM": "1",
                                    "GYERMEK_SZAM": "0",
                                    "Előző három foglalás átlaga": "1"
                                },
                                {
                                    "USERNEV": "peter3",
                                    "NEV": "Szalai Péter",
                                    "EMAIL": "peter3@gmail.com",
                                    "SZAML_CIM": "1155 Budapest Arany János utca 3.",
                                    "SZUL_DAT": "1983-07-18",
                                    "FOGLALAS_PK": "1434",
                                    "UGYFEL_FK": "peter3",
                                    "SZOBA_FK": "3",
                                    "METTOL": "2017-01-12",
                                    "MEDDIG": "2017-01-17",
                                    "FELNOTT_SZAM": "1",
                                    "GYERMEK_SZAM": "0",
                                    "Előző három foglalás átlaga": "1"
                                },
                                {
                                    "USERNEV": "peter3",
                                    "NEV": "Szalai Péter",
                                    "EMAIL": "peter3@gmail.com",
                                    "SZAML_CIM": "1155 Budapest Arany János utca 3.",
                                    "SZUL_DAT": "1983-07-18",
                                    "FOGLALAS_PK": "1396",
                                    "UGYFEL_FK": "peter3",
                                    "SZOBA_FK": "72",
                                    "METTOL": "2016-12-25",
                                    "MEDDIG": "2016-12-28",
                                    "FELNOTT_SZAM": "1",
                                    "GYERMEK_SZAM": "0",
                                    "Előző három foglalás átlaga": "1"
                                },
                                {
                                    "USERNEV": "PETERB",
                                    "NEV": "Berendi Péter",
                                    "EMAIL": "péter.berendi@mail.hu",
                                    "SZAML_CIM": "3980 Sátoraljaújhely Vasút utca 4/10.",
                                    "SZUL_DAT": "1969-01-01",
                                    "FOGLALAS_PK": "562",
                                    "UGYFEL_FK": "PETERB",
                                    "SZOBA_FK": "7",
                                    "METTOL": "2016-04-06",
                                    "MEDDIG": "2016-04-10",
                                    "FELNOTT_SZAM": "1",
                                    "GYERMEK_SZAM": "0",
                                    "Előző három foglalás átlaga": "1"
                                },
                                {
                                    "USERNEV": "PETERB",
                                    "NEV": "Berendi Péter",
                                    "EMAIL": "péter.berendi@mail.hu",
                                    "SZAML_CIM": "3980 Sátoraljaújhely Vasút utca 4/10.",
                                    "SZUL_DAT": "1969-01-01",
                                    "FOGLALAS_PK": "781",
                                    "UGYFEL_FK": "PETERB",
                                    "SZOBA_FK": "166",
                                    "METTOL": "2016-08-16",
                                    "MEDDIG": "2016-08-23",
                                    "FELNOTT_SZAM": "1",
                                    "GYERMEK_SZAM": "0",
                                    "Előző három foglalás átlaga": "1"
                                },
                                {
                                    "USERNEV": "RENATAK",
                                    "NEV": "Kardos Renáta",
                                    "EMAIL": "renáta.kardos@mail.hu",
                                    "SZAML_CIM": "7086 Ozora Bécsi utca 82.",
                                    "SZUL_DAT": "1988-05-17",
                                    "FOGLALAS_PK": "1312",
                                    "UGYFEL_FK": "RENATAK",
                                    "SZOBA_FK": "94",
                                    "METTOL": "2016-11-23",
                                    "MEDDIG": "2016-11-26",
                                    "FELNOTT_SZAM": "1",
                                    "GYERMEK_SZAM": "0",
                                    "Előző három foglalás átlaga": "1"
                                },
                                {
                                    "USERNEV": "RENATAK",
                                    "NEV": "Kardos Renáta",
                                    "EMAIL": "renáta.kardos@mail.hu",
                                    "SZAML_CIM": "7086 Ozora Bécsi utca 82.",
                                    "SZUL_DAT": "1988-05-17",
                                    "FOGLALAS_PK": "1224",
                                    "UGYFEL_FK": "RENATAK",
                                    "SZOBA_FK": "50",
                                    "METTOL": "2016-10-30",
                                    "MEDDIG": "2016-10-31",
                                    "FELNOTT_SZAM": "1",
                                    "GYERMEK_SZAM": "0",
                                    "Előző három foglalás átlaga": "1"
                                },
                                {
                                    "USERNEV": "RENATAK",
                                    "NEV": "Kardos Renáta",
                                    "EMAIL": "renáta.kardos@mail.hu",
                                    "SZAML_CIM": "7086 Ozora Bécsi utca 82.",
                                    "SZUL_DAT": "1988-05-17",
                                    "FOGLALAS_PK": "1543",
                                    "UGYFEL_FK": "RENATAK",
                                    "SZOBA_FK": "95",
                                    "METTOL": "2017-02-16",
                                    "MEDDIG": "2017-02-23",
                                    "FELNOTT_SZAM": "1",
                                    "GYERMEK_SZAM": "0",
                                    "Előző három foglalás átlaga": "1"
                                },
                                {
                                    "USERNEV": "RENATAK",
                                    "NEV": "Kardos Renáta",
                                    "EMAIL": "renáta.kardos@mail.hu",
                                    "SZAML_CIM": "7086 Ozora Bécsi utca 82.",
                                    "SZUL_DAT": "1988-05-17",
                                    "FOGLALAS_PK": "1581",
                                    "UGYFEL_FK": "RENATAK",
                                    "SZOBA_FK": "48",
                                    "METTOL": "2017-03-01",
                                    "MEDDIG": "2017-03-06",
                                    "FELNOTT_SZAM": "1",
                                    "GYERMEK_SZAM": "0",
                                    "Előző három foglalás átlaga": "1"
                                },
                                {
                                    "USERNEV": "RENATAS",
                                    "NEV": "Szirmai Renáta",
                                    "EMAIL": "RENATAS@gmail.com",
                                    "SZAML_CIM": "2053 Herceghalom Kossuth utca 27.",
                                    "SZUL_DAT": "1991-03-26",
                                    "FOGLALAS_PK": "1529",
                                    "UGYFEL_FK": "RENATAS",
                                    "SZOBA_FK": "35",
                                    "METTOL": "2017-02-13",
                                    "MEDDIG": "2017-02-17",
                                    "FELNOTT_SZAM": "1",
                                    "GYERMEK_SZAM": "0",
                                    "Előző három foglalás átlaga": "1"
                                },
                                {
                                    "USERNEV": "robert2",
                                    "NEV": "Patay Róbert",
                                    "EMAIL": "robert2@gmail.com",
                                    "SZAML_CIM": "2370 Dabas Rákóczi utca 21.",
                                    "SZUL_DAT": "1977-01-08",
                                    "FOGLALAS_PK": "1374",
                                    "UGYFEL_FK": "robert2",
                                    "SZOBA_FK": "118",
                                    "METTOL": "2016-12-17",
                                    "MEDDIG": "2016-12-22",
                                    "FELNOTT_SZAM": "1",
                                    "GYERMEK_SZAM": "0",
                                    "Előző három foglalás átlaga": "1"
                                },
                                {
                                    "USERNEV": "ROBERTI",
                                    "NEV": "Iván Róbert",
                                    "EMAIL": "róbert.iván@mail.hu",
                                    "SZAML_CIM": "2377 Örkény Petőfi Sándor utca 3.",
                                    "SZUL_DAT": "1967-07-02",
                                    "FOGLALAS_PK": "1186",
                                    "UGYFEL_FK": "ROBERTI",
                                    "SZOBA_FK": "58",
                                    "METTOL": "2016-10-23",
                                    "MEDDIG": "2016-10-29",
                                    "FELNOTT_SZAM": "1",
                                    "GYERMEK_SZAM": "0",
                                    "Előző három foglalás átlaga": "1"
                                },
                                {
                                    "USERNEV": "roland1",
                                    "NEV": "Ferencz Roland",
                                    "EMAIL": "roland.ferencz@mail.hu",
                                    "SZAML_CIM": "2424 Előszállás Fő út 169.",
                                    "SZUL_DAT": "1985-12-31",
                                    "FOGLALAS_PK": "1384",
                                    "UGYFEL_FK": "roland1",
                                    "SZOBA_FK": "84",
                                    "METTOL": "2016-12-22",
                                    "MEDDIG": "2016-12-29",
                                    "FELNOTT_SZAM": "1",
                                    "GYERMEK_SZAM": "0",
                                    "Előző három foglalás átlaga": "1"
                                },
                                {
                                    "USERNEV": "sandor3",
                                    "NEV": "Farkas Sándor",
                                    "EMAIL": "sándor.farkas@mail.hu",
                                    "SZAML_CIM": "8640 Fonyód Tanácsköztársaság tér 1.",
                                    "SZUL_DAT": "1989-01-27",
                                    "FOGLALAS_PK": "858",
                                    "UGYFEL_FK": "sandor3",
                                    "SZOBA_FK": "121",
                                    "METTOL": "2016-05-25",
                                    "MEDDIG": "2016-05-30",
                                    "FELNOTT_SZAM": "1",
                                    "GYERMEK_SZAM": "0",
                                    "Előző három foglalás átlaga": "1"
                                },
                                {
                                    "USERNEV": "sandor4",
                                    "NEV": "Nagy Sándor",
                                    "EMAIL": "sandor4@gmail.com",
                                    "SZAML_CIM": "4600 Kisvárda Fő utca 47.",
                                    "SZUL_DAT": "1997-06-11",
                                    "FOGLALAS_PK": "1339",
                                    "UGYFEL_FK": "sandor4",
                                    "SZOBA_FK": "120",
                                    "METTOL": "2016-12-03",
                                    "MEDDIG": "2016-12-09",
                                    "FELNOTT_SZAM": "1",
                                    "GYERMEK_SZAM": "0",
                                    "Előző három foglalás átlaga": "1"
                                },
                                {
                                    "USERNEV": "sandor4",
                                    "NEV": "Nagy Sándor",
                                    "EMAIL": "sandor4@gmail.com",
                                    "SZAML_CIM": "4600 Kisvárda Fő utca 47.",
                                    "SZUL_DAT": "1997-06-11",
                                    "FOGLALAS_PK": "1156",
                                    "UGYFEL_FK": "sandor4",
                                    "SZOBA_FK": "140",
                                    "METTOL": "2016-10-15",
                                    "MEDDIG": "2016-10-18",
                                    "FELNOTT_SZAM": "1",
                                    "GYERMEK_SZAM": "0",
                                    "Előző három foglalás átlaga": "1"
                                },
                                {
                                    "USERNEV": "sara",
                                    "NEV": "Farkas Sára",
                                    "EMAIL": "sára.farkas@mail.hu",
                                    "SZAML_CIM": "5940 Tótkomlós Felszabadulás utca 32.",
                                    "SZUL_DAT": "1973-04-05",
                                    "FOGLALAS_PK": "1351",
                                    "UGYFEL_FK": "sara",
                                    "SZOBA_FK": "38",
                                    "METTOL": "2016-12-06",
                                    "MEDDIG": "2016-12-10",
                                    "FELNOTT_SZAM": "1",
                                    "GYERMEK_SZAM": "0",
                                    "Előző három foglalás átlaga": "1"
                                },
                                {
                                    "USERNEV": "SZILARDS",
                                    "NEV": "Szalai Szilárd",
                                    "EMAIL": "szilárd.szalai@mail.hu",
                                    "SZAML_CIM": "1077 Budapest Fő út 18.",
                                    "SZUL_DAT": "1967-09-28",
                                    "FOGLALAS_PK": "1508",
                                    "UGYFEL_FK": "SZILARDS",
                                    "SZOBA_FK": "191",
                                    "METTOL": "2017-02-08",
                                    "MEDDIG": "2017-02-15",
                                    "FELNOTT_SZAM": "1",
                                    "GYERMEK_SZAM": "0",
                                    "Előző három foglalás átlaga": "1"
                                },
                                {
                                    "USERNEV": "TAMASF",
                                    "NEV": "Fényes Tamás",
                                    "EMAIL": "TAMASF@gmail.com",
                                    "SZAML_CIM": "9023 Győr Arany János utca 1.",
                                    "SZUL_DAT": "1997-11-06",
                                    "FOGLALAS_PK": "1338",
                                    "UGYFEL_FK": "TAMASF",
                                    "SZOBA_FK": "145",
                                    "METTOL": "2016-12-02",
                                    "MEDDIG": "2016-12-04",
                                    "FELNOTT_SZAM": "1",
                                    "GYERMEK_SZAM": "0",
                                    "Előző három foglalás átlaga": "1"
                                },
                                {
                                    "USERNEV": "tibor",
                                    "NEV": "Gombos Tibor",
                                    "EMAIL": "tibor.gombos@mail.hu",
                                    "SZAML_CIM": "7100 Szekszárd Kossuth utca 77.",
                                    "SZUL_DAT": "1993-11-28",
                                    "FOGLALAS_PK": "1251",
                                    "UGYFEL_FK": "tibor",
                                    "SZOBA_FK": "184",
                                    "METTOL": "2016-11-05",
                                    "MEDDIG": "2016-11-09",
                                    "FELNOTT_SZAM": "1",
                                    "GYERMEK_SZAM": "0",
                                    "Előző három foglalás átlaga": "1"
                                },
                                {
                                    "USERNEV": "tihamer",
                                    "NEV": "Kazy Tihamér",
                                    "EMAIL": "tihamér.kazy@mail.hu",
                                    "SZAML_CIM": "2370 Dabas Fő utca 60.",
                                    "SZUL_DAT": "1991-07-05",
                                    "FOGLALAS_PK": "881",
                                    "UGYFEL_FK": "tihamer",
                                    "SZOBA_FK": "131",
                                    "METTOL": "2016-05-30",
                                    "MEDDIG": "2016-06-05",
                                    "FELNOTT_SZAM": "1",
                                    "GYERMEK_SZAM": "0",
                                    "Előző három foglalás átlaga": "1"
                                },
                                {
                                    "USERNEV": "tunde",
                                    "NEV": "Turcsik Tünde",
                                    "EMAIL": "tunde@gmail.com",
                                    "SZAML_CIM": "7130 Tolna Fő út 122.",
                                    "SZUL_DAT": "1974-02-12",
                                    "FOGLALAS_PK": "669",
                                    "UGYFEL_FK": "tunde",
                                    "SZOBA_FK": "173",
                                    "METTOL": "2016-07-14",
                                    "MEDDIG": "2016-07-21",
                                    "FELNOTT_SZAM": "1",
                                    "GYERMEK_SZAM": "0",
                                    "Előző három foglalás átlaga": "1"
                                },
                                {
                                    "USERNEV": "valentin",
                                    "NEV": "Feró Valentin",
                                    "EMAIL": "valentin.feró@mail.hu",
                                    "SZAML_CIM": "3895 Gönc Búvár utca 4.",
                                    "SZUL_DAT": "1986-01-09",
                                    "FOGLALAS_PK": "709",
                                    "UGYFEL_FK": "valentin",
                                    "SZOBA_FK": "172",
                                    "METTOL": "2016-07-24",
                                    "MEDDIG": "2016-07-29",
                                    "FELNOTT_SZAM": "1",
                                    "GYERMEK_SZAM": "0",
                                    "Előző három foglalás átlaga": "1"
                                },
                                {
                                    "USERNEV": "veronika4",
                                    "NEV": "Tankó Veronika",
                                    "EMAIL": "veronika4@gmail.com",
                                    "SZAML_CIM": "6412 Balotaszállás Rendeki utca 21.",
                                    "SZUL_DAT": "1983-08-28",
                                    "FOGLALAS_PK": "790",
                                    "UGYFEL_FK": "veronika4",
                                    "SZOBA_FK": "10",
                                    "METTOL": "2016-08-16",
                                    "MEDDIG": "2016-08-21",
                                    "FELNOTT_SZAM": "1",
                                    "GYERMEK_SZAM": "0",
                                    "Előző három foglalás átlaga": "1"
                                },
                                {
                                    "USERNEV": "VIKTORIAU",
                                    "NEV": "Urbán Viktoria",
                                    "EMAIL": "viktoria.urbán@mail.hu",
                                    "SZAML_CIM": "3860 Encs Népboltsor  2.",
                                    "SZUL_DAT": "1996-05-03",
                                    "FOGLALAS_PK": "610",
                                    "UGYFEL_FK": "VIKTORIAU",
                                    "SZOBA_FK": "106",
                                    "METTOL": "2016-04-30",
                                    "MEDDIG": "2016-05-03",
                                    "FELNOTT_SZAM": "1",
                                    "GYERMEK_SZAM": "0",
                                    "Előző három foglalás átlaga": "1"
                                },
                                {
                                    "USERNEV": "vivien3",
                                    "NEV": "Boros Vivien",
                                    "EMAIL": "vivien3@gmail.com",
                                    "SZAML_CIM": "2117 Isaszeg Fő út 122.",
                                    "SZUL_DAT": "1991-07-01",
                                    "FOGLALAS_PK": "1103",
                                    "UGYFEL_FK": "vivien3",
                                    "SZOBA_FK": "87",
                                    "METTOL": "2016-10-01",
                                    "MEDDIG": "2016-10-04",
                                    "FELNOTT_SZAM": "1",
                                    "GYERMEK_SZAM": "0",
                                    "Előző három foglalás átlaga": "1"
                                },
                                {
                                    "USERNEV": "zoltan4",
                                    "NEV": "Barna Zoltán",
                                    "EMAIL": "zoltan4@gmail.com",
                                    "SZAML_CIM": "8313 Balatongyörök Jászai tér 21.",
                                    "SZUL_DAT": "1986-05-20",
                                    "FOGLALAS_PK": "1230",
                                    "UGYFEL_FK": "zoltan4",
                                    "SZOBA_FK": "182",
                                    "METTOL": "2016-10-30",
                                    "MEDDIG": "2016-11-06",
                                    "FELNOTT_SZAM": "1",
                                    "GYERMEK_SZAM": "0",
                                    "Előző három foglalás átlaga": "1"
                                },
                                {
                                    "USERNEV": "zoltan4",
                                    "NEV": "Barna Zoltán",
                                    "EMAIL": "zoltan4@gmail.com",
                                    "SZAML_CIM": "8313 Balatongyörök Jászai tér 21.",
                                    "SZUL_DAT": "1986-05-20",
                                    "FOGLALAS_PK": "1403",
                                    "UGYFEL_FK": "zoltan4",
                                    "SZOBA_FK": "124",
                                    "METTOL": "2016-12-29",
                                    "MEDDIG": "2017-01-04",
                                    "FELNOTT_SZAM": "1",
                                    "GYERMEK_SZAM": "0",
                                    "Előző három foglalás átlaga": "1"
                                },
                                {
                                    "USERNEV": "zoltan4",
                                    "NEV": "Barna Zoltán",
                                    "EMAIL": "zoltan4@gmail.com",
                                    "SZAML_CIM": "8313 Balatongyörök Jászai tér 21.",
                                    "SZUL_DAT": "1986-05-20",
                                    "FOGLALAS_PK": "779",
                                    "UGYFEL_FK": "zoltan4",
                                    "SZOBA_FK": "130",
                                    "METTOL": "2016-08-15",
                                    "MEDDIG": "2016-08-21",
                                    "FELNOTT_SZAM": "1",
                                    "GYERMEK_SZAM": "0",
                                    "Előző három foglalás átlaga": "1"
                                },
                                {
                                    "USERNEV": "zoltan4",
                                    "NEV": "Barna Zoltán",
                                    "EMAIL": "zoltan4@gmail.com",
                                    "SZAML_CIM": "8313 Balatongyörök Jászai tér 21.",
                                    "SZUL_DAT": "1986-05-20",
                                    "FOGLALAS_PK": "893",
                                    "UGYFEL_FK": "zoltan4",
                                    "SZOBA_FK": "151",
                                    "METTOL": "2016-06-03",
                                    "MEDDIG": "2016-06-06",
                                    "FELNOTT_SZAM": "1",
                                    "GYERMEK_SZAM": "0",
                                    "Előző három foglalás átlaga": "1"
                                },
                                {
                                    "USERNEV": "ZSOLTJ",
                                    "NEV": "Józsa Zsolt",
                                    "EMAIL": "ZSOLTJ@gmail.com",
                                    "SZAML_CIM": "8315 Gyenesdiás Bajcsy-Zsilinszky utca 4.",
                                    "SZUL_DAT": "1983-09-29",
                                    "FOGLALAS_PK": "867",
                                    "UGYFEL_FK": "ZSOLTJ",
                                    "SZOBA_FK": "175",
                                    "METTOL": "2016-05-28",
                                    "MEDDIG": "2016-06-03",
                                    "FELNOTT_SZAM": "1",
                                    "GYERMEK_SZAM": "0",
                                    "Előző három foglalás átlaga": "1"
                                },
                                {
                                    "USERNEV": "zsuzsanna",
                                    "NEV": "Barta Zsuzsanna",
                                    "EMAIL": "zsuzsanna.barta@mail.hu",
                                    "SZAML_CIM": "4172 Biharnagybajom Dózsa György utca 37.",
                                    "SZUL_DAT": "1994-10-07",
                                    "FOGLALAS_PK": "1428",
                                    "UGYFEL_FK": "zsuzsanna",
                                    "SZOBA_FK": "126",
                                    "METTOL": "2017-01-09",
                                    "MEDDIG": "2017-01-16",
                                    "FELNOTT_SZAM": "1",
                                    "GYERMEK_SZAM": "0",
                                    "Előző három foglalás átlaga": "1"
                                },
                                {
                                    "USERNEV": "ZSUZSAV",
                                    "NEV": "Vajda Zsuzsa",
                                    "EMAIL": "zsuzsa.vajda@mail.hu",
                                    "SZAML_CIM": "6786 Ruzsa Kossuth utca 77.",
                                    "SZUL_DAT": "1976-12-11",
                                    "FOGLALAS_PK": "1202",
                                    "UGYFEL_FK": "ZSUZSAV",
                                    "SZOBA_FK": "52",
                                    "METTOL": "2016-10-26",
                                    "MEDDIG": "2016-10-28",
                                    "FELNOTT_SZAM": "1",
                                    "GYERMEK_SZAM": "0",
                                    "Előző három foglalás átlaga": "1"
                                }
                            ]
                        },
                        "text/html": [
                            "<table>",
                            "<tr><th>USERNEV</th><th>NEV</th><th>EMAIL</th><th>SZAML_CIM</th><th>SZUL_DAT</th><th>FOGLALAS_PK</th><th>UGYFEL_FK</th><th>SZOBA_FK</th><th>METTOL</th><th>MEDDIG</th><th>FELNOTT_SZAM</th><th>GYERMEK_SZAM</th><th>NEV</th><th>Előző három foglalás átlaga</th></tr>",
                            "<tr><td>adam1</td><td>Kiss Ádám</td><td>ádám.kiss@mail.hu</td><td>5630 Békés Szolnoki út 8.</td><td>1991-12-28</td><td>803</td><td>adam1</td><td>1</td><td>2016-08-20</td><td>2016-08-24</td><td>1</td><td>0</td><td>Kiss Ádám</td><td>1</td></tr>",
                            "<tr><td>adam3</td><td>Barkóci Ádám</td><td>adam3@gmail.com</td><td>3910 Tokaj Dózsa György utca 37.</td><td>1970-06-07</td><td>1504</td><td>adam3</td><td>57</td><td>2017-02-06</td><td>2017-02-10</td><td>1</td><td>0</td><td>Barkóci Ádám</td><td>1</td></tr>",
                            "<tr><td>agnes</td><td>Lengyel Ágnes</td><td>agnes@gmail.com</td><td>5200 Törökszentmiklós Deák Ferenc út 5.</td><td>1979-12-10</td><td>857</td><td>agnes</td><td>165</td><td>2016-05-25</td><td>2016-05-30</td><td>1</td><td>0</td><td>Lengyel Ágnes</td><td>1</td></tr>",
                            "<tr><td>agnes3</td><td>Hartyánszky Ágnes</td><td>agnes3@gmail.com</td><td>6430 Bácsalmás Posta köz 2.</td><td>1967-04-11</td><td>755</td><td>agnes3</td><td>20</td><td>2016-08-04</td><td>2016-08-10</td><td>1</td><td>0</td><td>Hartyánszky Ágnes</td><td>1</td></tr>",
                            "<tr><td>AGNESH</td><td>Horváth Ágnes</td><td>AGNESH@gmail.com</td><td>8200 Veszprém Rákóczi utca 21.</td><td>1981-12-24</td><td>980</td><td>AGNESH</td><td>143</td><td>2016-06-23</td><td>2016-06-26</td><td>1</td><td>0</td><td>Horváth Ágnes</td><td>1</td></tr>",
                            "<tr><td>AGNESH</td><td>Horváth Ágnes</td><td>AGNESH@gmail.com</td><td>8200 Veszprém Rákóczi utca 21.</td><td>1981-12-24</td><td>1225</td><td>AGNESH</td><td>69</td><td>2016-10-30</td><td>2016-11-04</td><td>1</td><td>0</td><td>Horváth Ágnes</td><td>1</td></tr>",
                            "<tr><td>akos</td><td>Bíró Ákos</td><td>ákos.bíró@mail.hu</td><td>9023 Győr Kossuth Lajos utca 47/b.</td><td>1982-04-24</td><td>1034</td><td>akos</td><td>127</td><td>2016-09-06</td><td>2016-09-12</td><td>1</td><td>0</td><td>Bíró Ákos</td><td>1</td></tr>",
                            "<tr><td>akos</td><td>Bíró Ákos</td><td>ákos.bíró@mail.hu</td><td>9023 Győr Kossuth Lajos utca 47/b.</td><td>1982-04-24</td><td>705</td><td>akos</td><td>37</td><td>2016-07-22</td><td>2016-07-26</td><td>1</td><td>0</td><td>Bíró Ákos</td><td>1</td></tr>",
                            "<tr><td>aladar</td><td>Dunai Aladár</td><td>aladár.dunai@mail.hu</td><td>5931 Nagyszénás Árpád utca 23.</td><td>1980-11-01</td><td>651</td><td>aladar</td><td>4</td><td>2016-05-17</td><td>2016-05-24</td><td>1</td><td>0</td><td>Dunai Aladár</td><td>1</td></tr>",
                            "<tr><td>aladar</td><td>Dunai Aladár</td><td>aladár.dunai@mail.hu</td><td>5931 Nagyszénás Árpád utca 23.</td><td>1980-11-01</td><td>1079</td><td>aladar</td><td>86</td><td>2016-09-24</td><td>2016-09-28</td><td>1</td><td>0</td><td>Dunai Aladár</td><td>1</td></tr>",
                            "<tr><td>alexandra</td><td>Bagóczki Alexandra</td><td>alexandra.bagóczki@mail.hu</td><td>2381 Táborfalva Petőfi utca 1/2.</td><td>1992-03-25</td><td>1436</td><td>alexandra</td><td>35</td><td>2017-01-13</td><td>2017-01-14</td><td>1</td><td>0</td><td>Bagóczki Alexandra</td><td>1</td></tr>",
                            "<tr><td>andi</td><td>Maródi Andrea</td><td>andrea.maródi@mail.hu</td><td>5465 Cserkeszőlő Árpád utca 4.</td><td>1968-05-07</td><td>955</td><td>andi</td><td>47</td><td>2016-06-13</td><td>2016-06-14</td><td>1</td><td>0</td><td>Maródi Andrea</td><td>1</td></tr>",
                            "<tr><td>andras2</td><td>Tóth András</td><td>andrás.tóth@mail.hu</td><td>4071 Egyek Petőfi utca 30.</td><td>1997-10-31</td><td>884</td><td>andras2</td><td>98</td><td>2016-05-30</td><td>2016-06-04</td><td>1</td><td>0</td><td>Tóth András</td><td>1</td></tr>",
                            "<tr><td>andras21</td><td>Molnár András</td><td>andrás.molnár@mail.hu</td><td>7900 Szigetvár Rákóczi utca 67.</td><td>1977-11-16</td><td>697</td><td>andras21</td><td>12</td><td>2016-07-20</td><td>2016-07-22</td><td>1</td><td>0</td><td>Molnár András</td><td>1</td></tr>",
                            "<tr><td>andras3</td><td>Vígh András</td><td>andrás.vígh@mail.hu</td><td>1118 Budapest Arany János utca 1.</td><td>1971-04-02</td><td>880</td><td>andras3</td><td>184</td><td>2016-05-30</td><td>2016-06-03</td><td>1</td><td>0</td><td>Vígh András</td><td>1</td></tr>",
                            "<tr><td>andras3</td><td>Vígh András</td><td>andrás.vígh@mail.hu</td><td>1118 Budapest Arany János utca 1.</td><td>1971-04-02</td><td>949</td><td>andras3</td><td>1</td><td>2016-06-10</td><td>2016-06-11</td><td>1</td><td>0</td><td>Vígh András</td><td>1</td></tr>",
                            "<tr><td>andras41</td><td>Komjáti András</td><td>andras41@gmail.com</td><td>5065 Nagykörű Kossuth út 24.</td><td>1997-10-25</td><td>799</td><td>andras41</td><td>175</td><td>2016-08-19</td><td>2016-08-23</td><td>1</td><td>0</td><td>Komjáti András</td><td>1</td></tr>",
                            "<tr><td>andras41</td><td>Komjáti András</td><td>andras41@gmail.com</td><td>5065 Nagykörű Kossuth út 24.</td><td>1997-10-25</td><td>1308</td><td>andras41</td><td>182</td><td>2016-11-23</td><td>2016-11-24</td><td>1</td><td>0</td><td>Komjáti András</td><td>1</td></tr>",
                            "<tr><td>andras41</td><td>Komjáti András</td><td>andras41@gmail.com</td><td>5065 Nagykörű Kossuth út 24.</td><td>1997-10-25</td><td>1074</td><td>andras41</td><td>195</td><td>2016-09-22</td><td>2016-09-29</td><td>1</td><td>0</td><td>Komjáti András</td><td>1</td></tr>",
                            "<tr><td>ANDRASE</td><td>Erdei András</td><td>ANDRASE@gmail.com</td><td>5071 Besenyszög Szolnoki út 8.</td><td>1997-05-29</td><td>600</td><td>ANDRASE</td><td>190</td><td>2016-04-24</td><td>2016-05-01</td><td>1</td><td>0</td><td>Erdei András</td><td>1</td></tr>",
                            "<tr><td>andrea4</td><td>Neizer Andrea</td><td>andrea4@gmail.com</td><td>1124 Budapest Kiss u. 8.</td><td>1981-05-17</td><td>860</td><td>andrea4</td><td>70</td><td>2016-05-27</td><td>2016-05-29</td><td>1</td><td>0</td><td>Neizer Andrea</td><td>1</td></tr>",
                            "<tr><td>anett3</td><td>Pivarcsi Anett</td><td>anett.pivarcsi@mail.hu</td><td>1149 Budapest Fő út 60.</td><td>1967-01-03</td><td>567</td><td>anett3</td><td>170</td><td>2016-04-10</td><td>2016-04-17</td><td>1</td><td>0</td><td>Pivarcsi Anett</td><td>1</td></tr>",
                            "<tr><td>anett3</td><td>Pivarcsi Anett</td><td>anett.pivarcsi@mail.hu</td><td>1149 Budapest Fő út 60.</td><td>1967-01-03</td><td>1159</td><td>anett3</td><td>73</td><td>2016-10-16</td><td>2016-10-21</td><td>1</td><td>0</td><td>Pivarcsi Anett</td><td>1</td></tr>",
                            "<tr><td>aniko4</td><td>Böröcz Anikó</td><td>aniko4@gmail.com</td><td>2484 Agárd Petőfi Sándor tér 1.</td><td>1978-03-26</td><td>1001</td><td>aniko4</td><td>4</td><td>2016-07-02</td><td>2016-07-09</td><td>1</td><td>0</td><td>Böröcz Anikó</td><td>1</td></tr>",
                            "<tr><td>ANIKOS</td><td>Simon Anikó</td><td>ANIKOS@gmail.com</td><td>5137 Jászkisér Bécsi utca 82.</td><td>1988-12-14</td><td>965</td><td>ANIKOS</td><td>5</td><td>2016-06-16</td><td>2016-06-23</td><td>1</td><td>0</td><td>Simon Anikó</td><td>1</td></tr>",
                            "<tr><td>ANNAMARIAR</td><td>Regős Annamária</td><td>ANNAMARIAR@gmail.com</td><td>8283 Káptalantóti Petőfi Sándor tér 1.</td><td>1977-09-26</td><td>684</td><td>ANNAMARIAR</td><td>184</td><td>2016-07-18</td><td>2016-07-21</td><td>1</td><td>0</td><td>Regős Annamária</td><td>1</td></tr>",
                            "<tr><td>ARPADH</td><td>Horváth Árpád</td><td>árpád.horváth@mail.hu</td><td>7349 Szászvár Dózsa György u. 1.</td><td>1990-05-18</td><td>1066</td><td>ARPADH</td><td>49</td><td>2016-09-18</td><td>2016-09-25</td><td>1</td><td>0</td><td>Horváth Árpád</td><td>1</td></tr>",
                            "<tr><td>ARPADH</td><td>Horváth Árpád</td><td>árpád.horváth@mail.hu</td><td>7349 Szászvár Dózsa György u. 1.</td><td>1990-05-18</td><td>1056</td><td>ARPADH</td><td>47</td><td>2016-09-16</td><td>2016-09-23</td><td>1</td><td>0</td><td>Horváth Árpád</td><td>1</td></tr>",
                            "<tr><td>ARPADH</td><td>Horváth Árpád</td><td>árpád.horváth@mail.hu</td><td>7349 Szászvár Dózsa György u. 1.</td><td>1990-05-18</td><td>1342</td><td>ARPADH</td><td>170</td><td>2016-12-04</td><td>2016-12-10</td><td>1</td><td>0</td><td>Horváth Árpád</td><td>1</td></tr>",
                            "<tr><td>ARPADM</td><td>Móricz Árpád</td><td>árpád.móricz@mail.hu</td><td>3910 Tokaj Rákóczi utca 67.</td><td>1986-04-20</td><td>1420</td><td>ARPADM</td><td>198</td><td>2017-01-05</td><td>2017-01-10</td><td>1</td><td>0</td><td>Móricz Árpád</td><td>1</td></tr>",
                            "<tr><td>attila</td><td>Csóti Attila</td><td>attila@gmail.com</td><td>3000 Hatvan Bajcsy-Zsilinszky utca 4.</td><td>1979-12-25</td><td>1154</td><td>attila</td><td>115</td><td>2016-10-15</td><td>2016-10-19</td><td>1</td><td>0</td><td>Csóti Attila</td><td>1</td></tr>",
                            "<tr><td>attila1</td><td>Gulyás Attila</td><td>attila.gulyás@mail.hu</td><td>3881 Abaújszántó Szolnoki út 8.</td><td>1982-08-16</td><td>657</td><td>attila1</td><td>137</td><td>2016-05-20</td><td>2016-05-26</td><td>1</td><td>0</td><td>Gulyás Attila</td><td>1</td></tr>",
                            "<tr><td>balazs2</td><td>Szűcs Balázs</td><td>balázs.szűcs@mail.hu</td><td>3170 Szécsény Szabadság utca 95.</td><td>1984-10-31</td><td>1578</td><td>balazs2</td><td>148</td><td>2017-02-27</td><td>2017-03-06</td><td>1</td><td>0</td><td>Szűcs Balázs</td><td>1</td></tr>",
                            "<tr><td>balint1</td><td>Molnár Bálint</td><td>balint1@gmail.com</td><td>9181 Kimle Fő út 169.</td><td>1989-08-24</td><td>948</td><td>balint1</td><td>19</td><td>2016-06-10</td><td>2016-06-12</td><td>1</td><td>0</td><td>Molnár Bálint</td><td>1</td></tr>",
                            "<tr><td>balint1</td><td>Molnár Bálint</td><td>balint1@gmail.com</td><td>9181 Kimle Fő út 169.</td><td>1989-08-24</td><td>1057</td><td>balint1</td><td>86</td><td>2016-09-16</td><td>2016-09-21</td><td>1</td><td>0</td><td>Molnár Bálint</td><td>1</td></tr>",
                            "<tr><td>balint2</td><td>Vukasinovity Bálint</td><td>balint2@gmail.com</td><td>2330 Dunaharaszti Béke utca 7.</td><td>1997-09-03</td><td>702</td><td>balint2</td><td>62</td><td>2016-07-21</td><td>2016-07-26</td><td>1</td><td>0</td><td>Vukasinovity Bálint</td><td>1</td></tr>",
                            "<tr><td>beata4</td><td>Bagi Beáta</td><td>beáta.bagi@mail.hu</td><td>8477 Tüskevár Felszabadulás utca 32.</td><td>1994-03-19</td><td>1005</td><td>beata4</td><td>22</td><td>2016-07-03</td><td>2016-07-06</td><td>1</td><td>0</td><td>Bagi Beáta</td><td>1</td></tr>",
                            "<tr><td>beata4</td><td>Bagi Beáta</td><td>beáta.bagi@mail.hu</td><td>8477 Tüskevár Felszabadulás utca 32.</td><td>1994-03-19</td><td>1112</td><td>beata4</td><td>155</td><td>2016-10-01</td><td>2016-10-05</td><td>1</td><td>0</td><td>Bagi Beáta</td><td>1</td></tr>",
                            "<tr><td>BEATRIXS</td><td>Szekendi Beatrix</td><td>beatrix.szekendi@mail.hu</td><td>4060 Balmazújváros Jászai tér 21.</td><td>1981-04-06</td><td>586</td><td>BEATRIXS</td><td>107</td><td>2016-04-18</td><td>2016-04-24</td><td>1</td><td>0</td><td>Szekendi Beatrix</td><td>1</td></tr>",
                            "<tr><td>BELAF</td><td>Farkas Béla</td><td>BELAF@gmail.com</td><td>5530 Vésztő Petőfi Sándor utca 3.</td><td>1995-02-24</td><td>1350</td><td>BELAF</td><td>173</td><td>2016-12-06</td><td>2016-12-09</td><td>1</td><td>0</td><td>Farkas Béla</td><td>1</td></tr>",
                            "<tr><td>bence</td><td>Győrffy Bence</td><td>bence@gmail.com</td><td>6900 Makó Árpád utca 23.</td><td>1987-07-09</td><td>872</td><td>bence</td><td>28</td><td>2016-05-29</td><td>2016-06-03</td><td>1</td><td>0</td><td>Győrffy Bence</td><td>1</td></tr>",
                            "<tr><td>bernadett1</td><td>Simon Bernadett</td><td>bernadett1@gmail.com</td><td>2300 Ráckeve Fő utca 108.</td><td>1984-10-13</td><td>1568</td><td>bernadett1</td><td>29</td><td>2017-02-24</td><td>2017-03-03</td><td>1</td><td>0</td><td>Simon Bernadett</td><td>1</td></tr>",
                            "<tr><td>bernadett2</td><td>Kovács Bernadett</td><td>bernadett.kovács@mail.hu</td><td>4200 Hajdúszoboszló Fő út 122.</td><td>1996-08-20</td><td>1367</td><td>bernadett2</td><td>80</td><td>2016-12-17</td><td>2016-12-20</td><td>1</td><td>0</td><td>Kovács Bernadett</td><td>1</td></tr>",
                            "<tr><td>bertalan</td><td>Csiger Bertalan</td><td>bertalan@gmail.com</td><td>1192 Budapest Fő út 169.</td><td>1977-10-15</td><td>974</td><td>bertalan</td><td>169</td><td>2016-06-20</td><td>2016-06-21</td><td>1</td><td>0</td><td>Csiger Bertalan</td><td>1</td></tr>",
                            "<tr><td>brigitta</td><td>Székely Brigitta</td><td>brigitta.székely@mail.hu</td><td>2462 Martonvásár Fő utca 47.</td><td>1978-09-13</td><td>1469</td><td>brigitta</td><td>13</td><td>2017-01-23</td><td>2017-01-25</td><td>1</td><td>0</td><td>Székely Brigitta</td><td>1</td></tr>",
                            "<tr><td>dani</td><td>Vörös Dániel</td><td>daniel@gmail.com</td><td>7150 Bonyhád Dózsa György u. 1.</td><td>1986-10-14</td><td>1466</td><td>dani</td><td>57</td><td>2017-01-22</td><td>2017-01-29</td><td>1</td><td>0</td><td>Vörös Dániel</td><td>1</td></tr>",
                            "<tr><td>dani</td><td>Vörös Dániel</td><td>daniel@gmail.com</td><td>7150 Bonyhád Dózsa György u. 1.</td><td>1986-10-14</td><td>1102</td><td>dani</td><td>108</td><td>2016-10-01</td><td>2016-10-02</td><td>1</td><td>0</td><td>Vörös Dániel</td><td>1</td></tr>",
                            "<tr><td>daniel</td><td>Rácz Dániel</td><td>dániel.rácz@mail.hu</td><td>9181 Kimle Szabadság tér 9.</td><td>1978-11-28</td><td>1430</td><td>daniel</td><td>12</td><td>2017-01-09</td><td>2017-01-11</td><td>1</td><td>0</td><td>Rácz Dániel</td><td>1</td></tr>",
                            "<tr><td>david</td><td>Ambrus Dávid</td><td>david@gmail.com</td><td>1149 Budapest Fő út 18.</td><td>1974-02-11</td><td>757</td><td>david</td><td>88</td><td>2016-08-05</td><td>2016-08-12</td><td>1</td><td>0</td><td>Ambrus Dávid</td><td>1</td></tr>",
                            "<tr><td>emese</td><td>Kuruc Emese</td><td>emese.kuruc@mail.hu</td><td>6700 Szeged Rákóczi utca 67.</td><td>1989-08-10</td><td>1250</td><td>emese</td><td>107</td><td>2016-11-05</td><td>2016-11-09</td><td>1</td><td>0</td><td>Kuruc Emese</td><td>1</td></tr>",
                            "<tr><td>eszter2</td><td>Balogh Eszter</td><td>eszter.balogh@mail.hu</td><td>6760 Kistelek Kossuth utca 11.</td><td>1998-01-31</td><td>1187</td><td>eszter2</td><td>46</td><td>2016-10-23</td><td>2016-10-30</td><td>1</td><td>0</td><td>Balogh Eszter</td><td>1</td></tr>",
                            "<tr><td>eszter2</td><td>Balogh Eszter</td><td>eszter.balogh@mail.hu</td><td>6760 Kistelek Kossuth utca 11.</td><td>1998-01-31</td><td>1171</td><td>eszter2</td><td>172</td><td>2016-10-20</td><td>2016-10-25</td><td>1</td><td>0</td><td>Balogh Eszter</td><td>1</td></tr>",
                            "<tr><td>eszter2</td><td>Balogh Eszter</td><td>eszter.balogh@mail.hu</td><td>6760 Kistelek Kossuth utca 11.</td><td>1998-01-31</td><td>1109</td><td>eszter2</td><td>110</td><td>2016-10-01</td><td>2016-10-06</td><td>1</td><td>0</td><td>Balogh Eszter</td><td>1</td></tr>",
                            "<tr><td>eszter2</td><td>Balogh Eszter</td><td>eszter.balogh@mail.hu</td><td>6760 Kistelek Kossuth utca 11.</td><td>1998-01-31</td><td>1017</td><td>eszter2</td><td>190</td><td>2016-07-08</td><td>2016-07-09</td><td>1</td><td>0</td><td>Balogh Eszter</td><td>1</td></tr>",
                            "<tr><td>eszter2</td><td>Balogh Eszter</td><td>eszter.balogh@mail.hu</td><td>6760 Kistelek Kossuth utca 11.</td><td>1998-01-31</td><td>1480</td><td>eszter2</td><td>35</td><td>2016-12-29</td><td>2017-02-04</td><td>1</td><td>0</td><td>Balogh Eszter</td><td>1</td></tr>",
                            "<tr><td>eszter2</td><td>Balogh Eszter</td><td>eszter.balogh@mail.hu</td><td>6760 Kistelek Kossuth utca 11.</td><td>1998-01-31</td><td>1336</td><td>eszter2</td><td>172</td><td>2016-12-02</td><td>2016-12-07</td><td>1</td><td>0</td><td>Balogh Eszter</td><td>1</td></tr>",
                            "<tr><td>eva2</td><td>Perlinger Éva</td><td>eva2@gmail.com</td><td>9653 Répcelak Bécsi utca 82.</td><td>1971-08-19</td><td>845</td><td>eva2</td><td>63</td><td>2016-09-02</td><td>2016-09-03</td><td>1</td><td>0</td><td>Perlinger Éva</td><td>1</td></tr>",
                            "<tr><td>fruzsina4</td><td>Frank Fruzsina</td><td>fruzsina4@gmail.com</td><td>9700 Szombathely Szabadság utca 95.</td><td>1996-08-16</td><td>1366</td><td>fruzsina4</td><td>81</td><td>2016-12-16</td><td>2016-12-21</td><td>1</td><td>0</td><td>Frank Fruzsina</td><td>1</td></tr>",
                            "<tr><td>gabor1</td><td>Köves Gábor</td><td>gabor1@gmail.com</td><td>6762 Sándorfalva Árpád utca 23.</td><td>1973-07-15</td><td>1026</td><td>gabor1</td><td>119</td><td>2016-07-12</td><td>2016-07-15</td><td>1</td><td>0</td><td>Köves Gábor</td><td>1</td></tr>",
                            "<tr><td>gabor1</td><td>Köves Gábor</td><td>gabor1@gmail.com</td><td>6762 Sándorfalva Árpád utca 23.</td><td>1973-07-15</td><td>1169</td><td>gabor1</td><td>93</td><td>2016-10-20</td><td>2016-10-24</td><td>1</td><td>0</td><td>Köves Gábor</td><td>1</td></tr>",
                            "<tr><td>gabor4</td><td>Telek Gábor</td><td>gábor.telek@mail.hu</td><td>9071 Görbeháza Fő út 169.</td><td>1987-03-15</td><td>878</td><td>gabor4</td><td>83</td><td>2016-05-30</td><td>2016-06-05</td><td>1</td><td>0</td><td>Telek Gábor</td><td>1</td></tr>",
                            "<tr><td>GYONGYIK</td><td>Kornseé Gyöngyi</td><td>gyöngyi.kornseé@mail.hu</td><td>8800 Nagykanizsa Fő út 60.</td><td>1974-06-07</td><td>945</td><td>GYONGYIK</td><td>23</td><td>2016-06-10</td><td>2016-06-17</td><td>1</td><td>0</td><td>Kornseé Gyöngyi</td><td>1</td></tr>",
                            "<tr><td>GYORGYO</td><td>Oroszi György</td><td>GYORGYO@gmail.com</td><td>7220 Sarkad Dózsa György u. 1.</td><td>1980-03-23</td><td>1213</td><td>GYORGYO</td><td>91</td><td>2016-10-28</td><td>2016-10-31</td><td>1</td><td>0</td><td>Oroszi György</td><td>1</td></tr>",
                            "<tr><td>henrik3</td><td>Nádudvari Henrik</td><td>henrik.nádudvari@mail.hu</td><td>1077 Budapest Tanácsköztársaság tér 1.</td><td>1986-12-05</td><td>818</td><td>henrik3</td><td>8</td><td>2016-08-24</td><td>2016-08-28</td><td>1</td><td>0</td><td>Nádudvari Henrik</td><td>1</td></tr>",
                            "<tr><td>istvan1</td><td>Vizi István</td><td>istván.vizi@mail.hu</td><td>7086 Ozora Rákóczi utca 1.</td><td>1997-12-01</td><td>689</td><td>istvan1</td><td>102</td><td>2016-07-19</td><td>2016-07-24</td><td>1</td><td>0</td><td>Vizi István</td><td>1</td></tr>",
                            "<tr><td>janos3</td><td>Harangozó János</td><td>janos3@gmail.com</td><td>8700 Marcali Petőfi Sándor tér 1.</td><td>1967-11-02</td><td>904</td><td>janos3</td><td>34</td><td>2016-06-04</td><td>2016-06-06</td><td>1</td><td>0</td><td>Harangozó János</td><td>1</td></tr>",
                            "<tr><td>janos3</td><td>Harangozó János</td><td>janos3@gmail.com</td><td>8700 Marcali Petőfi Sándor tér 1.</td><td>1967-11-02</td><td>1177</td><td>janos3</td><td>150</td><td>2016-10-22</td><td>2016-10-23</td><td>1</td><td>0</td><td>Harangozó János</td><td>1</td></tr>",
                            "<tr><td>JANOSG</td><td>Giliga János</td><td>JANOSG@gmail.com</td><td>3300 Eger Deák Ferenc út 5.</td><td>1975-01-03</td><td>631</td><td>JANOSG</td><td>98</td><td>2016-05-09</td><td>2016-05-15</td><td>1</td><td>0</td><td>Giliga János</td><td>1</td></tr>",
                            "<tr><td>JOZSEFG</td><td>Gyuris József</td><td>józsef.gyuris@mail.hu</td><td>2660 Balassagyarmat Petőfi utca 1/2.</td><td>1975-05-26</td><td>852</td><td>JOZSEFG</td><td>24</td><td>2016-05-23</td><td>2016-05-25</td><td>1</td><td>0</td><td>Gyuris József</td><td>1</td></tr>",
                            "<tr><td>JOZSEFG</td><td>Gyuris József</td><td>józsef.gyuris@mail.hu</td><td>2660 Balassagyarmat Petőfi utca 1/2.</td><td>1975-05-26</td><td>1461</td><td>JOZSEFG</td><td>77</td><td>2017-01-22</td><td>2017-01-26</td><td>1</td><td>0</td><td>Gyuris József</td><td>1</td></tr>",
                            "<tr><td>JUDITH</td><td>Hídasi Judit</td><td>JUDITH@gmail.com</td><td>2100 Gödöllő Fő út 169.</td><td>1997-07-12</td><td>1379</td><td>JUDITH</td><td>83</td><td>2016-12-19</td><td>2016-12-26</td><td>1</td><td>0</td><td>Hídasi Judit</td><td>1</td></tr>",
                            "<tr><td>julia</td><td>Tóth Júlia</td><td>julia@gmail.com</td><td>5310 Kisújszállás Árpád utca 4.</td><td>1993-03-02</td><td>638</td><td>julia</td><td>67</td><td>2016-05-12</td><td>2016-05-17</td><td>1</td><td>0</td><td>Tóth Júlia</td><td>1</td></tr>",
                            "<tr><td>julia4</td><td>Nagy Júlia</td><td>julia4@gmail.com</td><td>7000 Sárbogárd Jászai tér 21.</td><td>1985-08-11</td><td>1258</td><td>julia4</td><td>52</td><td>2016-11-07</td><td>2016-11-12</td><td>1</td><td>0</td><td>Nagy Júlia</td><td>1</td></tr>",
                            "<tr><td>kata</td><td>Gondos Katalin</td><td>katalin.gondos@mail.hu</td><td>8237 Tihany Kossuth Lajos utca 6.</td><td>1968-06-22</td><td>601</td><td>kata</td><td>39</td><td>2016-04-25</td><td>2016-05-01</td><td>1</td><td>0</td><td>Gondos Katalin</td><td>1</td></tr>",
                            "<tr><td>kata</td><td>Gondos Katalin</td><td>katalin.gondos@mail.hu</td><td>8237 Tihany Kossuth Lajos utca 6.</td><td>1968-06-22</td><td>1006</td><td>kata</td><td>70</td><td>2016-07-03</td><td>2016-07-06</td><td>1</td><td>0</td><td>Gondos Katalin</td><td>1</td></tr>",
                            "<tr><td>katalin</td><td>Horváth Katalin</td><td>katalin.horváth@mail.hu</td><td>2424 Előszállás Rákóczi út 200.</td><td>1968-01-01</td><td>1015</td><td>katalin</td><td>174</td><td>2016-07-06</td><td>2016-07-11</td><td>1</td><td>0</td><td>Horváth Katalin</td><td>1</td></tr>",
                            "<tr><td>katalin</td><td>Horváth Katalin</td><td>katalin.horváth@mail.hu</td><td>2424 Előszállás Rákóczi út 200.</td><td>1968-01-01</td><td>661</td><td>katalin</td><td>136</td><td>2016-05-21</td><td>2016-05-26</td><td>1</td><td>0</td><td>Horváth Katalin</td><td>1</td></tr>",
                            "<tr><td>katalin</td><td>Horváth Katalin</td><td>katalin.horváth@mail.hu</td><td>2424 Előszállás Rákóczi út 200.</td><td>1968-01-01</td><td>733</td><td>katalin</td><td>140</td><td>2016-07-28</td><td>2016-07-29</td><td>1</td><td>0</td><td>Horváth Katalin</td><td>1</td></tr>",
                            "<tr><td>katalin</td><td>Horváth Katalin</td><td>katalin.horváth@mail.hu</td><td>2424 Előszállás Rákóczi út 200.</td><td>1968-01-01</td><td>1372</td><td>katalin</td><td>106</td><td>2016-12-17</td><td>2016-12-24</td><td>1</td><td>0</td><td>Horváth Katalin</td><td>1</td></tr>",
                            "<tr><td>katalin4</td><td>Kertész Katalin</td><td>katalin4@gmail.com</td><td>2800 Tatabánya Búvár utca 4.</td><td>1986-04-13</td><td>997</td><td>katalin4</td><td>82</td><td>2016-07-01</td><td>2016-07-07</td><td>1</td><td>0</td><td>Kertész Katalin</td><td>1</td></tr>",
                            "<tr><td>katka</td><td>Kovács Katalin</td><td>katalin.kovács@mail.hu</td><td>8254 Kővágóörs Petőfi utca 22.</td><td>1975-03-31</td><td>954</td><td>katka</td><td>84</td><td>2016-06-13</td><td>2016-06-18</td><td>1</td><td>0</td><td>Kovács Katalin</td><td>1</td></tr>",
                            "<tr><td>krisztian4</td><td>Czérna Krisztián</td><td>krisztián.czérna@mail.hu</td><td>1107 Budapest Dózsa György utca 37.</td><td>1970-08-01</td><td>787</td><td>krisztian4</td><td>50</td><td>2016-08-16</td><td>2016-08-19</td><td>1</td><td>0</td><td>Czérna Krisztián</td><td>1</td></tr>",
                            "<tr><td>krisztian4</td><td>Czérna Krisztián</td><td>krisztián.czérna@mail.hu</td><td>1107 Budapest Dózsa György utca 37.</td><td>1970-08-01</td><td>834</td><td>krisztian4</td><td>149</td><td>2016-08-29</td><td>2016-09-03</td><td>1</td><td>0</td><td>Czérna Krisztián</td><td>1</td></tr>",
                            "<tr><td>krisztian4</td><td>Czérna Krisztián</td><td>krisztián.czérna@mail.hu</td><td>1107 Budapest Dózsa György utca 37.</td><td>1970-08-01</td><td>1422</td><td>krisztian4</td><td>182</td><td>2017-01-06</td><td>2017-01-09</td><td>1</td><td>0</td><td>Czérna Krisztián</td><td>1</td></tr>",
                            "<tr><td>KRISZTIANM</td><td>Mogyródi Krisztián</td><td>KRISZTIANM@gmail.com</td><td>9155 Lébény Jászai tér 21.</td><td>1968-05-27</td><td>1443</td><td>KRISZTIANM</td><td>81</td><td>2017-01-16</td><td>2017-01-23</td><td>1</td><td>0</td><td>Mogyródi Krisztián</td><td>1</td></tr>",
                            "<tr><td>krisztina</td><td>Szedlár Krisztina</td><td>krisztina@gmail.com</td><td>6646 Tömörkény Arany János utca 1.</td><td>1979-05-10</td><td>1306</td><td>krisztina</td><td>133</td><td>2016-11-22</td><td>2016-11-25</td><td>1</td><td>0</td><td>Szedlár Krisztina</td><td>1</td></tr>",
                            "<tr><td>krisztina</td><td>Szedlár Krisztina</td><td>krisztina@gmail.com</td><td>6646 Tömörkény Arany János utca 1.</td><td>1979-05-10</td><td>1048</td><td>krisztina</td><td>95</td><td>2016-09-13</td><td>2016-09-16</td><td>1</td><td>0</td><td>Szedlár Krisztina</td><td>1</td></tr>",
                            "<tr><td>krisztina1</td><td>Bori Krisztina</td><td>krisztina.bori@mail.hu</td><td>2115 Vácszentlászló Fő utca 47.</td><td>1969-10-13</td><td>648</td><td>krisztina1</td><td>157</td><td>2016-05-16</td><td>2016-05-20</td><td>1</td><td>0</td><td>Bori Krisztina</td><td>1</td></tr>",
                            "<tr><td>KRISZTINAG</td><td>Gyárfás Krisztina</td><td>KRISZTINAG@gmail.com</td><td>6762 Sándorfalva Arany János utca 1.</td><td>1987-09-19</td><td>935</td><td>KRISZTINAG</td><td>56</td><td>2016-06-08</td><td>2016-06-12</td><td>1</td><td>0</td><td>Gyárfás Krisztina</td><td>1</td></tr>",
                            "<tr><td>KRISZTINAG</td><td>Gyárfás Krisztina</td><td>KRISZTINAG@gmail.com</td><td>6762 Sándorfalva Arany János utca 1.</td><td>1987-09-19</td><td>854</td><td>KRISZTINAG</td><td>167</td><td>2016-05-24</td><td>2016-05-31</td><td>1</td><td>0</td><td>Gyárfás Krisztina</td><td>1</td></tr>",
                            "<tr><td>lajos</td><td>Kiss Lajos</td><td>lajos.kiss@mail.hu</td><td>1077 Budapest Dob utca 1</td><td>1978-10-31</td><td>1523</td><td>lajos</td><td>11</td><td>2017-02-12</td><td>2017-02-13</td><td>1</td><td>0</td><td>Kiss Lajos</td><td>1</td></tr>",
                            "<tr><td>LASZLOA</td><td>Antal László</td><td>lászló.antal@mail.hu</td><td>2484 Agárd Bécsi utca 82.</td><td>1969-06-29</td><td>923</td><td>LASZLOA</td><td>123</td><td>2016-06-07</td><td>2016-06-11</td><td>1</td><td>0</td><td>Antal László</td><td>1</td></tr>",
                            "<tr><td>LASZLON</td><td>Nagy László</td><td>lászló.nagy@mail.hu</td><td>1173 Budapest Jászai tér 21.</td><td>1969-04-12</td><td>892</td><td>LASZLON</td><td>165</td><td>2016-06-03</td><td>2016-06-06</td><td>1</td><td>0</td><td>Nagy László</td><td>1</td></tr>",
                            "<tr><td>LASZLON</td><td>Nagy László</td><td>lászló.nagy@mail.hu</td><td>1173 Budapest Jászai tér 21.</td><td>1969-04-12</td><td>1329</td><td>LASZLON</td><td>171</td><td>2016-11-29</td><td>2016-12-04</td><td>1</td><td>0</td><td>Nagy László</td><td>1</td></tr>",
                            "<tr><td>LASZLON</td><td>Nagy László</td><td>lászló.nagy@mail.hu</td><td>1173 Budapest Jászai tér 21.</td><td>1969-04-12</td><td>1136</td><td>LASZLON</td><td>30</td><td>2016-10-09</td><td>2016-10-14</td><td>1</td><td>0</td><td>Nagy László</td><td>1</td></tr>",
                            "<tr><td>maria1</td><td>Baráth Mária</td><td>mária.baráth@mail.hu</td><td>1047 Budapest Posta köz 2.</td><td>1995-11-19</td><td>981</td><td>maria1</td><td>171</td><td>2016-06-23</td><td>2016-06-27</td><td>1</td><td>0</td><td>Baráth Mária</td><td>1</td></tr>",
                            "<tr><td>maria1</td><td>Baráth Mária</td><td>mária.baráth@mail.hu</td><td>1047 Budapest Posta köz 2.</td><td>1995-11-19</td><td>652</td><td>maria1</td><td>149</td><td>2016-05-18</td><td>2016-05-19</td><td>1</td><td>0</td><td>Baráth Mária</td><td>1</td></tr>",
                            "<tr><td>maria1</td><td>Baráth Mária</td><td>mária.baráth@mail.hu</td><td>1047 Budapest Posta köz 2.</td><td>1995-11-19</td><td>846</td><td>maria1</td><td>45</td><td>2016-09-02</td><td>2016-09-05</td><td>1</td><td>0</td><td>Baráth Mária</td><td>1</td></tr>",
                            "<tr><td>mark</td><td>Kispál Márk</td><td>márk.kispál@mail.hu</td><td>1086 Budapest Juhászföldi út 1.</td><td>1996-01-23</td><td>1172</td><td>mark</td><td>197</td><td>2016-10-20</td><td>2016-10-27</td><td>1</td><td>0</td><td>Kispál Márk</td><td>1</td></tr>",
                            "<tr><td>marton</td><td>Kalacsi Márton</td><td>marton@gmail.com</td><td>5137 Jászkisér Fő út 169.</td><td>1989-06-24</td><td>620</td><td>marton</td><td>1</td><td>2016-05-05</td><td>2016-05-10</td><td>1</td><td>0</td><td>Kalacsi Márton</td><td>1</td></tr>",
                            "<tr><td>MATYASS</td><td>Szilágyi Mátyás</td><td>mátyás.szilágyi@mail.hu</td><td>9023 Győr Kossuth Lajos utca 6.</td><td>1975-03-22</td><td>891</td><td>MATYASS</td><td>63</td><td>2016-06-02</td><td>2016-06-08</td><td>1</td><td>0</td><td>Szilágyi Mátyás</td><td>1</td></tr>",
                            "<tr><td>MATYASS</td><td>Szilágyi Mátyás</td><td>mátyás.szilágyi@mail.hu</td><td>9023 Győr Kossuth Lajos utca 6.</td><td>1975-03-22</td><td>1190</td><td>MATYASS</td><td>161</td><td>2016-10-24</td><td>2016-10-31</td><td>1</td><td>0</td><td>Szilágyi Mátyás</td><td>1</td></tr>",
                            "<tr><td>MIHALYJ</td><td>Juhász Mihály</td><td>mihály.juhász@mail.hu</td><td>6786 Ruzsa Rákóczi utca 1.</td><td>1979-10-12</td><td>990</td><td>MIHALYJ</td><td>6</td><td>2016-06-27</td><td>2016-07-01</td><td>1</td><td>0</td><td>Juhász Mihály</td><td>1</td></tr>",
                            "<tr><td>MIHALYJ</td><td>Juhász Mihály</td><td>mihály.juhász@mail.hu</td><td>6786 Ruzsa Rákóczi utca 1.</td><td>1979-10-12</td><td>839</td><td>MIHALYJ</td><td>172</td><td>2016-08-29</td><td>2016-09-03</td><td>1</td><td>0</td><td>Juhász Mihály</td><td>1</td></tr>",
                            "<tr><td>miklos2</td><td>Gondos Miklós</td><td>miklos2@gmail.com</td><td>2100 Gödöllő Árpád utca 23.</td><td>1995-10-07</td><td>1134</td><td>miklos2</td><td>126</td><td>2016-10-08</td><td>2016-10-09</td><td>1</td><td>0</td><td>Gondos Miklós</td><td>1</td></tr>",
                            "<tr><td>MONIKAM</td><td>Mohos Mónika</td><td>mónika.mohos@mail.hu</td><td>2241 Sülysáp Baracsi László utca 14.</td><td>1974-10-01</td><td>1450</td><td>MONIKAM</td><td>139</td><td>2017-01-17</td><td>2017-01-24</td><td>1</td><td>0</td><td>Mohos Mónika</td><td>1</td></tr>",
                            "<tr><td>MONIKAM</td><td>Mohos Mónika</td><td>mónika.mohos@mail.hu</td><td>2241 Sülysáp Baracsi László utca 14.</td><td>1974-10-01</td><td>708</td><td>MONIKAM</td><td>106</td><td>2016-07-23</td><td>2016-07-30</td><td>1</td><td>0</td><td>Mohos Mónika</td><td>1</td></tr>",
                            "<tr><td>nikolett3</td><td>Horváth Nikolett</td><td>nikolett3@gmail.com</td><td>1072 Budapest Arany János utca 1.</td><td>1981-09-29</td><td>897</td><td>nikolett3</td><td>165</td><td>2016-06-03</td><td>2016-06-09</td><td>1</td><td>0</td><td>Horváth Nikolett</td><td>1</td></tr>",
                            "<tr><td>nikolett3</td><td>Horváth Nikolett</td><td>nikolett3@gmail.com</td><td>1072 Budapest Arany János utca 1.</td><td>1981-09-29</td><td>976</td><td>nikolett3</td><td>76</td><td>2016-06-22</td><td>2016-06-24</td><td>1</td><td>0</td><td>Horváth Nikolett</td><td>1</td></tr>",
                            "<tr><td>norbert</td><td>Szűcs Norbert</td><td>norbert@gmail.com</td><td>5071 Besenyszög Győri utca 12.</td><td>1969-07-17</td><td>1018</td><td>norbert</td><td>40</td><td>2016-07-08</td><td>2016-07-13</td><td>1</td><td>0</td><td>Szűcs Norbert</td><td>1</td></tr>",
                            "<tr><td>norbert</td><td>Szűcs Norbert</td><td>norbert@gmail.com</td><td>5071 Besenyszög Győri utca 12.</td><td>1969-07-17</td><td>1576</td><td>norbert</td><td>189</td><td>2017-02-26</td><td>2017-03-01</td><td>1</td><td>0</td><td>Szűcs Norbert</td><td>1</td></tr>",
                            "<tr><td>norbert2</td><td>Hegedűs Norbert</td><td>norbert.hegedűs@mail.hu</td><td>2081 Piliscsaba Rendeki utca 21.</td><td>1991-07-17</td><td>782</td><td>norbert2</td><td>163</td><td>2016-08-16</td><td>2016-08-19</td><td>1</td><td>0</td><td>Hegedűs Norbert</td><td>1</td></tr>",
                            "<tr><td>norbert2</td><td>Hegedűs Norbert</td><td>norbert.hegedűs@mail.hu</td><td>2081 Piliscsaba Rendeki utca 21.</td><td>1991-07-17</td><td>587</td><td>norbert2</td><td>123</td><td>2016-04-19</td><td>2016-04-26</td><td>1</td><td>0</td><td>Hegedűs Norbert</td><td>1</td></tr>",
                            "<tr><td>norbert4</td><td>Mile Norbert</td><td>norbert4@gmail.com</td><td>3973 Cigánd Bajcsy-Zsilinszky utca 4.</td><td>1983-06-15</td><td>1541</td><td>norbert4</td><td>155</td><td>2017-02-16</td><td>2017-02-17</td><td>1</td><td>0</td><td>Mile Norbert</td><td>1</td></tr>",
                            "<tr><td>norbert5</td><td>Béres Norbert</td><td>norbert5@gmail.com</td><td>8640 Fonyód Bajcsy-Zsilinszky utca 4.</td><td>1975-07-27</td><td>1252</td><td>norbert5</td><td>7</td><td>2016-11-05</td><td>2016-11-07</td><td>1</td><td>0</td><td>Béres Norbert</td><td>1</td></tr>",
                            "<tr><td>peter3</td><td>Szalai Péter</td><td>peter3@gmail.com</td><td>1155 Budapest Arany János utca 3.</td><td>1983-07-18</td><td>1434</td><td>peter3</td><td>3</td><td>2017-01-12</td><td>2017-01-17</td><td>1</td><td>0</td><td>Szalai Péter</td><td>1</td></tr>",
                            "<tr><td>peter3</td><td>Szalai Péter</td><td>peter3@gmail.com</td><td>1155 Budapest Arany János utca 3.</td><td>1983-07-18</td><td>1396</td><td>peter3</td><td>72</td><td>2016-12-25</td><td>2016-12-28</td><td>1</td><td>0</td><td>Szalai Péter</td><td>1</td></tr>",
                            "<tr><td>PETERB</td><td>Berendi Péter</td><td>péter.berendi@mail.hu</td><td>3980 Sátoraljaújhely Vasút utca 4/10.</td><td>1969-01-01</td><td>562</td><td>PETERB</td><td>7</td><td>2016-04-06</td><td>2016-04-10</td><td>1</td><td>0</td><td>Berendi Péter</td><td>1</td></tr>",
                            "<tr><td>PETERB</td><td>Berendi Péter</td><td>péter.berendi@mail.hu</td><td>3980 Sátoraljaújhely Vasút utca 4/10.</td><td>1969-01-01</td><td>781</td><td>PETERB</td><td>166</td><td>2016-08-16</td><td>2016-08-23</td><td>1</td><td>0</td><td>Berendi Péter</td><td>1</td></tr>",
                            "<tr><td>RENATAK</td><td>Kardos Renáta</td><td>renáta.kardos@mail.hu</td><td>7086 Ozora Bécsi utca 82.</td><td>1988-05-17</td><td>1312</td><td>RENATAK</td><td>94</td><td>2016-11-23</td><td>2016-11-26</td><td>1</td><td>0</td><td>Kardos Renáta</td><td>1</td></tr>",
                            "<tr><td>RENATAK</td><td>Kardos Renáta</td><td>renáta.kardos@mail.hu</td><td>7086 Ozora Bécsi utca 82.</td><td>1988-05-17</td><td>1224</td><td>RENATAK</td><td>50</td><td>2016-10-30</td><td>2016-10-31</td><td>1</td><td>0</td><td>Kardos Renáta</td><td>1</td></tr>",
                            "<tr><td>RENATAK</td><td>Kardos Renáta</td><td>renáta.kardos@mail.hu</td><td>7086 Ozora Bécsi utca 82.</td><td>1988-05-17</td><td>1543</td><td>RENATAK</td><td>95</td><td>2017-02-16</td><td>2017-02-23</td><td>1</td><td>0</td><td>Kardos Renáta</td><td>1</td></tr>",
                            "<tr><td>RENATAK</td><td>Kardos Renáta</td><td>renáta.kardos@mail.hu</td><td>7086 Ozora Bécsi utca 82.</td><td>1988-05-17</td><td>1581</td><td>RENATAK</td><td>48</td><td>2017-03-01</td><td>2017-03-06</td><td>1</td><td>0</td><td>Kardos Renáta</td><td>1</td></tr>",
                            "<tr><td>RENATAS</td><td>Szirmai Renáta</td><td>RENATAS@gmail.com</td><td>2053 Herceghalom Kossuth utca 27.</td><td>1991-03-26</td><td>1529</td><td>RENATAS</td><td>35</td><td>2017-02-13</td><td>2017-02-17</td><td>1</td><td>0</td><td>Szirmai Renáta</td><td>1</td></tr>",
                            "<tr><td>robert2</td><td>Patay Róbert</td><td>robert2@gmail.com</td><td>2370 Dabas Rákóczi utca 21.</td><td>1977-01-08</td><td>1374</td><td>robert2</td><td>118</td><td>2016-12-17</td><td>2016-12-22</td><td>1</td><td>0</td><td>Patay Róbert</td><td>1</td></tr>",
                            "<tr><td>ROBERTI</td><td>Iván Róbert</td><td>róbert.iván@mail.hu</td><td>2377 Örkény Petőfi Sándor utca 3.</td><td>1967-07-02</td><td>1186</td><td>ROBERTI</td><td>58</td><td>2016-10-23</td><td>2016-10-29</td><td>1</td><td>0</td><td>Iván Róbert</td><td>1</td></tr>",
                            "<tr><td>roland1</td><td>Ferencz Roland</td><td>roland.ferencz@mail.hu</td><td>2424 Előszállás Fő út 169.</td><td>1985-12-31</td><td>1384</td><td>roland1</td><td>84</td><td>2016-12-22</td><td>2016-12-29</td><td>1</td><td>0</td><td>Ferencz Roland</td><td>1</td></tr>",
                            "<tr><td>sandor3</td><td>Farkas Sándor</td><td>sándor.farkas@mail.hu</td><td>8640 Fonyód Tanácsköztársaság tér 1.</td><td>1989-01-27</td><td>858</td><td>sandor3</td><td>121</td><td>2016-05-25</td><td>2016-05-30</td><td>1</td><td>0</td><td>Farkas Sándor</td><td>1</td></tr>",
                            "<tr><td>sandor4</td><td>Nagy Sándor</td><td>sandor4@gmail.com</td><td>4600 Kisvárda Fő utca 47.</td><td>1997-06-11</td><td>1339</td><td>sandor4</td><td>120</td><td>2016-12-03</td><td>2016-12-09</td><td>1</td><td>0</td><td>Nagy Sándor</td><td>1</td></tr>",
                            "<tr><td>sandor4</td><td>Nagy Sándor</td><td>sandor4@gmail.com</td><td>4600 Kisvárda Fő utca 47.</td><td>1997-06-11</td><td>1156</td><td>sandor4</td><td>140</td><td>2016-10-15</td><td>2016-10-18</td><td>1</td><td>0</td><td>Nagy Sándor</td><td>1</td></tr>",
                            "<tr><td>sara</td><td>Farkas Sára</td><td>sára.farkas@mail.hu</td><td>5940 Tótkomlós Felszabadulás utca 32.</td><td>1973-04-05</td><td>1351</td><td>sara</td><td>38</td><td>2016-12-06</td><td>2016-12-10</td><td>1</td><td>0</td><td>Farkas Sára</td><td>1</td></tr>",
                            "<tr><td>SZILARDS</td><td>Szalai Szilárd</td><td>szilárd.szalai@mail.hu</td><td>1077 Budapest Fő út 18.</td><td>1967-09-28</td><td>1508</td><td>SZILARDS</td><td>191</td><td>2017-02-08</td><td>2017-02-15</td><td>1</td><td>0</td><td>Szalai Szilárd</td><td>1</td></tr>",
                            "<tr><td>TAMASF</td><td>Fényes Tamás</td><td>TAMASF@gmail.com</td><td>9023 Győr Arany János utca 1.</td><td>1997-11-06</td><td>1338</td><td>TAMASF</td><td>145</td><td>2016-12-02</td><td>2016-12-04</td><td>1</td><td>0</td><td>Fényes Tamás</td><td>1</td></tr>",
                            "<tr><td>tibor</td><td>Gombos Tibor</td><td>tibor.gombos@mail.hu</td><td>7100 Szekszárd Kossuth utca 77.</td><td>1993-11-28</td><td>1251</td><td>tibor</td><td>184</td><td>2016-11-05</td><td>2016-11-09</td><td>1</td><td>0</td><td>Gombos Tibor</td><td>1</td></tr>",
                            "<tr><td>tihamer</td><td>Kazy Tihamér</td><td>tihamér.kazy@mail.hu</td><td>2370 Dabas Fő utca 60.</td><td>1991-07-05</td><td>881</td><td>tihamer</td><td>131</td><td>2016-05-30</td><td>2016-06-05</td><td>1</td><td>0</td><td>Kazy Tihamér</td><td>1</td></tr>",
                            "<tr><td>tunde</td><td>Turcsik Tünde</td><td>tunde@gmail.com</td><td>7130 Tolna Fő út 122.</td><td>1974-02-12</td><td>669</td><td>tunde</td><td>173</td><td>2016-07-14</td><td>2016-07-21</td><td>1</td><td>0</td><td>Turcsik Tünde</td><td>1</td></tr>",
                            "<tr><td>valentin</td><td>Feró Valentin</td><td>valentin.feró@mail.hu</td><td>3895 Gönc Búvár utca 4.</td><td>1986-01-09</td><td>709</td><td>valentin</td><td>172</td><td>2016-07-24</td><td>2016-07-29</td><td>1</td><td>0</td><td>Feró Valentin</td><td>1</td></tr>",
                            "<tr><td>veronika4</td><td>Tankó Veronika</td><td>veronika4@gmail.com</td><td>6412 Balotaszállás Rendeki utca 21.</td><td>1983-08-28</td><td>790</td><td>veronika4</td><td>10</td><td>2016-08-16</td><td>2016-08-21</td><td>1</td><td>0</td><td>Tankó Veronika</td><td>1</td></tr>",
                            "<tr><td>VIKTORIAU</td><td>Urbán Viktoria</td><td>viktoria.urbán@mail.hu</td><td>3860 Encs Népboltsor  2.</td><td>1996-05-03</td><td>610</td><td>VIKTORIAU</td><td>106</td><td>2016-04-30</td><td>2016-05-03</td><td>1</td><td>0</td><td>Urbán Viktoria</td><td>1</td></tr>",
                            "<tr><td>vivien3</td><td>Boros Vivien</td><td>vivien3@gmail.com</td><td>2117 Isaszeg Fő út 122.</td><td>1991-07-01</td><td>1103</td><td>vivien3</td><td>87</td><td>2016-10-01</td><td>2016-10-04</td><td>1</td><td>0</td><td>Boros Vivien</td><td>1</td></tr>",
                            "<tr><td>zoltan4</td><td>Barna Zoltán</td><td>zoltan4@gmail.com</td><td>8313 Balatongyörök Jászai tér 21.</td><td>1986-05-20</td><td>1230</td><td>zoltan4</td><td>182</td><td>2016-10-30</td><td>2016-11-06</td><td>1</td><td>0</td><td>Barna Zoltán</td><td>1</td></tr>",
                            "<tr><td>zoltan4</td><td>Barna Zoltán</td><td>zoltan4@gmail.com</td><td>8313 Balatongyörök Jászai tér 21.</td><td>1986-05-20</td><td>1403</td><td>zoltan4</td><td>124</td><td>2016-12-29</td><td>2017-01-04</td><td>1</td><td>0</td><td>Barna Zoltán</td><td>1</td></tr>",
                            "<tr><td>zoltan4</td><td>Barna Zoltán</td><td>zoltan4@gmail.com</td><td>8313 Balatongyörök Jászai tér 21.</td><td>1986-05-20</td><td>779</td><td>zoltan4</td><td>130</td><td>2016-08-15</td><td>2016-08-21</td><td>1</td><td>0</td><td>Barna Zoltán</td><td>1</td></tr>",
                            "<tr><td>zoltan4</td><td>Barna Zoltán</td><td>zoltan4@gmail.com</td><td>8313 Balatongyörök Jászai tér 21.</td><td>1986-05-20</td><td>893</td><td>zoltan4</td><td>151</td><td>2016-06-03</td><td>2016-06-06</td><td>1</td><td>0</td><td>Barna Zoltán</td><td>1</td></tr>",
                            "<tr><td>ZSOLTJ</td><td>Józsa Zsolt</td><td>ZSOLTJ@gmail.com</td><td>8315 Gyenesdiás Bajcsy-Zsilinszky utca 4.</td><td>1983-09-29</td><td>867</td><td>ZSOLTJ</td><td>175</td><td>2016-05-28</td><td>2016-06-03</td><td>1</td><td>0</td><td>Józsa Zsolt</td><td>1</td></tr>",
                            "<tr><td>zsuzsanna</td><td>Barta Zsuzsanna</td><td>zsuzsanna.barta@mail.hu</td><td>4172 Biharnagybajom Dózsa György utca 37.</td><td>1994-10-07</td><td>1428</td><td>zsuzsanna</td><td>126</td><td>2017-01-09</td><td>2017-01-16</td><td>1</td><td>0</td><td>Barta Zsuzsanna</td><td>1</td></tr>",
                            "<tr><td>ZSUZSAV</td><td>Vajda Zsuzsa</td><td>zsuzsa.vajda@mail.hu</td><td>6786 Ruzsa Kossuth utca 77.</td><td>1976-12-11</td><td>1202</td><td>ZSUZSAV</td><td>52</td><td>2016-10-26</td><td>2016-10-28</td><td>1</td><td>0</td><td>Vajda Zsuzsa</td><td>1</td></tr>",
                            "</table>"
                        ]
                    }
                }
            ],
            "execution_count": 20
        }
    ]
}