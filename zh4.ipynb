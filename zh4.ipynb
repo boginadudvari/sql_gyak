{
    "metadata": {
        "kernelspec": {
            "name": "SQL",
            "display_name": "SQL",
            "language": "sql"
        },
        "language_info": {
            "name": "sql",
            "version": ""
        }
    },
    "nbformat_minor": 2,
    "nbformat": 4,
    "cells": [
        {
            "cell_type": "markdown",
            "source": [
                "Listázzuk azon vendégek nevét, email-címét és felhasználói nevét, akik egynél többször foglaltak!\n",
                "\n",
                "- Hagyjuk ki azokat a vendégeket, akik május hónapban születtek!"
            ],
            "metadata": {
                "azdata_cell_guid": "c8fbfebf-e37b-4303-8310-16677d8d3e87"
            },
            "attachments": {}
        },
        {
            "cell_type": "code",
            "source": [
                "SELECT v.nev, v.email, v.USERNEV\r\n",
                "FROM vendeg v\r\n",
                "INNER JOIN (\r\n",
                "    SELECT UGYFEL_FK\r\n",
                "    FROM foglalas\r\n",
                "    GROUP BY UGYFEL_FK\r\n",
                "    HAVING COUNT(*) > 1\r\n",
                ") AS tobb ON v.USERNEV = tobb.UGYFEL_FK\r\n",
                "WHERE MONTH(v.SZUL_DAT) != 5;"
            ],
            "metadata": {
                "azdata_cell_guid": "9588da57-b69a-4328-9594-a3e8f5c0ae37",
                "language": "sql"
            },
            "outputs": [
                {
                    "output_type": "display_data",
                    "data": {
                        "text/html": "(169 rows affected)"
                    },
                    "metadata": {}
                },
                {
                    "output_type": "display_data",
                    "data": {
                        "text/html": "Total execution time: 00:00:00.040"
                    },
                    "metadata": {}
                },
                {
                    "output_type": "execute_result",
                    "execution_count": 27,
                    "data": {
                        "application/vnd.dataresource+json": {
                            "schema": {
                                "fields": [
                                    {
                                        "name": "nev"
                                    },
                                    {
                                        "name": "email"
                                    },
                                    {
                                        "name": "USERNEV"
                                    }
                                ]
                            },
                            "data": [
                                {
                                    "nev": "Kiss Ádám",
                                    "email": "ádám.kiss@mail.hu",
                                    "USERNEV": "adam1"
                                },
                                {
                                    "nev": "Barkóci Ádám",
                                    "email": "adam3@gmail.com",
                                    "USERNEV": "adam3"
                                },
                                {
                                    "nev": "Bieniek Ádám",
                                    "email": "ádám.bieniek@mail.hu",
                                    "USERNEV": "adam4"
                                },
                                {
                                    "nev": "Lengyel Ágnes",
                                    "email": "agnes@gmail.com",
                                    "USERNEV": "agnes"
                                },
                                {
                                    "nev": "Hartyánszky Ágnes",
                                    "email": "agnes3@gmail.com",
                                    "USERNEV": "agnes3"
                                },
                                {
                                    "nev": "Horváth Ágnes",
                                    "email": "AGNESH@gmail.com",
                                    "USERNEV": "AGNESH"
                                },
                                {
                                    "nev": "Kovács Ágnes",
                                    "email": "AGNESK@gmail.com",
                                    "USERNEV": "AGNESK"
                                },
                                {
                                    "nev": "Bíró Ákos",
                                    "email": "ákos.bíró@mail.hu",
                                    "USERNEV": "akos"
                                },
                                {
                                    "nev": "Dunai Aladár",
                                    "email": "aladár.dunai@mail.hu",
                                    "USERNEV": "aladar"
                                },
                                {
                                    "nev": "Bagóczki Alexandra",
                                    "email": "alexandra.bagóczki@mail.hu",
                                    "USERNEV": "alexandra"
                                },
                                {
                                    "nev": "Tóth András",
                                    "email": "andrás.tóth@mail.hu",
                                    "USERNEV": "andras2"
                                },
                                {
                                    "nev": "Molnár András",
                                    "email": "andrás.molnár@mail.hu",
                                    "USERNEV": "andras21"
                                },
                                {
                                    "nev": "Vígh András",
                                    "email": "andrás.vígh@mail.hu",
                                    "USERNEV": "andras3"
                                },
                                {
                                    "nev": "Back András",
                                    "email": "andras4@gmail.com",
                                    "USERNEV": "andras4"
                                },
                                {
                                    "nev": "Komjáti András",
                                    "email": "andras41@gmail.com",
                                    "USERNEV": "andras41"
                                },
                                {
                                    "nev": "Kiss Andrea",
                                    "email": "andrea.kiss@mail.hu",
                                    "USERNEV": "andrea"
                                },
                                {
                                    "nev": "Tornyos Andrea",
                                    "email": "ANDREAT@gmail.com",
                                    "USERNEV": "ANDREAT"
                                },
                                {
                                    "nev": "Pivarcsi Anett",
                                    "email": "anett.pivarcsi@mail.hu",
                                    "USERNEV": "anett3"
                                },
                                {
                                    "nev": "Tóth Anikó",
                                    "email": "aniko@gmail.com",
                                    "USERNEV": "aniko"
                                },
                                {
                                    "nev": "Böröcz Anikó",
                                    "email": "aniko4@gmail.com",
                                    "USERNEV": "aniko4"
                                },
                                {
                                    "nev": "Simon Anikó",
                                    "email": "ANIKOS@gmail.com",
                                    "USERNEV": "ANIKOS"
                                },
                                {
                                    "nev": "Hamvay-Kovács Anita",
                                    "email": "anita.hamvay-kovács@mail.hu",
                                    "USERNEV": "anita"
                                },
                                {
                                    "nev": "Szűcs Annamária",
                                    "email": "annamária.szűcs@mail.hu",
                                    "USERNEV": "annamaria1"
                                },
                                {
                                    "nev": "Regős Annamária",
                                    "email": "ANNAMARIAR@gmail.com",
                                    "USERNEV": "ANNAMARIAR"
                                },
                                {
                                    "nev": "Jakab Áron",
                                    "email": "aron2@gmail.com",
                                    "USERNEV": "aron2"
                                },
                                {
                                    "nev": "Kelemen Áron",
                                    "email": "áron.kelemen@mail.hu",
                                    "USERNEV": "ARONK"
                                },
                                {
                                    "nev": "Ötvös Árpád",
                                    "email": "árpád.ötvös@mail.hu",
                                    "USERNEV": "arpad2"
                                },
                                {
                                    "nev": "Móricz Árpád",
                                    "email": "árpád.móricz@mail.hu",
                                    "USERNEV": "ARPADM"
                                },
                                {
                                    "nev": "Csóti Attila",
                                    "email": "attila@gmail.com",
                                    "USERNEV": "attila"
                                },
                                {
                                    "nev": "Gulyás Attila",
                                    "email": "attila.gulyás@mail.hu",
                                    "USERNEV": "attila1"
                                },
                                {
                                    "nev": "Baróti Attila",
                                    "email": "attila.baróti@mail.hu",
                                    "USERNEV": "attila4"
                                },
                                {
                                    "nev": "Bozsik Balázs",
                                    "email": "balázs.bozsik@mail.hu",
                                    "USERNEV": "balazs1"
                                },
                                {
                                    "nev": "Szűcs Balázs",
                                    "email": "balázs.szűcs@mail.hu",
                                    "USERNEV": "balazs2"
                                },
                                {
                                    "nev": "Bakódy Balázs",
                                    "email": "balazs3@gmail.com",
                                    "USERNEV": "balazs3"
                                },
                                {
                                    "nev": "Horváth Bálint",
                                    "email": "balint@gmail.com",
                                    "USERNEV": "balint"
                                },
                                {
                                    "nev": "Molnár Bálint",
                                    "email": "balint1@gmail.com",
                                    "USERNEV": "balint1"
                                },
                                {
                                    "nev": "Vukasinovity Bálint",
                                    "email": "balint2@gmail.com",
                                    "USERNEV": "balint2"
                                },
                                {
                                    "nev": "Endresz Bálint",
                                    "email": "bálint.endresz@mail.hu",
                                    "USERNEV": "balu"
                                },
                                {
                                    "nev": "Bagi Beáta",
                                    "email": "beáta.bagi@mail.hu",
                                    "USERNEV": "beata4"
                                },
                                {
                                    "nev": "Kerényi Beatrix",
                                    "email": "beatrix.kerényi@mail.hu",
                                    "USERNEV": "BEATRIXK"
                                },
                                {
                                    "nev": "Szekendi Beatrix",
                                    "email": "beatrix.szekendi@mail.hu",
                                    "USERNEV": "BEATRIXS"
                                },
                                {
                                    "nev": "Farkas Béla",
                                    "email": "BELAF@gmail.com",
                                    "USERNEV": "BELAF"
                                },
                                {
                                    "nev": "Győrffy Bence",
                                    "email": "bence@gmail.com",
                                    "USERNEV": "bence"
                                },
                                {
                                    "nev": "Bajusz Bence",
                                    "email": "bence.bajusz@mail.hu",
                                    "USERNEV": "BENCEB"
                                },
                                {
                                    "nev": "Simon Bernadett",
                                    "email": "bernadett1@gmail.com",
                                    "USERNEV": "bernadett1"
                                },
                                {
                                    "nev": "Kovács Bernadett",
                                    "email": "bernadett.kovács@mail.hu",
                                    "USERNEV": "bernadett2"
                                },
                                {
                                    "nev": "Orbán Bernadett",
                                    "email": "bernadett.orbán@mail.hu",
                                    "USERNEV": "BERNADETTO"
                                },
                                {
                                    "nev": "Csiger Bertalan",
                                    "email": "bertalan@gmail.com",
                                    "USERNEV": "bertalan"
                                },
                                {
                                    "nev": "Székely Brigitta",
                                    "email": "brigitta.székely@mail.hu",
                                    "USERNEV": "brigitta"
                                },
                                {
                                    "nev": "Nagymihály Csongor",
                                    "email": "csongor.nagymihály@mail.hu",
                                    "USERNEV": "csongor3"
                                },
                                {
                                    "nev": "Vörös Dániel",
                                    "email": "daniel@gmail.com",
                                    "USERNEV": "dani"
                                },
                                {
                                    "nev": "Rácz Dániel",
                                    "email": "dániel.rácz@mail.hu",
                                    "USERNEV": "daniel"
                                },
                                {
                                    "nev": "Keszler Dániel",
                                    "email": "dániel.keszler@mail.hu",
                                    "USERNEV": "daniel1"
                                },
                                {
                                    "nev": "Ambrus Dávid",
                                    "email": "david@gmail.com",
                                    "USERNEV": "david"
                                },
                                {
                                    "nev": "Sobják Dávid",
                                    "email": "david1@gmail.com",
                                    "USERNEV": "david1"
                                },
                                {
                                    "nev": "Barna Debóra",
                                    "email": "debóra.barna@mail.hu",
                                    "USERNEV": "debora"
                                },
                                {
                                    "nev": "Tömböly Dénes",
                                    "email": "denes@gmail.com",
                                    "USERNEV": "denes"
                                },
                                {
                                    "nev": "Bittmann Edit",
                                    "email": "edit.bittmann@mail.hu",
                                    "USERNEV": "edit"
                                },
                                {
                                    "nev": "Kuruc Emese",
                                    "email": "emese.kuruc@mail.hu",
                                    "USERNEV": "emese"
                                },
                                {
                                    "nev": "Balogh Eszter",
                                    "email": "eszter.balogh@mail.hu",
                                    "USERNEV": "eszter2"
                                },
                                {
                                    "nev": "Fülöp Eszter",
                                    "email": "eszter.fülöp@mail.hu",
                                    "USERNEV": "eszter4"
                                },
                                {
                                    "nev": "Érsek Eszter",
                                    "email": "eszter.érsek@mail.hu",
                                    "USERNEV": "ESZTERE"
                                },
                                {
                                    "nev": "Enyedi Éva",
                                    "email": "eva@gmail.com",
                                    "USERNEV": "eva"
                                },
                                {
                                    "nev": "Perlinger Éva",
                                    "email": "eva2@gmail.com",
                                    "USERNEV": "eva2"
                                },
                                {
                                    "nev": "Viktor Éva",
                                    "email": "EVAV@gmail.com",
                                    "USERNEV": "EVAV"
                                },
                                {
                                    "nev": "Orosz Ferenc",
                                    "email": "ferenc.orosz@mail.hu",
                                    "USERNEV": "ferenc1"
                                },
                                {
                                    "nev": "Frank Fruzsina",
                                    "email": "fruzsina4@gmail.com",
                                    "USERNEV": "fruzsina4"
                                },
                                {
                                    "nev": "Köves Gábor",
                                    "email": "gabor1@gmail.com",
                                    "USERNEV": "gabor1"
                                },
                                {
                                    "nev": "Telek Gábor",
                                    "email": "gábor.telek@mail.hu",
                                    "USERNEV": "gabor4"
                                },
                                {
                                    "nev": "Nagy Gabriella",
                                    "email": "gabriella1@gmail.com",
                                    "USERNEV": "gabriella1"
                                },
                                {
                                    "nev": "Nyíri Georgij",
                                    "email": "georgij.nyíri@mail.hu",
                                    "USERNEV": "georgij"
                                },
                                {
                                    "nev": "Bárci Gusztáv",
                                    "email": "gusztav@gmail.com",
                                    "USERNEV": "gusztav"
                                },
                                {
                                    "nev": "Kornseé Gyöngyi",
                                    "email": "gyöngyi.kornseé@mail.hu",
                                    "USERNEV": "GYONGYIK"
                                },
                                {
                                    "nev": "Oroszi György",
                                    "email": "GYORGYO@gmail.com",
                                    "USERNEV": "GYORGYO"
                                },
                                {
                                    "nev": "Nádudvari Henrik",
                                    "email": "henrik.nádudvari@mail.hu",
                                    "USERNEV": "henrik3"
                                },
                                {
                                    "nev": "Andor Ibolya",
                                    "email": "ibolya.andor@mail.hu",
                                    "USERNEV": "IBOLYAA"
                                },
                                {
                                    "nev": "Bosnyák Ilona",
                                    "email": "ilona3@gmail.com",
                                    "USERNEV": "ilona3"
                                },
                                {
                                    "nev": "Búza Imre",
                                    "email": "imre.búza@mail.hu",
                                    "USERNEV": "imre"
                                },
                                {
                                    "nev": "Papp Imre",
                                    "email": "imre.papp@mail.hu",
                                    "USERNEV": "imre1"
                                },
                                {
                                    "nev": "Soós István",
                                    "email": "istvan@gmail.com",
                                    "USERNEV": "istvan"
                                },
                                {
                                    "nev": "Vizi István",
                                    "email": "istván.vizi@mail.hu",
                                    "USERNEV": "istvan1"
                                },
                                {
                                    "nev": "Varga István",
                                    "email": "ISTVANV@gmail.com",
                                    "USERNEV": "ISTVANV"
                                },
                                {
                                    "nev": "Harangozó János",
                                    "email": "janos3@gmail.com",
                                    "USERNEV": "janos3"
                                },
                                {
                                    "nev": "Giliga János",
                                    "email": "JANOSG@gmail.com",
                                    "USERNEV": "JANOSG"
                                },
                                {
                                    "nev": "Pálinkás János",
                                    "email": "JANOSP@gmail.com",
                                    "USERNEV": "JANOSP"
                                },
                                {
                                    "nev": "Gergely József",
                                    "email": "jozsef@gmail.com",
                                    "USERNEV": "jozsef"
                                },
                                {
                                    "nev": "Vajda József",
                                    "email": "józsef.vajda@mail.hu",
                                    "USERNEV": "jozsef2"
                                },
                                {
                                    "nev": "Hídasi Judit",
                                    "email": "JUDITH@gmail.com",
                                    "USERNEV": "JUDITH"
                                },
                                {
                                    "nev": "Tóth Júlia",
                                    "email": "julia@gmail.com",
                                    "USERNEV": "julia"
                                },
                                {
                                    "nev": "Nagy Júlia",
                                    "email": "julia4@gmail.com",
                                    "USERNEV": "julia4"
                                },
                                {
                                    "nev": "Szabó Julianna",
                                    "email": "julianna4@gmail.com",
                                    "USERNEV": "julianna4"
                                },
                                {
                                    "nev": "Gondos Katalin",
                                    "email": "katalin.gondos@mail.hu",
                                    "USERNEV": "kata"
                                },
                                {
                                    "nev": "Horváth Katalin",
                                    "email": "katalin.horváth@mail.hu",
                                    "USERNEV": "katalin"
                                },
                                {
                                    "nev": "Kertész Katalin",
                                    "email": "katalin4@gmail.com",
                                    "USERNEV": "katalin4"
                                },
                                {
                                    "nev": "Kovács Katalin",
                                    "email": "katalin.kovács@mail.hu",
                                    "USERNEV": "katka"
                                },
                                {
                                    "nev": "Bakó Klaudia",
                                    "email": "klaudia.bakó@mail.hu",
                                    "USERNEV": "klaudia2"
                                },
                                {
                                    "nev": "Lukács Kornél",
                                    "email": "kornél.lukács@mail.hu",
                                    "USERNEV": "kornel4"
                                },
                                {
                                    "nev": "Poprádi Kristóf",
                                    "email": "kristof4@gmail.com",
                                    "USERNEV": "kristof4"
                                },
                                {
                                    "nev": "Horváth Krisztina",
                                    "email": "kriszti@gmail.com",
                                    "USERNEV": "kriszti"
                                },
                                {
                                    "nev": "Czérna Krisztián",
                                    "email": "krisztián.czérna@mail.hu",
                                    "USERNEV": "krisztian4"
                                },
                                {
                                    "nev": "Bori Krisztina",
                                    "email": "krisztina.bori@mail.hu",
                                    "USERNEV": "krisztina1"
                                },
                                {
                                    "nev": "Gyárfás Krisztina",
                                    "email": "KRISZTINAG@gmail.com",
                                    "USERNEV": "KRISZTINAG"
                                },
                                {
                                    "nev": "Kiss Lajos",
                                    "email": "lajos.kiss@mail.hu",
                                    "USERNEV": "lajos"
                                },
                                {
                                    "nev": "Nagymihály Lajos",
                                    "email": "lajos.nagymihály@mail.hu",
                                    "USERNEV": "lala"
                                },
                                {
                                    "nev": "Móra László",
                                    "email": "lászló.móra@mail.hu",
                                    "USERNEV": "laszlo2"
                                },
                                {
                                    "nev": "Antal László",
                                    "email": "lászló.antal@mail.hu",
                                    "USERNEV": "LASZLOA"
                                },
                                {
                                    "nev": "Nagy László",
                                    "email": "lászló.nagy@mail.hu",
                                    "USERNEV": "LASZLON"
                                },
                                {
                                    "nev": "Baráth Mária",
                                    "email": "mária.baráth@mail.hu",
                                    "USERNEV": "maria1"
                                },
                                {
                                    "nev": "Kispál Márk",
                                    "email": "márk.kispál@mail.hu",
                                    "USERNEV": "mark"
                                },
                                {
                                    "nev": "Horváth Márk",
                                    "email": "márk.horváth@mail.hu",
                                    "USERNEV": "MARKH"
                                },
                                {
                                    "nev": "Kalacsi Márton",
                                    "email": "marton@gmail.com",
                                    "USERNEV": "marton"
                                },
                                {
                                    "nev": "Koza Máté",
                                    "email": "máté.koza@mail.hu",
                                    "USERNEV": "MATEK"
                                },
                                {
                                    "nev": "Botka Mátyás",
                                    "email": "matyas2@gmail.com",
                                    "USERNEV": "matyas2"
                                },
                                {
                                    "nev": "Szilágyi Mátyás",
                                    "email": "mátyás.szilágyi@mail.hu",
                                    "USERNEV": "MATYASS"
                                },
                                {
                                    "nev": "Juhász Mihály",
                                    "email": "mihály.juhász@mail.hu",
                                    "USERNEV": "MIHALYJ"
                                },
                                {
                                    "nev": "Gondos Miklós",
                                    "email": "miklos2@gmail.com",
                                    "USERNEV": "miklos2"
                                },
                                {
                                    "nev": "Balla Miklós",
                                    "email": "miklós.balla@mail.hu",
                                    "USERNEV": "MIKLOSB"
                                },
                                {
                                    "nev": "Mohos Mónika",
                                    "email": "mónika.mohos@mail.hu",
                                    "USERNEV": "MONIKAM"
                                },
                                {
                                    "nev": "Fő Nándor",
                                    "email": "nándor.fő@mail.hu",
                                    "USERNEV": "NANDORF"
                                },
                                {
                                    "nev": "Horváth Nikolett",
                                    "email": "nikolett3@gmail.com",
                                    "USERNEV": "nikolett3"
                                },
                                {
                                    "nev": "Kő Nikoletta",
                                    "email": "nikoletta4@gmail.com",
                                    "USERNEV": "nikoletta4"
                                },
                                {
                                    "nev": "Tatár Nikoletta",
                                    "email": "nikoletta.tatár@mail.hu",
                                    "USERNEV": "NIKOLETTAT"
                                },
                                {
                                    "nev": "Szűcs Norbert",
                                    "email": "norbert@gmail.com",
                                    "USERNEV": "norbert"
                                },
                                {
                                    "nev": "Hegedűs Norbert",
                                    "email": "norbert.hegedűs@mail.hu",
                                    "USERNEV": "norbert2"
                                },
                                {
                                    "nev": "Mile Norbert",
                                    "email": "norbert4@gmail.com",
                                    "USERNEV": "norbert4"
                                },
                                {
                                    "nev": "Béres Norbert",
                                    "email": "norbert5@gmail.com",
                                    "USERNEV": "norbert5"
                                },
                                {
                                    "nev": "Barabás Pál",
                                    "email": "pál.barabás@mail.hu",
                                    "USERNEV": "pal"
                                },
                                {
                                    "nev": "Kozma Péter",
                                    "email": "peter1@gmail.com",
                                    "USERNEV": "peter1"
                                },
                                {
                                    "nev": "Bozsó Péter",
                                    "email": "peter2@gmail.com",
                                    "USERNEV": "peter2"
                                },
                                {
                                    "nev": "Szalai Péter",
                                    "email": "peter3@gmail.com",
                                    "USERNEV": "peter3"
                                },
                                {
                                    "nev": "Bíró Péter",
                                    "email": "péter.bíró@mail.hu",
                                    "USERNEV": "peter4"
                                },
                                {
                                    "nev": "Berendi Péter",
                                    "email": "péter.berendi@mail.hu",
                                    "USERNEV": "PETERB"
                                },
                                {
                                    "nev": "Palágyi Polla",
                                    "email": "polla@gmail.com",
                                    "USERNEV": "polla"
                                },
                                {
                                    "nev": "Rácz Rajmond",
                                    "email": "rajmond.rácz@mail.hu",
                                    "USERNEV": "rajmond4"
                                },
                                {
                                    "nev": "Szikszai Réka",
                                    "email": "réka.szikszai@mail.hu",
                                    "USERNEV": "reka4"
                                },
                                {
                                    "nev": "Szirmai Renáta",
                                    "email": "RENATAS@gmail.com",
                                    "USERNEV": "RENATAS"
                                },
                                {
                                    "nev": "Patay Róbert",
                                    "email": "robert2@gmail.com",
                                    "USERNEV": "robert2"
                                },
                                {
                                    "nev": "Iván Róbert",
                                    "email": "róbert.iván@mail.hu",
                                    "USERNEV": "ROBERTI"
                                },
                                {
                                    "nev": "Tóth Roland",
                                    "email": "roland@gmail.com",
                                    "USERNEV": "roland"
                                },
                                {
                                    "nev": "Ferencz Roland",
                                    "email": "roland.ferencz@mail.hu",
                                    "USERNEV": "roland1"
                                },
                                {
                                    "nev": "Bucskó Róza",
                                    "email": "roza2@gmail.com",
                                    "USERNEV": "roza2"
                                },
                                {
                                    "nev": "Karasz Sándor",
                                    "email": "sandor@gmail.com",
                                    "USERNEV": "sandor"
                                },
                                {
                                    "nev": "Farkas Sándor",
                                    "email": "sándor.farkas@mail.hu",
                                    "USERNEV": "sandor3"
                                },
                                {
                                    "nev": "Nagy Sándor",
                                    "email": "sandor4@gmail.com",
                                    "USERNEV": "sandor4"
                                },
                                {
                                    "nev": "Farkas Sára",
                                    "email": "sára.farkas@mail.hu",
                                    "USERNEV": "sara"
                                },
                                {
                                    "nev": "Foltényi Sebastián",
                                    "email": "SEBASTIANF@gmail.com",
                                    "USERNEV": "SEBASTIANF"
                                },
                                {
                                    "nev": "Rab Sebestyén",
                                    "email": "sebestyen@gmail.com",
                                    "USERNEV": "sebestyen"
                                },
                                {
                                    "nev": "Miklós Szabolcs",
                                    "email": "szabolcs.miklós@mail.hu",
                                    "USERNEV": "SZABOLCSM"
                                },
                                {
                                    "nev": "Szalai Szilárd",
                                    "email": "szilárd.szalai@mail.hu",
                                    "USERNEV": "SZILARDS"
                                },
                                {
                                    "nev": "Tari Szilvia",
                                    "email": "szilvia.tari@mail.hu",
                                    "USERNEV": "szilvia1"
                                },
                                {
                                    "nev": "Miklós Tamara",
                                    "email": "tamara.miklós@mail.hu",
                                    "USERNEV": "tamara2"
                                },
                                {
                                    "nev": "Antal Tamás",
                                    "email": "tamás.antal@mail.hu",
                                    "USERNEV": "tamas"
                                },
                                {
                                    "nev": "Fényes Tamás",
                                    "email": "TAMASF@gmail.com",
                                    "USERNEV": "TAMASF"
                                },
                                {
                                    "nev": "Gombos Tibor",
                                    "email": "tibor.gombos@mail.hu",
                                    "USERNEV": "tibor"
                                },
                                {
                                    "nev": "Kazy Tihamér",
                                    "email": "tihamér.kazy@mail.hu",
                                    "USERNEV": "tihamer"
                                },
                                {
                                    "nev": "Dusha Tímea",
                                    "email": "tímea.dusha@mail.hu",
                                    "USERNEV": "timea2"
                                },
                                {
                                    "nev": "Turcsik Tünde",
                                    "email": "tunde@gmail.com",
                                    "USERNEV": "tunde"
                                },
                                {
                                    "nev": "Feró Valentin",
                                    "email": "valentin.feró@mail.hu",
                                    "USERNEV": "valentin"
                                },
                                {
                                    "nev": "Tankó Veronika",
                                    "email": "veronika4@gmail.com",
                                    "USERNEV": "veronika4"
                                },
                                {
                                    "nev": "Boros Vivien",
                                    "email": "vivien3@gmail.com",
                                    "USERNEV": "vivien3"
                                },
                                {
                                    "nev": "Fodor Zoltán",
                                    "email": "zoltán.fodor@mail.hu",
                                    "USERNEV": "zoltan"
                                },
                                {
                                    "nev": "Pintér Zoltán",
                                    "email": "zoltán.pintér@mail.hu",
                                    "USERNEV": "ZOLTANP"
                                },
                                {
                                    "nev": "Tóth Zoltán",
                                    "email": "zoltán.tóth@mail.hu",
                                    "USERNEV": "ZOLTANT"
                                },
                                {
                                    "nev": "Molnár Zsófi",
                                    "email": "zsofi1@gmail.com",
                                    "USERNEV": "zsofi1"
                                },
                                {
                                    "nev": "Józsa Zsolt",
                                    "email": "ZSOLTJ@gmail.com",
                                    "USERNEV": "ZSOLTJ"
                                },
                                {
                                    "nev": "Pusztai Zsuzsanna",
                                    "email": "zsuzsanna@gmail.com",
                                    "USERNEV": "zsuzsa"
                                },
                                {
                                    "nev": "Varsányi Zsuzsa",
                                    "email": "zsuzsa.varsányi@mail.hu",
                                    "USERNEV": "zsuzsa3"
                                },
                                {
                                    "nev": "Barta Zsuzsanna",
                                    "email": "zsuzsanna.barta@mail.hu",
                                    "USERNEV": "zsuzsanna"
                                },
                                {
                                    "nev": "Vajda Zsuzsa",
                                    "email": "zsuzsa.vajda@mail.hu",
                                    "USERNEV": "ZSUZSAV"
                                }
                            ]
                        },
                        "text/html": "<table><tr><th>nev</th><th>email</th><th>USERNEV</th></tr><tr><td>Kiss Ádám</td><td>ádám.kiss@mail.hu</td><td>adam1</td></tr><tr><td>Barkóci Ádám</td><td>adam3@gmail.com</td><td>adam3</td></tr><tr><td>Bieniek Ádám</td><td>ádám.bieniek@mail.hu</td><td>adam4</td></tr><tr><td>Lengyel Ágnes</td><td>agnes@gmail.com</td><td>agnes</td></tr><tr><td>Hartyánszky Ágnes</td><td>agnes3@gmail.com</td><td>agnes3</td></tr><tr><td>Horváth Ágnes</td><td>AGNESH@gmail.com</td><td>AGNESH</td></tr><tr><td>Kovács Ágnes</td><td>AGNESK@gmail.com</td><td>AGNESK</td></tr><tr><td>Bíró Ákos</td><td>ákos.bíró@mail.hu</td><td>akos</td></tr><tr><td>Dunai Aladár</td><td>aladár.dunai@mail.hu</td><td>aladar</td></tr><tr><td>Bagóczki Alexandra</td><td>alexandra.bagóczki@mail.hu</td><td>alexandra</td></tr><tr><td>Tóth András</td><td>andrás.tóth@mail.hu</td><td>andras2</td></tr><tr><td>Molnár András</td><td>andrás.molnár@mail.hu</td><td>andras21</td></tr><tr><td>Vígh András</td><td>andrás.vígh@mail.hu</td><td>andras3</td></tr><tr><td>Back András</td><td>andras4@gmail.com</td><td>andras4</td></tr><tr><td>Komjáti András</td><td>andras41@gmail.com</td><td>andras41</td></tr><tr><td>Kiss Andrea</td><td>andrea.kiss@mail.hu</td><td>andrea</td></tr><tr><td>Tornyos Andrea</td><td>ANDREAT@gmail.com</td><td>ANDREAT</td></tr><tr><td>Pivarcsi Anett</td><td>anett.pivarcsi@mail.hu</td><td>anett3</td></tr><tr><td>Tóth Anikó</td><td>aniko@gmail.com</td><td>aniko</td></tr><tr><td>Böröcz Anikó</td><td>aniko4@gmail.com</td><td>aniko4</td></tr><tr><td>Simon Anikó</td><td>ANIKOS@gmail.com</td><td>ANIKOS</td></tr><tr><td>Hamvay-Kovács Anita</td><td>anita.hamvay-kovács@mail.hu</td><td>anita</td></tr><tr><td>Szűcs Annamária</td><td>annamária.szűcs@mail.hu</td><td>annamaria1</td></tr><tr><td>Regős Annamária</td><td>ANNAMARIAR@gmail.com</td><td>ANNAMARIAR</td></tr><tr><td>Jakab Áron</td><td>aron2@gmail.com</td><td>aron2</td></tr><tr><td>Kelemen Áron</td><td>áron.kelemen@mail.hu</td><td>ARONK</td></tr><tr><td>Ötvös Árpád</td><td>árpád.ötvös@mail.hu</td><td>arpad2</td></tr><tr><td>Móricz Árpád</td><td>árpád.móricz@mail.hu</td><td>ARPADM</td></tr><tr><td>Csóti Attila</td><td>attila@gmail.com</td><td>attila</td></tr><tr><td>Gulyás Attila</td><td>attila.gulyás@mail.hu</td><td>attila1</td></tr><tr><td>Baróti Attila</td><td>attila.baróti@mail.hu</td><td>attila4</td></tr><tr><td>Bozsik Balázs</td><td>balázs.bozsik@mail.hu</td><td>balazs1</td></tr><tr><td>Szűcs Balázs</td><td>balázs.szűcs@mail.hu</td><td>balazs2</td></tr><tr><td>Bakódy Balázs</td><td>balazs3@gmail.com</td><td>balazs3</td></tr><tr><td>Horváth Bálint</td><td>balint@gmail.com</td><td>balint</td></tr><tr><td>Molnár Bálint</td><td>balint1@gmail.com</td><td>balint1</td></tr><tr><td>Vukasinovity Bálint</td><td>balint2@gmail.com</td><td>balint2</td></tr><tr><td>Endresz Bálint</td><td>bálint.endresz@mail.hu</td><td>balu</td></tr><tr><td>Bagi Beáta</td><td>beáta.bagi@mail.hu</td><td>beata4</td></tr><tr><td>Kerényi Beatrix</td><td>beatrix.kerényi@mail.hu</td><td>BEATRIXK</td></tr><tr><td>Szekendi Beatrix</td><td>beatrix.szekendi@mail.hu</td><td>BEATRIXS</td></tr><tr><td>Farkas Béla</td><td>BELAF@gmail.com</td><td>BELAF</td></tr><tr><td>Győrffy Bence</td><td>bence@gmail.com</td><td>bence</td></tr><tr><td>Bajusz Bence</td><td>bence.bajusz@mail.hu</td><td>BENCEB</td></tr><tr><td>Simon Bernadett</td><td>bernadett1@gmail.com</td><td>bernadett1</td></tr><tr><td>Kovács Bernadett</td><td>bernadett.kovács@mail.hu</td><td>bernadett2</td></tr><tr><td>Orbán Bernadett</td><td>bernadett.orbán@mail.hu</td><td>BERNADETTO</td></tr><tr><td>Csiger Bertalan</td><td>bertalan@gmail.com</td><td>bertalan</td></tr><tr><td>Székely Brigitta</td><td>brigitta.székely@mail.hu</td><td>brigitta</td></tr><tr><td>Nagymihály Csongor</td><td>csongor.nagymihály@mail.hu</td><td>csongor3</td></tr><tr><td>Vörös Dániel</td><td>daniel@gmail.com</td><td>dani</td></tr><tr><td>Rácz Dániel</td><td>dániel.rácz@mail.hu</td><td>daniel</td></tr><tr><td>Keszler Dániel</td><td>dániel.keszler@mail.hu</td><td>daniel1</td></tr><tr><td>Ambrus Dávid</td><td>david@gmail.com</td><td>david</td></tr><tr><td>Sobják Dávid</td><td>david1@gmail.com</td><td>david1</td></tr><tr><td>Barna Debóra</td><td>debóra.barna@mail.hu</td><td>debora</td></tr><tr><td>Tömböly Dénes</td><td>denes@gmail.com</td><td>denes</td></tr><tr><td>Bittmann Edit</td><td>edit.bittmann@mail.hu</td><td>edit</td></tr><tr><td>Kuruc Emese</td><td>emese.kuruc@mail.hu</td><td>emese</td></tr><tr><td>Balogh Eszter</td><td>eszter.balogh@mail.hu</td><td>eszter2</td></tr><tr><td>Fülöp Eszter</td><td>eszter.fülöp@mail.hu</td><td>eszter4</td></tr><tr><td>Érsek Eszter</td><td>eszter.érsek@mail.hu</td><td>ESZTERE</td></tr><tr><td>Enyedi Éva</td><td>eva@gmail.com</td><td>eva</td></tr><tr><td>Perlinger Éva</td><td>eva2@gmail.com</td><td>eva2</td></tr><tr><td>Viktor Éva</td><td>EVAV@gmail.com</td><td>EVAV</td></tr><tr><td>Orosz Ferenc</td><td>ferenc.orosz@mail.hu</td><td>ferenc1</td></tr><tr><td>Frank Fruzsina</td><td>fruzsina4@gmail.com</td><td>fruzsina4</td></tr><tr><td>Köves Gábor</td><td>gabor1@gmail.com</td><td>gabor1</td></tr><tr><td>Telek Gábor</td><td>gábor.telek@mail.hu</td><td>gabor4</td></tr><tr><td>Nagy Gabriella</td><td>gabriella1@gmail.com</td><td>gabriella1</td></tr><tr><td>Nyíri Georgij</td><td>georgij.nyíri@mail.hu</td><td>georgij</td></tr><tr><td>Bárci Gusztáv</td><td>gusztav@gmail.com</td><td>gusztav</td></tr><tr><td>Kornseé Gyöngyi</td><td>gyöngyi.kornseé@mail.hu</td><td>GYONGYIK</td></tr><tr><td>Oroszi György</td><td>GYORGYO@gmail.com</td><td>GYORGYO</td></tr><tr><td>Nádudvari Henrik</td><td>henrik.nádudvari@mail.hu</td><td>henrik3</td></tr><tr><td>Andor Ibolya</td><td>ibolya.andor@mail.hu</td><td>IBOLYAA</td></tr><tr><td>Bosnyák Ilona</td><td>ilona3@gmail.com</td><td>ilona3</td></tr><tr><td>Búza Imre</td><td>imre.búza@mail.hu</td><td>imre</td></tr><tr><td>Papp Imre</td><td>imre.papp@mail.hu</td><td>imre1</td></tr><tr><td>Soós István</td><td>istvan@gmail.com</td><td>istvan</td></tr><tr><td>Vizi István</td><td>istván.vizi@mail.hu</td><td>istvan1</td></tr><tr><td>Varga István</td><td>ISTVANV@gmail.com</td><td>ISTVANV</td></tr><tr><td>Harangozó János</td><td>janos3@gmail.com</td><td>janos3</td></tr><tr><td>Giliga János</td><td>JANOSG@gmail.com</td><td>JANOSG</td></tr><tr><td>Pálinkás János</td><td>JANOSP@gmail.com</td><td>JANOSP</td></tr><tr><td>Gergely József</td><td>jozsef@gmail.com</td><td>jozsef</td></tr><tr><td>Vajda József</td><td>józsef.vajda@mail.hu</td><td>jozsef2</td></tr><tr><td>Hídasi Judit</td><td>JUDITH@gmail.com</td><td>JUDITH</td></tr><tr><td>Tóth Júlia</td><td>julia@gmail.com</td><td>julia</td></tr><tr><td>Nagy Júlia</td><td>julia4@gmail.com</td><td>julia4</td></tr><tr><td>Szabó Julianna</td><td>julianna4@gmail.com</td><td>julianna4</td></tr><tr><td>Gondos Katalin</td><td>katalin.gondos@mail.hu</td><td>kata</td></tr><tr><td>Horváth Katalin</td><td>katalin.horváth@mail.hu</td><td>katalin</td></tr><tr><td>Kertész Katalin</td><td>katalin4@gmail.com</td><td>katalin4</td></tr><tr><td>Kovács Katalin</td><td>katalin.kovács@mail.hu</td><td>katka</td></tr><tr><td>Bakó Klaudia</td><td>klaudia.bakó@mail.hu</td><td>klaudia2</td></tr><tr><td>Lukács Kornél</td><td>kornél.lukács@mail.hu</td><td>kornel4</td></tr><tr><td>Poprádi Kristóf</td><td>kristof4@gmail.com</td><td>kristof4</td></tr><tr><td>Horváth Krisztina</td><td>kriszti@gmail.com</td><td>kriszti</td></tr><tr><td>Czérna Krisztián</td><td>krisztián.czérna@mail.hu</td><td>krisztian4</td></tr><tr><td>Bori Krisztina</td><td>krisztina.bori@mail.hu</td><td>krisztina1</td></tr><tr><td>Gyárfás Krisztina</td><td>KRISZTINAG@gmail.com</td><td>KRISZTINAG</td></tr><tr><td>Kiss Lajos</td><td>lajos.kiss@mail.hu</td><td>lajos</td></tr><tr><td>Nagymihály Lajos</td><td>lajos.nagymihály@mail.hu</td><td>lala</td></tr><tr><td>Móra László</td><td>lászló.móra@mail.hu</td><td>laszlo2</td></tr><tr><td>Antal László</td><td>lászló.antal@mail.hu</td><td>LASZLOA</td></tr><tr><td>Nagy László</td><td>lászló.nagy@mail.hu</td><td>LASZLON</td></tr><tr><td>Baráth Mária</td><td>mária.baráth@mail.hu</td><td>maria1</td></tr><tr><td>Kispál Márk</td><td>márk.kispál@mail.hu</td><td>mark</td></tr><tr><td>Horváth Márk</td><td>márk.horváth@mail.hu</td><td>MARKH</td></tr><tr><td>Kalacsi Márton</td><td>marton@gmail.com</td><td>marton</td></tr><tr><td>Koza Máté</td><td>máté.koza@mail.hu</td><td>MATEK</td></tr><tr><td>Botka Mátyás</td><td>matyas2@gmail.com</td><td>matyas2</td></tr><tr><td>Szilágyi Mátyás</td><td>mátyás.szilágyi@mail.hu</td><td>MATYASS</td></tr><tr><td>Juhász Mihály</td><td>mihály.juhász@mail.hu</td><td>MIHALYJ</td></tr><tr><td>Gondos Miklós</td><td>miklos2@gmail.com</td><td>miklos2</td></tr><tr><td>Balla Miklós</td><td>miklós.balla@mail.hu</td><td>MIKLOSB</td></tr><tr><td>Mohos Mónika</td><td>mónika.mohos@mail.hu</td><td>MONIKAM</td></tr><tr><td>Fő Nándor</td><td>nándor.fő@mail.hu</td><td>NANDORF</td></tr><tr><td>Horváth Nikolett</td><td>nikolett3@gmail.com</td><td>nikolett3</td></tr><tr><td>Kő Nikoletta</td><td>nikoletta4@gmail.com</td><td>nikoletta4</td></tr><tr><td>Tatár Nikoletta</td><td>nikoletta.tatár@mail.hu</td><td>NIKOLETTAT</td></tr><tr><td>Szűcs Norbert</td><td>norbert@gmail.com</td><td>norbert</td></tr><tr><td>Hegedűs Norbert</td><td>norbert.hegedűs@mail.hu</td><td>norbert2</td></tr><tr><td>Mile Norbert</td><td>norbert4@gmail.com</td><td>norbert4</td></tr><tr><td>Béres Norbert</td><td>norbert5@gmail.com</td><td>norbert5</td></tr><tr><td>Barabás Pál</td><td>pál.barabás@mail.hu</td><td>pal</td></tr><tr><td>Kozma Péter</td><td>peter1@gmail.com</td><td>peter1</td></tr><tr><td>Bozsó Péter</td><td>peter2@gmail.com</td><td>peter2</td></tr><tr><td>Szalai Péter</td><td>peter3@gmail.com</td><td>peter3</td></tr><tr><td>Bíró Péter</td><td>péter.bíró@mail.hu</td><td>peter4</td></tr><tr><td>Berendi Péter</td><td>péter.berendi@mail.hu</td><td>PETERB</td></tr><tr><td>Palágyi Polla</td><td>polla@gmail.com</td><td>polla</td></tr><tr><td>Rácz Rajmond</td><td>rajmond.rácz@mail.hu</td><td>rajmond4</td></tr><tr><td>Szikszai Réka</td><td>réka.szikszai@mail.hu</td><td>reka4</td></tr><tr><td>Szirmai Renáta</td><td>RENATAS@gmail.com</td><td>RENATAS</td></tr><tr><td>Patay Róbert</td><td>robert2@gmail.com</td><td>robert2</td></tr><tr><td>Iván Róbert</td><td>róbert.iván@mail.hu</td><td>ROBERTI</td></tr><tr><td>Tóth Roland</td><td>roland@gmail.com</td><td>roland</td></tr><tr><td>Ferencz Roland</td><td>roland.ferencz@mail.hu</td><td>roland1</td></tr><tr><td>Bucskó Róza</td><td>roza2@gmail.com</td><td>roza2</td></tr><tr><td>Karasz Sándor</td><td>sandor@gmail.com</td><td>sandor</td></tr><tr><td>Farkas Sándor</td><td>sándor.farkas@mail.hu</td><td>sandor3</td></tr><tr><td>Nagy Sándor</td><td>sandor4@gmail.com</td><td>sandor4</td></tr><tr><td>Farkas Sára</td><td>sára.farkas@mail.hu</td><td>sara</td></tr><tr><td>Foltényi Sebastián</td><td>SEBASTIANF@gmail.com</td><td>SEBASTIANF</td></tr><tr><td>Rab Sebestyén</td><td>sebestyen@gmail.com</td><td>sebestyen</td></tr><tr><td>Miklós Szabolcs</td><td>szabolcs.miklós@mail.hu</td><td>SZABOLCSM</td></tr><tr><td>Szalai Szilárd</td><td>szilárd.szalai@mail.hu</td><td>SZILARDS</td></tr><tr><td>Tari Szilvia</td><td>szilvia.tari@mail.hu</td><td>szilvia1</td></tr><tr><td>Miklós Tamara</td><td>tamara.miklós@mail.hu</td><td>tamara2</td></tr><tr><td>Antal Tamás</td><td>tamás.antal@mail.hu</td><td>tamas</td></tr><tr><td>Fényes Tamás</td><td>TAMASF@gmail.com</td><td>TAMASF</td></tr><tr><td>Gombos Tibor</td><td>tibor.gombos@mail.hu</td><td>tibor</td></tr><tr><td>Kazy Tihamér</td><td>tihamér.kazy@mail.hu</td><td>tihamer</td></tr><tr><td>Dusha Tímea</td><td>tímea.dusha@mail.hu</td><td>timea2</td></tr><tr><td>Turcsik Tünde</td><td>tunde@gmail.com</td><td>tunde</td></tr><tr><td>Feró Valentin</td><td>valentin.feró@mail.hu</td><td>valentin</td></tr><tr><td>Tankó Veronika</td><td>veronika4@gmail.com</td><td>veronika4</td></tr><tr><td>Boros Vivien</td><td>vivien3@gmail.com</td><td>vivien3</td></tr><tr><td>Fodor Zoltán</td><td>zoltán.fodor@mail.hu</td><td>zoltan</td></tr><tr><td>Pintér Zoltán</td><td>zoltán.pintér@mail.hu</td><td>ZOLTANP</td></tr><tr><td>Tóth Zoltán</td><td>zoltán.tóth@mail.hu</td><td>ZOLTANT</td></tr><tr><td>Molnár Zsófi</td><td>zsofi1@gmail.com</td><td>zsofi1</td></tr><tr><td>Józsa Zsolt</td><td>ZSOLTJ@gmail.com</td><td>ZSOLTJ</td></tr><tr><td>Pusztai Zsuzsanna</td><td>zsuzsanna@gmail.com</td><td>zsuzsa</td></tr><tr><td>Varsányi Zsuzsa</td><td>zsuzsa.varsányi@mail.hu</td><td>zsuzsa3</td></tr><tr><td>Barta Zsuzsanna</td><td>zsuzsanna.barta@mail.hu</td><td>zsuzsanna</td></tr><tr><td>Vajda Zsuzsa</td><td>zsuzsa.vajda@mail.hu</td><td>ZSUZSAV</td></tr></table>"
                    },
                    "metadata": {}
                }
            ],
            "execution_count": 27
        },
        {
            "cell_type": "markdown",
            "source": [
                "1. Listázzuk azon szálláshelyek azonosítóját és nevét, amelyek a saját helyükön (HELY) a legtöbb csillaggal rendelkeznek!"
            ],
            "metadata": {
                "azdata_cell_guid": "920c6f74-c504-46fe-82b2-d67dfd5400aa"
            },
            "attachments": {}
        },
        {
            "cell_type": "code",
            "source": [
                "SELECT szh.SZALLAS_ID, szh.SZALLAS_NE\r\n",
                "FROM Szallashely szh\r\n",
                "JOIN (\r\n",
                "    SELECT hely, MAX(CSILLAGOK_SZAMA) AS max_csillagok\r\n",
                "    FROM szallashely\r\n",
                "    GROUP BY hely\r\n",
                ") AS max ON szh.HELY = max.hely AND szh.CSILLAGOK_SZAMA = max.max_csillagok;"
            ],
            "metadata": {
                "azdata_cell_guid": "ede63207-5fbf-4dd7-bd6a-e474033d04c8",
                "language": "sql",
                "tags": []
            },
            "outputs": [
                {
                    "output_type": "display_data",
                    "data": {
                        "text/html": "(11 rows affected)"
                    },
                    "metadata": {}
                },
                {
                    "output_type": "display_data",
                    "data": {
                        "text/html": "Total execution time: 00:00:00.008"
                    },
                    "metadata": {}
                },
                {
                    "output_type": "execute_result",
                    "execution_count": 16,
                    "data": {
                        "application/vnd.dataresource+json": {
                            "schema": {
                                "fields": [
                                    {
                                        "name": "SZALLAS_ID"
                                    },
                                    {
                                        "name": "SZALLAS_NEV"
                                    }
                                ]
                            },
                            "data": [
                                {
                                    "SZALLAS_ID": "17",
                                    "SZALLAS_NEV": "Szarvas Hotel"
                                },
                                {
                                    "SZALLAS_ID": "16",
                                    "SZALLAS_NEV": "Bagoly Hotel"
                                },
                                {
                                    "SZALLAS_ID": "3",
                                    "SZALLAS_NEV": "Fortuna Apartman"
                                },
                                {
                                    "SZALLAS_ID": "18",
                                    "SZALLAS_NEV": "Fortuna Apartman"
                                },
                                {
                                    "SZALLAS_ID": "19",
                                    "SZALLAS_NEV": "Nyárfás Vendégház"
                                },
                                {
                                    "SZALLAS_ID": "21",
                                    "SZALLAS_NEV": "Müller Vendégház"
                                },
                                {
                                    "SZALLAS_ID": "13",
                                    "SZALLAS_NEV": "Riviéra Panzió"
                                },
                                {
                                    "SZALLAS_ID": "10",
                                    "SZALLAS_NEV": "Lagúna Hotel"
                                },
                                {
                                    "SZALLAS_ID": "5",
                                    "SZALLAS_NEV": "Fortuna Panzió"
                                },
                                {
                                    "SZALLAS_ID": "11",
                                    "SZALLAS_NEV": "Partiszél Vendégház"
                                },
                                {
                                    "SZALLAS_ID": "8",
                                    "SZALLAS_NEV": "Hotel Három Hattyú"
                                }
                            ]
                        },
                        "text/html": "<table><tr><th>SZALLAS_ID</th><th>SZALLAS_NEV</th></tr><tr><td>17</td><td>Szarvas Hotel</td></tr><tr><td>16</td><td>Bagoly Hotel</td></tr><tr><td>3</td><td>Fortuna Apartman</td></tr><tr><td>18</td><td>Fortuna Apartman</td></tr><tr><td>19</td><td>Nyárfás Vendégház</td></tr><tr><td>21</td><td>Müller Vendégház</td></tr><tr><td>13</td><td>Riviéra Panzió</td></tr><tr><td>10</td><td>Lagúna Hotel</td></tr><tr><td>5</td><td>Fortuna Panzió</td></tr><tr><td>11</td><td>Partiszél Vendégház</td></tr><tr><td>8</td><td>Hotel Három Hattyú</td></tr></table>"
                    },
                    "metadata": {}
                }
            ],
            "execution_count": 16
        },
        {
            "cell_type": "markdown",
            "source": [
                "Jelenítsük meg, hogy az egyes szálláshelyek szobáit esetén a legutolsó 5 foglalás átlagosan hány főre történt!\n",
                "\n",
                "- A számításnál vegyük figyelembe a felnőtteket és a gyermekeket is\n",
                "- A foglalás dátumánál a METTOL mezőt használjuk"
            ],
            "metadata": {
                "azdata_cell_guid": "2288829f-799e-4405-818a-9d0c6fa30c7c"
            },
            "attachments": {}
        },
        {
            "cell_type": "code",
            "source": [
                "SELECT \r\n",
                "    szh.szallas_id,\r\n",
                "    sz.szoba_id,\r\n",
                "    AVG(sor.felnott_gyerek) AS fo\r\n",
                "FROM Foglalas f \r\n",
                "JOIN Szoba sz ON f.szoba_fk = sz.SZOBA_ID\r\n",
                "JOIN Szallashely szh ON sz.SZALLAS_FK = szh.SZALLAS_ID \r\n",
                "JOIN (\r\n",
                "    SELECT \r\n",
                "        szh.SZALLAS_ID,\r\n",
                "        sz.SZOBA_ID,\r\n",
                "        f.FELNOTT_SZAM + f.GYERMEK_SZAM AS felnott_gyerek,\r\n",
                "        ROW_NUMBER() OVER (PARTITION BY szh.SZALLAS_ID, sz.SZOBA_ID ORDER BY f.mettol DESC) AS sorrend\r\n",
                "    FROM Foglalas f \r\n",
                "    JOIN Szoba sz ON f.szoba_fk = sz.SZOBA_ID\r\n",
                "    JOIN Szallashely szh ON sz.SZALLAS_FK = szh.SZALLAS_ID\r\n",
                ") AS sor ON szh.SZALLAS_ID = sor.SZALLAS_ID AND sz.SZOBA_ID = sor.SZOBA_ID\r\n",
                "WHERE sorrend <= 5\r\n",
                "GROUP BY szh.szallas_id, sz.szoba_id;\r\n",
                ""
            ],
            "metadata": {
                "azdata_cell_guid": "8623ce58-2ee1-4f82-9382-015401f827e7",
                "language": "sql"
            },
            "outputs": [
                {
                    "output_type": "display_data",
                    "data": {
                        "text/html": "(197 rows affected)"
                    },
                    "metadata": {}
                },
                {
                    "output_type": "display_data",
                    "data": {
                        "text/html": "Total execution time: 00:00:00.015"
                    },
                    "metadata": {}
                },
                {
                    "output_type": "execute_result",
                    "metadata": {},
                    "execution_count": 5,
                    "data": {
                        "application/vnd.dataresource+json": {
                            "schema": {
                                "fields": [
                                    {
                                        "name": "szallas_id"
                                    },
                                    {
                                        "name": "szoba_id"
                                    },
                                    {
                                        "name": "fo"
                                    }
                                ]
                            },
                            "data": [
                                {
                                    "szallas_id": "3",
                                    "szoba_id": "23",
                                    "fo": "1"
                                },
                                {
                                    "szallas_id": "5",
                                    "szoba_id": "46",
                                    "fo": "2"
                                },
                                {
                                    "szallas_id": "12",
                                    "szoba_id": "192",
                                    "fo": "2"
                                },
                                {
                                    "szallas_id": "6",
                                    "szoba_id": "69",
                                    "fo": "2"
                                },
                                {
                                    "szallas_id": "8",
                                    "szoba_id": "92",
                                    "fo": "3"
                                },
                                {
                                    "szallas_id": "8",
                                    "szoba_id": "115",
                                    "fo": "2"
                                },
                                {
                                    "szallas_id": "10",
                                    "szoba_id": "138",
                                    "fo": "2"
                                },
                                {
                                    "szallas_id": "11",
                                    "szoba_id": "161",
                                    "fo": "2"
                                },
                                {
                                    "szallas_id": "4",
                                    "szoba_id": "29",
                                    "fo": "1"
                                },
                                {
                                    "szallas_id": "12",
                                    "szoba_id": "169",
                                    "fo": "2"
                                },
                                {
                                    "szallas_id": "12",
                                    "szoba_id": "175",
                                    "fo": "1"
                                },
                                {
                                    "szallas_id": "6",
                                    "szoba_id": "75",
                                    "fo": "2"
                                },
                                {
                                    "szallas_id": "9",
                                    "szoba_id": "132",
                                    "fo": "2"
                                },
                                {
                                    "szallas_id": "1",
                                    "szoba_id": "9",
                                    "fo": "3"
                                },
                                {
                                    "szallas_id": "12",
                                    "szoba_id": "181",
                                    "fo": "3"
                                },
                                {
                                    "szallas_id": "2",
                                    "szoba_id": "15",
                                    "fo": "2"
                                },
                                {
                                    "szallas_id": "8",
                                    "szoba_id": "109",
                                    "fo": "2"
                                },
                                {
                                    "szallas_id": "10",
                                    "szoba_id": "158",
                                    "fo": "3"
                                },
                                {
                                    "szallas_id": "7",
                                    "szoba_id": "89",
                                    "fo": "2"
                                },
                                {
                                    "szallas_id": "12",
                                    "szoba_id": "195",
                                    "fo": "1"
                                },
                                {
                                    "szallas_id": "1",
                                    "szoba_id": "3",
                                    "fo": "2"
                                },
                                {
                                    "szallas_id": "10",
                                    "szoba_id": "146",
                                    "fo": "2"
                                },
                                {
                                    "szallas_id": "10",
                                    "szoba_id": "152",
                                    "fo": "2"
                                },
                                {
                                    "szallas_id": "6",
                                    "szoba_id": "52",
                                    "fo": "1"
                                },
                                {
                                    "szallas_id": "8",
                                    "szoba_id": "95",
                                    "fo": "1"
                                },
                                {
                                    "szallas_id": "12",
                                    "szoba_id": "189",
                                    "fo": "2"
                                },
                                {
                                    "szallas_id": "6",
                                    "szoba_id": "72",
                                    "fo": "1"
                                },
                                {
                                    "szallas_id": "8",
                                    "szoba_id": "118",
                                    "fo": "2"
                                },
                                {
                                    "szallas_id": "12",
                                    "szoba_id": "172",
                                    "fo": "1"
                                },
                                {
                                    "szallas_id": "6",
                                    "szoba_id": "78",
                                    "fo": "2"
                                },
                                {
                                    "szallas_id": "6",
                                    "szoba_id": "66",
                                    "fo": "3"
                                },
                                {
                                    "szallas_id": "4",
                                    "szoba_id": "32",
                                    "fo": "2"
                                },
                                {
                                    "szallas_id": "8",
                                    "szoba_id": "126",
                                    "fo": "1"
                                },
                                {
                                    "szallas_id": "4",
                                    "szoba_id": "26",
                                    "fo": "2"
                                },
                                {
                                    "szallas_id": "1",
                                    "szoba_id": "12",
                                    "fo": "2"
                                },
                                {
                                    "szallas_id": "12",
                                    "szoba_id": "178",
                                    "fo": "3"
                                },
                                {
                                    "szallas_id": "4",
                                    "szoba_id": "35",
                                    "fo": "1"
                                },
                                {
                                    "szallas_id": "8",
                                    "szoba_id": "129",
                                    "fo": "2"
                                },
                                {
                                    "szallas_id": "10",
                                    "szoba_id": "155",
                                    "fo": "2"
                                },
                                {
                                    "szallas_id": "8",
                                    "szoba_id": "106",
                                    "fo": "1"
                                },
                                {
                                    "szallas_id": "7",
                                    "szoba_id": "86",
                                    "fo": "2"
                                },
                                {
                                    "szallas_id": "10",
                                    "szoba_id": "135",
                                    "fo": "2"
                                },
                                {
                                    "szallas_id": "6",
                                    "szoba_id": "63",
                                    "fo": "1"
                                },
                                {
                                    "szallas_id": "8",
                                    "szoba_id": "112",
                                    "fo": "3"
                                },
                                {
                                    "szallas_id": "1",
                                    "szoba_id": "6",
                                    "fo": "2"
                                },
                                {
                                    "szallas_id": "5",
                                    "szoba_id": "43",
                                    "fo": "2"
                                },
                                {
                                    "szallas_id": "6",
                                    "szoba_id": "55",
                                    "fo": "3"
                                },
                                {
                                    "szallas_id": "8",
                                    "szoba_id": "98",
                                    "fo": "1"
                                },
                                {
                                    "szallas_id": "5",
                                    "szoba_id": "49",
                                    "fo": "2"
                                },
                                {
                                    "szallas_id": "10",
                                    "szoba_id": "149",
                                    "fo": "1"
                                },
                                {
                                    "szallas_id": "12",
                                    "szoba_id": "198",
                                    "fo": "2"
                                },
                                {
                                    "szallas_id": "12",
                                    "szoba_id": "190",
                                    "fo": "1"
                                },
                                {
                                    "szallas_id": "10",
                                    "szoba_id": "144",
                                    "fo": "3"
                                },
                                {
                                    "szallas_id": "12",
                                    "szoba_id": "167",
                                    "fo": "2"
                                },
                                {
                                    "szallas_id": "12",
                                    "szoba_id": "184",
                                    "fo": "1"
                                },
                                {
                                    "szallas_id": "8",
                                    "szoba_id": "113",
                                    "fo": "4"
                                },
                                {
                                    "szallas_id": "6",
                                    "szoba_id": "67",
                                    "fo": "3"
                                },
                                {
                                    "szallas_id": "3",
                                    "szoba_id": "21",
                                    "fo": "2"
                                },
                                {
                                    "szallas_id": "4",
                                    "szoba_id": "27",
                                    "fo": "3"
                                },
                                {
                                    "szallas_id": "8",
                                    "szoba_id": "127",
                                    "fo": "2"
                                },
                                {
                                    "szallas_id": "8",
                                    "szoba_id": "121",
                                    "fo": "2"
                                },
                                {
                                    "szallas_id": "12",
                                    "szoba_id": "173",
                                    "fo": "1"
                                },
                                {
                                    "szallas_id": "8",
                                    "szoba_id": "107",
                                    "fo": "2"
                                },
                                {
                                    "szallas_id": "10",
                                    "szoba_id": "156",
                                    "fo": "3"
                                },
                                {
                                    "szallas_id": "6",
                                    "szoba_id": "58",
                                    "fo": "2"
                                },
                                {
                                    "szallas_id": "9",
                                    "szoba_id": "130",
                                    "fo": "1"
                                },
                                {
                                    "szallas_id": "6",
                                    "szoba_id": "81",
                                    "fo": "1"
                                },
                                {
                                    "szallas_id": "6",
                                    "szoba_id": "64",
                                    "fo": "2"
                                },
                                {
                                    "szallas_id": "7",
                                    "szoba_id": "87",
                                    "fo": "2"
                                },
                                {
                                    "szallas_id": "4",
                                    "szoba_id": "38",
                                    "fo": "2"
                                },
                                {
                                    "szallas_id": "8",
                                    "szoba_id": "101",
                                    "fo": "2"
                                },
                                {
                                    "szallas_id": "1",
                                    "szoba_id": "7",
                                    "fo": "1"
                                },
                                {
                                    "szallas_id": "5",
                                    "szoba_id": "44",
                                    "fo": "3"
                                },
                                {
                                    "szallas_id": "12",
                                    "szoba_id": "193",
                                    "fo": "4"
                                },
                                {
                                    "szallas_id": "10",
                                    "szoba_id": "150",
                                    "fo": "2"
                                },
                                {
                                    "szallas_id": "1",
                                    "szoba_id": "1",
                                    "fo": "2"
                                },
                                {
                                    "szallas_id": "6",
                                    "szoba_id": "50",
                                    "fo": "1"
                                },
                                {
                                    "szallas_id": "3",
                                    "szoba_id": "24",
                                    "fo": "3"
                                },
                                {
                                    "szallas_id": "5",
                                    "szoba_id": "47",
                                    "fo": "1"
                                },
                                {
                                    "szallas_id": "10",
                                    "szoba_id": "141",
                                    "fo": "2"
                                },
                                {
                                    "szallas_id": "6",
                                    "szoba_id": "70",
                                    "fo": "2"
                                },
                                {
                                    "szallas_id": "8",
                                    "szoba_id": "93",
                                    "fo": "3"
                                },
                                {
                                    "szallas_id": "12",
                                    "szoba_id": "187",
                                    "fo": "2"
                                },
                                {
                                    "szallas_id": "11",
                                    "szoba_id": "164",
                                    "fo": "2"
                                },
                                {
                                    "szallas_id": "4",
                                    "szoba_id": "30",
                                    "fo": "2"
                                },
                                {
                                    "szallas_id": "3",
                                    "szoba_id": "18",
                                    "fo": "3"
                                },
                                {
                                    "szallas_id": "12",
                                    "szoba_id": "170",
                                    "fo": "1"
                                },
                                {
                                    "szallas_id": "12",
                                    "szoba_id": "176",
                                    "fo": "3"
                                },
                                {
                                    "szallas_id": "8",
                                    "szoba_id": "124",
                                    "fo": "2"
                                },
                                {
                                    "szallas_id": "6",
                                    "szoba_id": "84",
                                    "fo": "1"
                                },
                                {
                                    "szallas_id": "10",
                                    "szoba_id": "153",
                                    "fo": "2"
                                },
                                {
                                    "szallas_id": "8",
                                    "szoba_id": "110",
                                    "fo": "1"
                                },
                                {
                                    "szallas_id": "1",
                                    "szoba_id": "10",
                                    "fo": "2"
                                },
                                {
                                    "szallas_id": "9",
                                    "szoba_id": "133",
                                    "fo": "2"
                                },
                                {
                                    "szallas_id": "6",
                                    "szoba_id": "61",
                                    "fo": "2"
                                },
                                {
                                    "szallas_id": "12",
                                    "szoba_id": "196",
                                    "fo": "2"
                                },
                                {
                                    "szallas_id": "7",
                                    "szoba_id": "90",
                                    "fo": "2"
                                },
                                {
                                    "szallas_id": "5",
                                    "szoba_id": "41",
                                    "fo": "3"
                                },
                                {
                                    "szallas_id": "8",
                                    "szoba_id": "104",
                                    "fo": "2"
                                },
                                {
                                    "szallas_id": "1",
                                    "szoba_id": "4",
                                    "fo": "1"
                                },
                                {
                                    "szallas_id": "10",
                                    "szoba_id": "147",
                                    "fo": "2"
                                },
                                {
                                    "szallas_id": "8",
                                    "szoba_id": "119",
                                    "fo": "1"
                                },
                                {
                                    "szallas_id": "8",
                                    "szoba_id": "96",
                                    "fo": "2"
                                },
                                {
                                    "szallas_id": "12",
                                    "szoba_id": "165",
                                    "fo": "1"
                                },
                                {
                                    "szallas_id": "10",
                                    "szoba_id": "142",
                                    "fo": "2"
                                },
                                {
                                    "szallas_id": "12",
                                    "szoba_id": "188",
                                    "fo": "2"
                                },
                                {
                                    "szallas_id": "8",
                                    "szoba_id": "125",
                                    "fo": "3"
                                },
                                {
                                    "szallas_id": "6",
                                    "szoba_id": "65",
                                    "fo": "2"
                                },
                                {
                                    "szallas_id": "6",
                                    "szoba_id": "79",
                                    "fo": "2"
                                },
                                {
                                    "szallas_id": "3",
                                    "szoba_id": "19",
                                    "fo": "2"
                                },
                                {
                                    "szallas_id": "12",
                                    "szoba_id": "171",
                                    "fo": "1"
                                },
                                {
                                    "szallas_id": "6",
                                    "szoba_id": "73",
                                    "fo": "2"
                                },
                                {
                                    "szallas_id": "4",
                                    "szoba_id": "25",
                                    "fo": "3"
                                },
                                {
                                    "szallas_id": "4",
                                    "szoba_id": "36",
                                    "fo": "3"
                                },
                                {
                                    "szallas_id": "8",
                                    "szoba_id": "105",
                                    "fo": "2"
                                },
                                {
                                    "szallas_id": "12",
                                    "szoba_id": "179",
                                    "fo": "3"
                                },
                                {
                                    "szallas_id": "7",
                                    "szoba_id": "85",
                                    "fo": "2"
                                },
                                {
                                    "szallas_id": "10",
                                    "szoba_id": "136",
                                    "fo": "1"
                                },
                                {
                                    "szallas_id": "6",
                                    "szoba_id": "62",
                                    "fo": "1"
                                },
                                {
                                    "szallas_id": "2",
                                    "szoba_id": "13",
                                    "fo": "2"
                                },
                                {
                                    "szallas_id": "5",
                                    "szoba_id": "42",
                                    "fo": "2"
                                },
                                {
                                    "szallas_id": "1",
                                    "szoba_id": "5",
                                    "fo": "1"
                                },
                                {
                                    "szallas_id": "6",
                                    "szoba_id": "56",
                                    "fo": "1"
                                },
                                {
                                    "szallas_id": "8",
                                    "szoba_id": "99",
                                    "fo": "2"
                                },
                                {
                                    "szallas_id": "10",
                                    "szoba_id": "148",
                                    "fo": "1"
                                },
                                {
                                    "szallas_id": "12",
                                    "szoba_id": "168",
                                    "fo": "3"
                                },
                                {
                                    "szallas_id": "12",
                                    "szoba_id": "191",
                                    "fo": "2"
                                },
                                {
                                    "szallas_id": "8",
                                    "szoba_id": "116",
                                    "fo": "2"
                                },
                                {
                                    "szallas_id": "10",
                                    "szoba_id": "139",
                                    "fo": "2"
                                },
                                {
                                    "szallas_id": "11",
                                    "szoba_id": "162",
                                    "fo": "2"
                                },
                                {
                                    "szallas_id": "12",
                                    "szoba_id": "185",
                                    "fo": "3"
                                },
                                {
                                    "szallas_id": "8",
                                    "szoba_id": "128",
                                    "fo": "2"
                                },
                                {
                                    "szallas_id": "8",
                                    "szoba_id": "122",
                                    "fo": "3"
                                },
                                {
                                    "szallas_id": "3",
                                    "szoba_id": "22",
                                    "fo": "3"
                                },
                                {
                                    "szallas_id": "6",
                                    "szoba_id": "76",
                                    "fo": "1"
                                },
                                {
                                    "szallas_id": "6",
                                    "szoba_id": "59",
                                    "fo": "2"
                                },
                                {
                                    "szallas_id": "8",
                                    "szoba_id": "108",
                                    "fo": "1"
                                },
                                {
                                    "szallas_id": "6",
                                    "szoba_id": "82",
                                    "fo": "2"
                                },
                                {
                                    "szallas_id": "4",
                                    "szoba_id": "39",
                                    "fo": "2"
                                },
                                {
                                    "szallas_id": "4",
                                    "szoba_id": "33",
                                    "fo": "2"
                                },
                                {
                                    "szallas_id": "12",
                                    "szoba_id": "182",
                                    "fo": "1"
                                },
                                {
                                    "szallas_id": "2",
                                    "szoba_id": "16",
                                    "fo": "3"
                                },
                                {
                                    "szallas_id": "7",
                                    "szoba_id": "88",
                                    "fo": "2"
                                },
                                {
                                    "szallas_id": "8",
                                    "szoba_id": "102",
                                    "fo": "1"
                                },
                                {
                                    "szallas_id": "6",
                                    "szoba_id": "53",
                                    "fo": "2"
                                },
                                {
                                    "szallas_id": "5",
                                    "szoba_id": "45",
                                    "fo": "1"
                                },
                                {
                                    "szallas_id": "10",
                                    "szoba_id": "145",
                                    "fo": "2"
                                },
                                {
                                    "szallas_id": "1",
                                    "szoba_id": "2",
                                    "fo": "3"
                                },
                                {
                                    "szallas_id": "5",
                                    "szoba_id": "48",
                                    "fo": "2"
                                },
                                {
                                    "szallas_id": "6",
                                    "szoba_id": "71",
                                    "fo": "2"
                                },
                                {
                                    "szallas_id": "8",
                                    "szoba_id": "94",
                                    "fo": "1"
                                },
                                {
                                    "szallas_id": "8",
                                    "szoba_id": "117",
                                    "fo": "3"
                                },
                                {
                                    "szallas_id": "10",
                                    "szoba_id": "140",
                                    "fo": "2"
                                },
                                {
                                    "szallas_id": "11",
                                    "szoba_id": "163",
                                    "fo": "1"
                                },
                                {
                                    "szallas_id": "12",
                                    "szoba_id": "186",
                                    "fo": "3"
                                },
                                {
                                    "szallas_id": "6",
                                    "szoba_id": "77",
                                    "fo": "2"
                                },
                                {
                                    "szallas_id": "3",
                                    "szoba_id": "17",
                                    "fo": "2"
                                },
                                {
                                    "szallas_id": "4",
                                    "szoba_id": "31",
                                    "fo": "4"
                                },
                                {
                                    "szallas_id": "8",
                                    "szoba_id": "123",
                                    "fo": "2"
                                },
                                {
                                    "szallas_id": "6",
                                    "szoba_id": "60",
                                    "fo": "2"
                                },
                                {
                                    "szallas_id": "6",
                                    "szoba_id": "83",
                                    "fo": "2"
                                },
                                {
                                    "szallas_id": "12",
                                    "szoba_id": "177",
                                    "fo": "3"
                                },
                                {
                                    "szallas_id": "10",
                                    "szoba_id": "154",
                                    "fo": "2"
                                },
                                {
                                    "szallas_id": "9",
                                    "szoba_id": "134",
                                    "fo": "2"
                                },
                                {
                                    "szallas_id": "4",
                                    "szoba_id": "34",
                                    "fo": "2"
                                },
                                {
                                    "szallas_id": "5",
                                    "szoba_id": "40",
                                    "fo": "2"
                                },
                                {
                                    "szallas_id": "1",
                                    "szoba_id": "11",
                                    "fo": "2"
                                },
                                {
                                    "szallas_id": "12",
                                    "szoba_id": "183",
                                    "fo": "2"
                                },
                                {
                                    "szallas_id": "8",
                                    "szoba_id": "111",
                                    "fo": "2"
                                },
                                {
                                    "szallas_id": "11",
                                    "szoba_id": "160",
                                    "fo": "3"
                                },
                                {
                                    "szallas_id": "6",
                                    "szoba_id": "54",
                                    "fo": "2"
                                },
                                {
                                    "szallas_id": "8",
                                    "szoba_id": "91",
                                    "fo": "1"
                                },
                                {
                                    "szallas_id": "8",
                                    "szoba_id": "103",
                                    "fo": "2"
                                },
                                {
                                    "szallas_id": "8",
                                    "szoba_id": "97",
                                    "fo": "2"
                                },
                                {
                                    "szallas_id": "12",
                                    "szoba_id": "197",
                                    "fo": "2"
                                },
                                {
                                    "szallas_id": "10",
                                    "szoba_id": "143",
                                    "fo": "3"
                                },
                                {
                                    "szallas_id": "8",
                                    "szoba_id": "120",
                                    "fo": "2"
                                },
                                {
                                    "szallas_id": "12",
                                    "szoba_id": "166",
                                    "fo": "2"
                                },
                                {
                                    "szallas_id": "8",
                                    "szoba_id": "114",
                                    "fo": "2"
                                },
                                {
                                    "szallas_id": "3",
                                    "szoba_id": "20",
                                    "fo": "2"
                                },
                                {
                                    "szallas_id": "6",
                                    "szoba_id": "68",
                                    "fo": "4"
                                },
                                {
                                    "szallas_id": "6",
                                    "szoba_id": "80",
                                    "fo": "2"
                                },
                                {
                                    "szallas_id": "4",
                                    "szoba_id": "28",
                                    "fo": "2"
                                },
                                {
                                    "szallas_id": "12",
                                    "szoba_id": "174",
                                    "fo": "1"
                                },
                                {
                                    "szallas_id": "6",
                                    "szoba_id": "74",
                                    "fo": "3"
                                },
                                {
                                    "szallas_id": "9",
                                    "szoba_id": "131",
                                    "fo": "1"
                                },
                                {
                                    "szallas_id": "12",
                                    "szoba_id": "180",
                                    "fo": "3"
                                },
                                {
                                    "szallas_id": "6",
                                    "szoba_id": "57",
                                    "fo": "1"
                                },
                                {
                                    "szallas_id": "10",
                                    "szoba_id": "157",
                                    "fo": "1"
                                },
                                {
                                    "szallas_id": "2",
                                    "szoba_id": "14",
                                    "fo": "3"
                                },
                                {
                                    "szallas_id": "4",
                                    "szoba_id": "37",
                                    "fo": "1"
                                },
                                {
                                    "szallas_id": "10",
                                    "szoba_id": "137",
                                    "fo": "2"
                                },
                                {
                                    "szallas_id": "1",
                                    "szoba_id": "8",
                                    "fo": "2"
                                },
                                {
                                    "szallas_id": "6",
                                    "szoba_id": "51",
                                    "fo": "2"
                                },
                                {
                                    "szallas_id": "10",
                                    "szoba_id": "151",
                                    "fo": "1"
                                },
                                {
                                    "szallas_id": "12",
                                    "szoba_id": "194",
                                    "fo": "3"
                                },
                                {
                                    "szallas_id": "8",
                                    "szoba_id": "100",
                                    "fo": "2"
                                }
                            ]
                        },
                        "text/html": [
                            "<table>",
                            "<tr><th>szallas_id</th><th>szoba_id</th><th>fo</th></tr>",
                            "<tr><td>3</td><td>23</td><td>1</td></tr>",
                            "<tr><td>5</td><td>46</td><td>2</td></tr>",
                            "<tr><td>12</td><td>192</td><td>2</td></tr>",
                            "<tr><td>6</td><td>69</td><td>2</td></tr>",
                            "<tr><td>8</td><td>92</td><td>3</td></tr>",
                            "<tr><td>8</td><td>115</td><td>2</td></tr>",
                            "<tr><td>10</td><td>138</td><td>2</td></tr>",
                            "<tr><td>11</td><td>161</td><td>2</td></tr>",
                            "<tr><td>4</td><td>29</td><td>1</td></tr>",
                            "<tr><td>12</td><td>169</td><td>2</td></tr>",
                            "<tr><td>12</td><td>175</td><td>1</td></tr>",
                            "<tr><td>6</td><td>75</td><td>2</td></tr>",
                            "<tr><td>9</td><td>132</td><td>2</td></tr>",
                            "<tr><td>1</td><td>9</td><td>3</td></tr>",
                            "<tr><td>12</td><td>181</td><td>3</td></tr>",
                            "<tr><td>2</td><td>15</td><td>2</td></tr>",
                            "<tr><td>8</td><td>109</td><td>2</td></tr>",
                            "<tr><td>10</td><td>158</td><td>3</td></tr>",
                            "<tr><td>7</td><td>89</td><td>2</td></tr>",
                            "<tr><td>12</td><td>195</td><td>1</td></tr>",
                            "<tr><td>1</td><td>3</td><td>2</td></tr>",
                            "<tr><td>10</td><td>146</td><td>2</td></tr>",
                            "<tr><td>10</td><td>152</td><td>2</td></tr>",
                            "<tr><td>6</td><td>52</td><td>1</td></tr>",
                            "<tr><td>8</td><td>95</td><td>1</td></tr>",
                            "<tr><td>12</td><td>189</td><td>2</td></tr>",
                            "<tr><td>6</td><td>72</td><td>1</td></tr>",
                            "<tr><td>8</td><td>118</td><td>2</td></tr>",
                            "<tr><td>12</td><td>172</td><td>1</td></tr>",
                            "<tr><td>6</td><td>78</td><td>2</td></tr>",
                            "<tr><td>6</td><td>66</td><td>3</td></tr>",
                            "<tr><td>4</td><td>32</td><td>2</td></tr>",
                            "<tr><td>8</td><td>126</td><td>1</td></tr>",
                            "<tr><td>4</td><td>26</td><td>2</td></tr>",
                            "<tr><td>1</td><td>12</td><td>2</td></tr>",
                            "<tr><td>12</td><td>178</td><td>3</td></tr>",
                            "<tr><td>4</td><td>35</td><td>1</td></tr>",
                            "<tr><td>8</td><td>129</td><td>2</td></tr>",
                            "<tr><td>10</td><td>155</td><td>2</td></tr>",
                            "<tr><td>8</td><td>106</td><td>1</td></tr>",
                            "<tr><td>7</td><td>86</td><td>2</td></tr>",
                            "<tr><td>10</td><td>135</td><td>2</td></tr>",
                            "<tr><td>6</td><td>63</td><td>1</td></tr>",
                            "<tr><td>8</td><td>112</td><td>3</td></tr>",
                            "<tr><td>1</td><td>6</td><td>2</td></tr>",
                            "<tr><td>5</td><td>43</td><td>2</td></tr>",
                            "<tr><td>6</td><td>55</td><td>3</td></tr>",
                            "<tr><td>8</td><td>98</td><td>1</td></tr>",
                            "<tr><td>5</td><td>49</td><td>2</td></tr>",
                            "<tr><td>10</td><td>149</td><td>1</td></tr>",
                            "<tr><td>12</td><td>198</td><td>2</td></tr>",
                            "<tr><td>12</td><td>190</td><td>1</td></tr>",
                            "<tr><td>10</td><td>144</td><td>3</td></tr>",
                            "<tr><td>12</td><td>167</td><td>2</td></tr>",
                            "<tr><td>12</td><td>184</td><td>1</td></tr>",
                            "<tr><td>8</td><td>113</td><td>4</td></tr>",
                            "<tr><td>6</td><td>67</td><td>3</td></tr>",
                            "<tr><td>3</td><td>21</td><td>2</td></tr>",
                            "<tr><td>4</td><td>27</td><td>3</td></tr>",
                            "<tr><td>8</td><td>127</td><td>2</td></tr>",
                            "<tr><td>8</td><td>121</td><td>2</td></tr>",
                            "<tr><td>12</td><td>173</td><td>1</td></tr>",
                            "<tr><td>8</td><td>107</td><td>2</td></tr>",
                            "<tr><td>10</td><td>156</td><td>3</td></tr>",
                            "<tr><td>6</td><td>58</td><td>2</td></tr>",
                            "<tr><td>9</td><td>130</td><td>1</td></tr>",
                            "<tr><td>6</td><td>81</td><td>1</td></tr>",
                            "<tr><td>6</td><td>64</td><td>2</td></tr>",
                            "<tr><td>7</td><td>87</td><td>2</td></tr>",
                            "<tr><td>4</td><td>38</td><td>2</td></tr>",
                            "<tr><td>8</td><td>101</td><td>2</td></tr>",
                            "<tr><td>1</td><td>7</td><td>1</td></tr>",
                            "<tr><td>5</td><td>44</td><td>3</td></tr>",
                            "<tr><td>12</td><td>193</td><td>4</td></tr>",
                            "<tr><td>10</td><td>150</td><td>2</td></tr>",
                            "<tr><td>1</td><td>1</td><td>2</td></tr>",
                            "<tr><td>6</td><td>50</td><td>1</td></tr>",
                            "<tr><td>3</td><td>24</td><td>3</td></tr>",
                            "<tr><td>5</td><td>47</td><td>1</td></tr>",
                            "<tr><td>10</td><td>141</td><td>2</td></tr>",
                            "<tr><td>6</td><td>70</td><td>2</td></tr>",
                            "<tr><td>8</td><td>93</td><td>3</td></tr>",
                            "<tr><td>12</td><td>187</td><td>2</td></tr>",
                            "<tr><td>11</td><td>164</td><td>2</td></tr>",
                            "<tr><td>4</td><td>30</td><td>2</td></tr>",
                            "<tr><td>3</td><td>18</td><td>3</td></tr>",
                            "<tr><td>12</td><td>170</td><td>1</td></tr>",
                            "<tr><td>12</td><td>176</td><td>3</td></tr>",
                            "<tr><td>8</td><td>124</td><td>2</td></tr>",
                            "<tr><td>6</td><td>84</td><td>1</td></tr>",
                            "<tr><td>10</td><td>153</td><td>2</td></tr>",
                            "<tr><td>8</td><td>110</td><td>1</td></tr>",
                            "<tr><td>1</td><td>10</td><td>2</td></tr>",
                            "<tr><td>9</td><td>133</td><td>2</td></tr>",
                            "<tr><td>6</td><td>61</td><td>2</td></tr>",
                            "<tr><td>12</td><td>196</td><td>2</td></tr>",
                            "<tr><td>7</td><td>90</td><td>2</td></tr>",
                            "<tr><td>5</td><td>41</td><td>3</td></tr>",
                            "<tr><td>8</td><td>104</td><td>2</td></tr>",
                            "<tr><td>1</td><td>4</td><td>1</td></tr>",
                            "<tr><td>10</td><td>147</td><td>2</td></tr>",
                            "<tr><td>8</td><td>119</td><td>1</td></tr>",
                            "<tr><td>8</td><td>96</td><td>2</td></tr>",
                            "<tr><td>12</td><td>165</td><td>1</td></tr>",
                            "<tr><td>10</td><td>142</td><td>2</td></tr>",
                            "<tr><td>12</td><td>188</td><td>2</td></tr>",
                            "<tr><td>8</td><td>125</td><td>3</td></tr>",
                            "<tr><td>6</td><td>65</td><td>2</td></tr>",
                            "<tr><td>6</td><td>79</td><td>2</td></tr>",
                            "<tr><td>3</td><td>19</td><td>2</td></tr>",
                            "<tr><td>12</td><td>171</td><td>1</td></tr>",
                            "<tr><td>6</td><td>73</td><td>2</td></tr>",
                            "<tr><td>4</td><td>25</td><td>3</td></tr>",
                            "<tr><td>4</td><td>36</td><td>3</td></tr>",
                            "<tr><td>8</td><td>105</td><td>2</td></tr>",
                            "<tr><td>12</td><td>179</td><td>3</td></tr>",
                            "<tr><td>7</td><td>85</td><td>2</td></tr>",
                            "<tr><td>10</td><td>136</td><td>1</td></tr>",
                            "<tr><td>6</td><td>62</td><td>1</td></tr>",
                            "<tr><td>2</td><td>13</td><td>2</td></tr>",
                            "<tr><td>5</td><td>42</td><td>2</td></tr>",
                            "<tr><td>1</td><td>5</td><td>1</td></tr>",
                            "<tr><td>6</td><td>56</td><td>1</td></tr>",
                            "<tr><td>8</td><td>99</td><td>2</td></tr>",
                            "<tr><td>10</td><td>148</td><td>1</td></tr>",
                            "<tr><td>12</td><td>168</td><td>3</td></tr>",
                            "<tr><td>12</td><td>191</td><td>2</td></tr>",
                            "<tr><td>8</td><td>116</td><td>2</td></tr>",
                            "<tr><td>10</td><td>139</td><td>2</td></tr>",
                            "<tr><td>11</td><td>162</td><td>2</td></tr>",
                            "<tr><td>12</td><td>185</td><td>3</td></tr>",
                            "<tr><td>8</td><td>128</td><td>2</td></tr>",
                            "<tr><td>8</td><td>122</td><td>3</td></tr>",
                            "<tr><td>3</td><td>22</td><td>3</td></tr>",
                            "<tr><td>6</td><td>76</td><td>1</td></tr>",
                            "<tr><td>6</td><td>59</td><td>2</td></tr>",
                            "<tr><td>8</td><td>108</td><td>1</td></tr>",
                            "<tr><td>6</td><td>82</td><td>2</td></tr>",
                            "<tr><td>4</td><td>39</td><td>2</td></tr>",
                            "<tr><td>4</td><td>33</td><td>2</td></tr>",
                            "<tr><td>12</td><td>182</td><td>1</td></tr>",
                            "<tr><td>2</td><td>16</td><td>3</td></tr>",
                            "<tr><td>7</td><td>88</td><td>2</td></tr>",
                            "<tr><td>8</td><td>102</td><td>1</td></tr>",
                            "<tr><td>6</td><td>53</td><td>2</td></tr>",
                            "<tr><td>5</td><td>45</td><td>1</td></tr>",
                            "<tr><td>10</td><td>145</td><td>2</td></tr>",
                            "<tr><td>1</td><td>2</td><td>3</td></tr>",
                            "<tr><td>5</td><td>48</td><td>2</td></tr>",
                            "<tr><td>6</td><td>71</td><td>2</td></tr>",
                            "<tr><td>8</td><td>94</td><td>1</td></tr>",
                            "<tr><td>8</td><td>117</td><td>3</td></tr>",
                            "<tr><td>10</td><td>140</td><td>2</td></tr>",
                            "<tr><td>11</td><td>163</td><td>1</td></tr>",
                            "<tr><td>12</td><td>186</td><td>3</td></tr>",
                            "<tr><td>6</td><td>77</td><td>2</td></tr>",
                            "<tr><td>3</td><td>17</td><td>2</td></tr>",
                            "<tr><td>4</td><td>31</td><td>4</td></tr>",
                            "<tr><td>8</td><td>123</td><td>2</td></tr>",
                            "<tr><td>6</td><td>60</td><td>2</td></tr>",
                            "<tr><td>6</td><td>83</td><td>2</td></tr>",
                            "<tr><td>12</td><td>177</td><td>3</td></tr>",
                            "<tr><td>10</td><td>154</td><td>2</td></tr>",
                            "<tr><td>9</td><td>134</td><td>2</td></tr>",
                            "<tr><td>4</td><td>34</td><td>2</td></tr>",
                            "<tr><td>5</td><td>40</td><td>2</td></tr>",
                            "<tr><td>1</td><td>11</td><td>2</td></tr>",
                            "<tr><td>12</td><td>183</td><td>2</td></tr>",
                            "<tr><td>8</td><td>111</td><td>2</td></tr>",
                            "<tr><td>11</td><td>160</td><td>3</td></tr>",
                            "<tr><td>6</td><td>54</td><td>2</td></tr>",
                            "<tr><td>8</td><td>91</td><td>1</td></tr>",
                            "<tr><td>8</td><td>103</td><td>2</td></tr>",
                            "<tr><td>8</td><td>97</td><td>2</td></tr>",
                            "<tr><td>12</td><td>197</td><td>2</td></tr>",
                            "<tr><td>10</td><td>143</td><td>3</td></tr>",
                            "<tr><td>8</td><td>120</td><td>2</td></tr>",
                            "<tr><td>12</td><td>166</td><td>2</td></tr>",
                            "<tr><td>8</td><td>114</td><td>2</td></tr>",
                            "<tr><td>3</td><td>20</td><td>2</td></tr>",
                            "<tr><td>6</td><td>68</td><td>4</td></tr>",
                            "<tr><td>6</td><td>80</td><td>2</td></tr>",
                            "<tr><td>4</td><td>28</td><td>2</td></tr>",
                            "<tr><td>12</td><td>174</td><td>1</td></tr>",
                            "<tr><td>6</td><td>74</td><td>3</td></tr>",
                            "<tr><td>9</td><td>131</td><td>1</td></tr>",
                            "<tr><td>12</td><td>180</td><td>3</td></tr>",
                            "<tr><td>6</td><td>57</td><td>1</td></tr>",
                            "<tr><td>10</td><td>157</td><td>1</td></tr>",
                            "<tr><td>2</td><td>14</td><td>3</td></tr>",
                            "<tr><td>4</td><td>37</td><td>1</td></tr>",
                            "<tr><td>10</td><td>137</td><td>2</td></tr>",
                            "<tr><td>1</td><td>8</td><td>2</td></tr>",
                            "<tr><td>6</td><td>51</td><td>2</td></tr>",
                            "<tr><td>10</td><td>151</td><td>1</td></tr>",
                            "<tr><td>12</td><td>194</td><td>3</td></tr>",
                            "<tr><td>8</td><td>100</td><td>2</td></tr>",
                            "</table>"
                        ]
                    }
                }
            ],
            "execution_count": 5
        },
        {
            "cell_type": "markdown",
            "source": [
                "A Szoba tábla Ferohely oszlopára végezzük el a következő számításokat:\n",
                "\n",
                "- Különböző értékek száma\n",
                "- Minimum, maximum, átlag\n",
                "- Null és Not null értékek százalékos aránya"
            ],
            "metadata": {
                "azdata_cell_guid": "b466a117-7495-4914-b0cf-b953b451dd2b"
            },
            "attachments": {}
        },
        {
            "cell_type": "code",
            "source": [
                "SELECT COUNT(DISTINCT Ferohely) AS Kulonbozo_ertekek,\r\n",
                "        MIN(Ferohely) AS Minimum,\r\n",
                "    MAX(Ferohely) AS Maximum,\r\n",
                "    AVG(Ferohely) AS Atlag,\r\n",
                "     (COUNT(*) - COUNT(Ferohely)) * 100.0 / COUNT(*) AS Null_ertekek_szazaleka,\r\n",
                "    COUNT(Ferohely) * 100.0 / COUNT(*) AS Not_null_ertekek_szazaleka\r\n",
                "FROM Szoba;\r\n",
                "\r\n",
                "\r\n",
                ""
            ],
            "metadata": {
                "azdata_cell_guid": "4d0a42f1-c431-4893-9200-08636f57c8a7",
                "language": "sql"
            },
            "outputs": [
                {
                    "output_type": "display_data",
                    "data": {
                        "text/html": "(1 row affected)"
                    },
                    "metadata": {}
                },
                {
                    "output_type": "display_data",
                    "data": {
                        "text/html": "Total execution time: 00:00:00.006"
                    },
                    "metadata": {}
                },
                {
                    "output_type": "execute_result",
                    "metadata": {},
                    "execution_count": 6,
                    "data": {
                        "application/vnd.dataresource+json": {
                            "schema": {
                                "fields": [
                                    {
                                        "name": "Kulonbozo_ertekek"
                                    },
                                    {
                                        "name": "Minimum"
                                    },
                                    {
                                        "name": "Maximum"
                                    },
                                    {
                                        "name": "Atlag"
                                    },
                                    {
                                        "name": "Null_ertekek_szazaleka"
                                    },
                                    {
                                        "name": "Not_null_ertekek_szazaleka"
                                    }
                                ]
                            },
                            "data": [
                                {
                                    "Kulonbozo_ertekek": "4",
                                    "Minimum": "1",
                                    "Maximum": "4",
                                    "Atlag": "2",
                                    "Null_ertekek_szazaleka": "0.000000000000",
                                    "Not_null_ertekek_szazaleka": "100.000000000000"
                                }
                            ]
                        },
                        "text/html": [
                            "<table>",
                            "<tr><th>Kulonbozo_ertekek</th><th>Minimum</th><th>Maximum</th><th>Atlag</th><th>Null_ertekek_szazaleka</th><th>Not_null_ertekek_szazaleka</th></tr>",
                            "<tr><td>4</td><td>1</td><td>4</td><td>2</td><td>0.000000000000</td><td>100.000000000000</td></tr>",
                            "</table>"
                        ]
                    }
                }
            ],
            "execution_count": 6
        },
        {
            "cell_type": "markdown",
            "source": [
                "Készítsen lekérdezést, amely megjeleníti, hogy szálláshelyenként, azon belül a pótágyak száma szerint hány főre foglaltak összesen (felnőtt + gyermek)!\n",
                "\n",
                "- Jelenjenek meg a részösszegek és a végösszeg is!"
            ],
            "metadata": {
                "azdata_cell_guid": "67677e23-3220-43da-aafb-70fdc7051000"
            },
            "attachments": {}
        },
        {
            "cell_type": "code",
            "source": [
                "SELECT\r\n",
                "    szh.SZALLAS_NEV,\r\n",
                "    IIF(sz.potagy IS NULL,\r\n",
                "       'Végösszeg', CAST(sz.potagy AS NVARCHAR(10))),\r\n",
                "    SUM(f.FELNOTT_SZAM + f.GYERMEK_SZAM) AS osszes_fo\r\n",
                "FROM\r\n",
                "    Foglalas f JOIN Szoba sz ON f.SZOBA_FK = sz.SZOBA_ID\r\n",
                "                JOIN Szallashely szh ON sz.SZALLAS_FK = szh.SZALLAS_ID\r\n",
                "GROUP BY\r\n",
                "    GROUPING SETS (\r\n",
                "        (szh.SZALLAS_NEV, sz.POTAGY),\r\n",
                "        (szh.SZALLAS_NEV)\r\n",
                "    )\r\n",
                "ORDER BY\r\n",
                "    szh.SZALLAS_NEV,\r\n",
                "    sz.POTAGY"
            ],
            "metadata": {
                "azdata_cell_guid": "313e6dfa-5c30-4ef3-a704-e4ba4bcc0672",
                "language": "sql"
            },
            "outputs": [
                {
                    "output_type": "display_data",
                    "data": {
                        "text/html": "(40 rows affected)"
                    },
                    "metadata": {}
                },
                {
                    "output_type": "display_data",
                    "data": {
                        "text/html": "Total execution time: 00:00:00.016"
                    },
                    "metadata": {}
                },
                {
                    "output_type": "execute_result",
                    "metadata": {},
                    "execution_count": 7,
                    "data": {
                        "application/vnd.dataresource+json": {
                            "schema": {
                                "fields": [
                                    {
                                        "name": "SZALLAS_NEV"
                                    },
                                    {
                                        "name": "(No column name)"
                                    },
                                    {
                                        "name": "osszes_fo"
                                    }
                                ]
                            },
                            "data": [
                                {
                                    "SZALLAS_NEV": "Családi Ház",
                                    "(No column name)": "Végösszeg",
                                    "osszes_fo": "52"
                                },
                                {
                                    "SZALLAS_NEV": "Családi Ház",
                                    "(No column name)": "0",
                                    "osszes_fo": "10"
                                },
                                {
                                    "SZALLAS_NEV": "Családi Ház",
                                    "(No column name)": "1",
                                    "osszes_fo": "31"
                                },
                                {
                                    "SZALLAS_NEV": "Családi Ház",
                                    "(No column name)": "2",
                                    "osszes_fo": "11"
                                },
                                {
                                    "SZALLAS_NEV": "Fortuna Apartman",
                                    "(No column name)": "Végösszeg",
                                    "osszes_fo": "106"
                                },
                                {
                                    "SZALLAS_NEV": "Fortuna Apartman",
                                    "(No column name)": "0",
                                    "osszes_fo": "18"
                                },
                                {
                                    "SZALLAS_NEV": "Fortuna Apartman",
                                    "(No column name)": "1",
                                    "osszes_fo": "52"
                                },
                                {
                                    "SZALLAS_NEV": "Fortuna Apartman",
                                    "(No column name)": "2",
                                    "osszes_fo": "36"
                                },
                                {
                                    "SZALLAS_NEV": "Fortuna Panzió",
                                    "(No column name)": "Végösszeg",
                                    "osszes_fo": "311"
                                },
                                {
                                    "SZALLAS_NEV": "Fortuna Panzió",
                                    "(No column name)": "0",
                                    "osszes_fo": "158"
                                },
                                {
                                    "SZALLAS_NEV": "Fortuna panzió",
                                    "(No column name)": "1",
                                    "osszes_fo": "113"
                                },
                                {
                                    "SZALLAS_NEV": "Fortuna panzió",
                                    "(No column name)": "2",
                                    "osszes_fo": "40"
                                },
                                {
                                    "SZALLAS_NEV": "Gold Hotel",
                                    "(No column name)": "Végösszeg",
                                    "osszes_fo": "428"
                                },
                                {
                                    "SZALLAS_NEV": "Gold Hotel",
                                    "(No column name)": "0",
                                    "osszes_fo": "216"
                                },
                                {
                                    "SZALLAS_NEV": "Gold Hotel",
                                    "(No column name)": "1",
                                    "osszes_fo": "93"
                                },
                                {
                                    "SZALLAS_NEV": "Gold Hotel",
                                    "(No column name)": "2",
                                    "osszes_fo": "119"
                                },
                                {
                                    "SZALLAS_NEV": "Hotel Három Hattyú",
                                    "(No column name)": "Végösszeg",
                                    "osszes_fo": "504"
                                },
                                {
                                    "SZALLAS_NEV": "Hotel Három Hattyú",
                                    "(No column name)": "0",
                                    "osszes_fo": "183"
                                },
                                {
                                    "SZALLAS_NEV": "Hotel Három Hattyú",
                                    "(No column name)": "1",
                                    "osszes_fo": "258"
                                },
                                {
                                    "SZALLAS_NEV": "Hotel Három Hattyú",
                                    "(No column name)": "2",
                                    "osszes_fo": "63"
                                },
                                {
                                    "SZALLAS_NEV": "Jáde panzió",
                                    "(No column name)": "Végösszeg",
                                    "osszes_fo": "66"
                                },
                                {
                                    "SZALLAS_NEV": "Jáde panzió",
                                    "(No column name)": "0",
                                    "osszes_fo": "66"
                                },
                                {
                                    "SZALLAS_NEV": "Kentaur Hotel",
                                    "(No column name)": "Végösszeg",
                                    "osszes_fo": "420"
                                },
                                {
                                    "SZALLAS_NEV": "Kentaur Hotel",
                                    "(No column name)": "0",
                                    "osszes_fo": "168"
                                },
                                {
                                    "SZALLAS_NEV": "Kentaur Hotel",
                                    "(No column name)": "1",
                                    "osszes_fo": "224"
                                },
                                {
                                    "SZALLAS_NEV": "Kentaur Hotel",
                                    "(No column name)": "2",
                                    "osszes_fo": "28"
                                },
                                {
                                    "SZALLAS_NEV": "Lagúna Hotel",
                                    "(No column name)": "Végösszeg",
                                    "osszes_fo": "291"
                                },
                                {
                                    "SZALLAS_NEV": "Lagúna Hotel",
                                    "(No column name)": "0",
                                    "osszes_fo": "105"
                                },
                                {
                                    "SZALLAS_NEV": "Lagúna Hotel",
                                    "(No column name)": "1",
                                    "osszes_fo": "150"
                                },
                                {
                                    "SZALLAS_NEV": "Lagúna Hotel",
                                    "(No column name)": "2",
                                    "osszes_fo": "36"
                                },
                                {
                                    "SZALLAS_NEV": "Partiszél Vendégház",
                                    "(No column name)": "Végösszeg",
                                    "osszes_fo": "63"
                                },
                                {
                                    "SZALLAS_NEV": "Partiszél Vendégház",
                                    "(No column name)": "0",
                                    "osszes_fo": "31"
                                },
                                {
                                    "SZALLAS_NEV": "Partiszél Vendégház",
                                    "(No column name)": "1",
                                    "osszes_fo": "17"
                                },
                                {
                                    "SZALLAS_NEV": "Partiszél Vendégház",
                                    "(No column name)": "2",
                                    "osszes_fo": "15"
                                },
                                {
                                    "SZALLAS_NEV": "Sába-Ház",
                                    "(No column name)": "Végösszeg",
                                    "osszes_fo": "166"
                                },
                                {
                                    "SZALLAS_NEV": "Sába-Ház",
                                    "(No column name)": "0",
                                    "osszes_fo": "67"
                                },
                                {
                                    "SZALLAS_NEV": "Sába-Ház",
                                    "(No column name)": "1",
                                    "osszes_fo": "99"
                                },
                                {
                                    "SZALLAS_NEV": "Szieszta Apartmanház",
                                    "(No column name)": "Végösszeg",
                                    "osszes_fo": "83"
                                },
                                {
                                    "SZALLAS_NEV": "Szieszta Apartmanház",
                                    "(No column name)": "0",
                                    "osszes_fo": "64"
                                },
                                {
                                    "SZALLAS_NEV": "Szieszta Apartmanház",
                                    "(No column name)": "1",
                                    "osszes_fo": "19"
                                }
                            ]
                        },
                        "text/html": [
                            "<table>",
                            "<tr><th>SZALLAS_NEV</th><th>(No column name)</th><th>osszes_fo</th></tr>",
                            "<tr><td>Családi Ház</td><td>Végösszeg</td><td>52</td></tr>",
                            "<tr><td>Családi Ház</td><td>0</td><td>10</td></tr>",
                            "<tr><td>Családi Ház</td><td>1</td><td>31</td></tr>",
                            "<tr><td>Családi Ház</td><td>2</td><td>11</td></tr>",
                            "<tr><td>Fortuna Apartman</td><td>Végösszeg</td><td>106</td></tr>",
                            "<tr><td>Fortuna Apartman</td><td>0</td><td>18</td></tr>",
                            "<tr><td>Fortuna Apartman</td><td>1</td><td>52</td></tr>",
                            "<tr><td>Fortuna Apartman</td><td>2</td><td>36</td></tr>",
                            "<tr><td>Fortuna Panzió</td><td>Végösszeg</td><td>311</td></tr>",
                            "<tr><td>Fortuna Panzió</td><td>0</td><td>158</td></tr>",
                            "<tr><td>Fortuna panzió</td><td>1</td><td>113</td></tr>",
                            "<tr><td>Fortuna panzió</td><td>2</td><td>40</td></tr>",
                            "<tr><td>Gold Hotel</td><td>Végösszeg</td><td>428</td></tr>",
                            "<tr><td>Gold Hotel</td><td>0</td><td>216</td></tr>",
                            "<tr><td>Gold Hotel</td><td>1</td><td>93</td></tr>",
                            "<tr><td>Gold Hotel</td><td>2</td><td>119</td></tr>",
                            "<tr><td>Hotel Három Hattyú</td><td>Végösszeg</td><td>504</td></tr>",
                            "<tr><td>Hotel Három Hattyú</td><td>0</td><td>183</td></tr>",
                            "<tr><td>Hotel Három Hattyú</td><td>1</td><td>258</td></tr>",
                            "<tr><td>Hotel Három Hattyú</td><td>2</td><td>63</td></tr>",
                            "<tr><td>Jáde panzió</td><td>Végösszeg</td><td>66</td></tr>",
                            "<tr><td>Jáde panzió</td><td>0</td><td>66</td></tr>",
                            "<tr><td>Kentaur Hotel</td><td>Végösszeg</td><td>420</td></tr>",
                            "<tr><td>Kentaur Hotel</td><td>0</td><td>168</td></tr>",
                            "<tr><td>Kentaur Hotel</td><td>1</td><td>224</td></tr>",
                            "<tr><td>Kentaur Hotel</td><td>2</td><td>28</td></tr>",
                            "<tr><td>Lagúna Hotel</td><td>Végösszeg</td><td>291</td></tr>",
                            "<tr><td>Lagúna Hotel</td><td>0</td><td>105</td></tr>",
                            "<tr><td>Lagúna Hotel</td><td>1</td><td>150</td></tr>",
                            "<tr><td>Lagúna Hotel</td><td>2</td><td>36</td></tr>",
                            "<tr><td>Partiszél Vendégház</td><td>Végösszeg</td><td>63</td></tr>",
                            "<tr><td>Partiszél Vendégház</td><td>0</td><td>31</td></tr>",
                            "<tr><td>Partiszél Vendégház</td><td>1</td><td>17</td></tr>",
                            "<tr><td>Partiszél Vendégház</td><td>2</td><td>15</td></tr>",
                            "<tr><td>Sába-Ház</td><td>Végösszeg</td><td>166</td></tr>",
                            "<tr><td>Sába-Ház</td><td>0</td><td>67</td></tr>",
                            "<tr><td>Sába-Ház</td><td>1</td><td>99</td></tr>",
                            "<tr><td>Szieszta Apartmanház</td><td>Végösszeg</td><td>83</td></tr>",
                            "<tr><td>Szieszta Apartmanház</td><td>0</td><td>64</td></tr>",
                            "<tr><td>Szieszta Apartmanház</td><td>1</td><td>19</td></tr>",
                            "</table>"
                        ]
                    }
                }
            ],
            "execution_count": 7
        },
        {
            "cell_type": "markdown",
            "source": [
                "Oldja meg REDIS-ben a következő feladatokat:\n",
                "\n",
                "- hozzon létre egy string kulcsot, amely egy könyvtár nevét tartalmazza\n",
                "- hozzon létre egy hash kulcsot, amely egy könyv legalább 3 adatát tartalmazza\n",
                "- hozzon létre egy set kulcsot, amely a könyvtárban lévő könyvek műfajait tartalmazza (legalább 3)\n",
                "- hozzon létre egy list kulcsot, amely a kikölcsönzött könyvek címeit tartalmazza (legalább 3)\n",
                "- hozzon létre egy sorted set kulcsot, amely az adott könyvek címeit és a könyv kölcsönzéseinek számát tartalmazza (legalább 3)"
            ],
            "metadata": {
                "azdata_cell_guid": "fbe16b8c-6e13-4e08-a790-104525cfac68"
            },
            "attachments": {}
        },
        {
            "cell_type": "code",
            "source": [
                "SET konyvtar \"Könyvtár neve\"\r\n",
                "HSET konyv:1 cim \"Könyv címe\" iro \"Könyv Írója\" kiadas_ev \"2000\"\r\n",
                "SADD mufajok \"Műfaj1\" \"Műfaj2\" \"Műfaj3\"\r\n",
                "RPUSH kolcsonzott \"Könyv1\" \"Könyv2\" \"Könyv3\"\r\n",
                "ZADD kolcson_szam 5 \"Könyv1\" 3 \"Könyv2\" 4 \"Könyv3\"\r\n",
                ""
            ],
            "metadata": {
                "azdata_cell_guid": "f5b52379-d42f-4127-a972-186d4916ea92",
                "language": "sql"
            },
            "outputs": [],
            "execution_count": null
        },
        {
            "cell_type": "markdown",
            "source": [
                "Cassandra CQL Shellben hozza létre a következő táblát:\n",
                "\n",
                "STUDENT(ID, Nev, Teljesitett\\_felevek, Eredmenyek, Nyelvtudas)\n",
                "\n",
                "- Az ID legyen az elsődleges kulcs\n",
                "- A Teljesitett félévek legyen LIST, tartalma egész számok, pl: 1, 2, 3\n",
                "- Az Eredmenyek legyen MAP, tartalma, hogy melyik félévben mennyi volt az átlag, pl: 1: 3,00, 2: 4.55, 3: 4,10\n",
                "- A Nyelvtudas legyen SET, tartalma a nyelvek megnevezése\n",
                "\n",
                "Vigyen fel legalább 2 rekordot!"
            ],
            "metadata": {
                "azdata_cell_guid": "46c3d37c-bac7-4d22-81a1-7a0c12b89872"
            },
            "attachments": {}
        },
        {
            "cell_type": "code",
            "source": [
                "CREATE TABLE STUDENT(\r\n",
                "    ID int PRIMARY KEY,\r\n",
                "    nev text,\r\n",
                "    teljesitett_felevek list<text>,\r\n",
                "    eredmenyek map<int, float>,\r\n",
                "    nyelvtudas set<text>\r\n",
                ")\r\n",
                "\r\n",
                "INSERT INTO STUDENT (ID, Nev, Teljesitett_felevek, Eredmenyek, Nyelvtudas)\r\n",
                "VALUES (int(), 'Kiss Anna', [1, 2, 3], {1: 3.00, 2: 4.55, 3: 4.10}, {'angol', 'német'});\r\n",
                "\r\n",
                "INSERT INTO STUDENT (ID, Nev, Teljesitett_felevek, Eredmenyek, Nyelvtudas)\r\n",
                "VALUES (int(), 'Nagy Balázs', [1, 2, 3], {1: 3.00, 2: 4.55, 3: 4.10}, {'francia', 'német'});"
            ],
            "metadata": {
                "azdata_cell_guid": "65a274dc-1878-439b-8e97-285f7f53c7ed",
                "language": "sql"
            },
            "outputs": [],
            "execution_count": null
        },
        {
            "cell_type": "markdown",
            "source": [
                "A Neo4j Sandbox-ban vagy a Desktopban jelenítsük meg azon személyeket, akik egy filmben szerepeltek Tom Hanks-sel.\n",
                "\n",
                "- Egy szereplő neve csak egyszer jelenjen meg\n",
                "- Tom Hanks ne legyen benne a listában"
            ],
            "metadata": {
                "azdata_cell_guid": "8bfe89bb-6c75-4b1c-a2b7-b14c911c73e4"
            },
            "attachments": {}
        },
        {
            "cell_type": "code",
            "source": [
                "MATCH (p:Person {name: \"Tom Hanks\"})-[:ACTED_IN]->(movie:Movie)<-[:ACTED_IN]-(p2:Person)\r\n",
                "WHERE p2.name <> \"Tom Hanks\"\r\n",
                "RETURN DISTINCT p2.name"
            ],
            "metadata": {
                "azdata_cell_guid": "2dc6de2d-febc-4f6a-b458-bb3775a94d7e",
                "language": "sql"
            },
            "outputs": [],
            "execution_count": null
        }
    ]
}